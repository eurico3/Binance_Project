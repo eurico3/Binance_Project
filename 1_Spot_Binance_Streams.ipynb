{
 "cells": [
  {
   "cell_type": "code",
   "execution_count": 1,
   "id": "2588512e-647a-42ec-a82a-5ee06c470898",
   "metadata": {},
   "outputs": [],
   "source": [
    "import websocket\n",
    "import json"
   ]
  },
  {
   "cell_type": "code",
   "execution_count": 2,
   "id": "b909ef6d-e542-46f3-8a66-e23585858171",
   "metadata": {},
   "outputs": [],
   "source": [
    "def on_message(ws, message):\n",
    "    data = json.loads(message)\n",
    "    print(data)"
   ]
  },
  {
   "cell_type": "code",
   "execution_count": 3,
   "id": "e2f814ce-8ecd-4a44-a808-ebcc3d2f358e",
   "metadata": {},
   "outputs": [],
   "source": [
    "def on_error(ws, error):\n",
    "    print(f\"Error: {error}\")"
   ]
  },
  {
   "cell_type": "code",
   "execution_count": 4,
   "id": "43211eb4-b527-4cae-a531-8f6072ba1556",
   "metadata": {},
   "outputs": [],
   "source": [
    "def on_close(ws, close_status_code, close_msg):\n",
    "    print(\"Closed\")"
   ]
  },
  {
   "cell_type": "markdown",
   "id": "4fb14246-203d-4a71-92b6-4cba56ee5d02",
   "metadata": {},
   "source": [
    "# Aggregate Trade Streams\n",
    "The Aggregate Trade Streams push trade information that is aggregated for a single taker order. <br>\n",
    "Stream Name : symbol@aggTrade\" <br>\n",
    "Update Speed : Real Time"
   ]
  },
  {
   "cell_type": "code",
   "execution_count": 5,
   "id": "ea9dce2a-2df9-4f28-ad07-4d2fe2bace89",
   "metadata": {},
   "outputs": [],
   "source": [
    "url = 'wss://stream.binance.com:9443/ws/'"
   ]
  },
  {
   "cell_type": "code",
   "execution_count": 12,
   "id": "90852f36-c49f-4c0a-9f31-442419463dab",
   "metadata": {},
   "outputs": [],
   "source": [
    "symbol = 'ethbtc'"
   ]
  },
  {
   "cell_type": "code",
   "execution_count": 13,
   "id": "2c9e28d8-4380-4ade-a8eb-32552c25d8fc",
   "metadata": {},
   "outputs": [],
   "source": [
    "stream = '@aggTrade'"
   ]
  },
  {
   "cell_type": "code",
   "execution_count": 14,
   "id": "efdc92f9-5ed7-4997-871b-621abd19cd83",
   "metadata": {},
   "outputs": [],
   "source": [
    "long_url = url+symbol+stream"
   ]
  },
  {
   "cell_type": "code",
   "execution_count": 15,
   "id": "5e8b4227-a349-42e6-85cd-ac22671b8cd5",
   "metadata": {},
   "outputs": [
    {
     "name": "stdout",
     "output_type": "stream",
     "text": [
      "wss://stream.binance.com:9443/ws/ethbtc@aggTrade\n"
     ]
    }
   ],
   "source": [
    "print(long_url)"
   ]
  },
  {
   "cell_type": "code",
   "execution_count": 16,
   "id": "af42d2e5-53ce-4d89-b3f1-d8908fd90ff9",
   "metadata": {},
   "outputs": [],
   "source": [
    "ws = websocket.WebSocketApp(long_url, on_message=on_message, on_error=on_error, on_close=on_close)"
   ]
  },
  {
   "cell_type": "code",
   "execution_count": 17,
   "id": "e3a2bb1a-c41f-4ad9-9984-380125496012",
   "metadata": {},
   "outputs": [
    {
     "name": "stdout",
     "output_type": "stream",
     "text": [
      "{'e': 'aggTrade', 'E': 1712800464379, 's': 'ETHBTC', 'a': 359950089, 'p': '0.05002000', 'q': '0.02000000', 'f': 440162487, 'l': 440162487, 'T': 1712800464379, 'm': False, 'M': True}\n",
      "{'e': 'aggTrade', 'E': 1712800468858, 's': 'ETHBTC', 'a': 359950090, 'p': '0.05001000', 'q': '1.74960000', 'f': 440162488, 'l': 440162506, 'T': 1712800468857, 'm': True, 'M': True}\n",
      "{'e': 'aggTrade', 'E': 1712800470381, 's': 'ETHBTC', 'a': 359950091, 'p': '0.05002000', 'q': '0.02000000', 'f': 440162507, 'l': 440162507, 'T': 1712800470380, 'm': False, 'M': True}\n",
      "{'e': 'aggTrade', 'E': 1712800472500, 's': 'ETHBTC', 'a': 359950092, 'p': '0.05002000', 'q': '0.03250000', 'f': 440162508, 'l': 440162508, 'T': 1712800472500, 'm': False, 'M': True}\n",
      "{'e': 'aggTrade', 'E': 1712800473644, 's': 'ETHBTC', 'a': 359950093, 'p': '0.05001000', 'q': '0.02150000', 'f': 440162509, 'l': 440162509, 'T': 1712800473644, 'm': True, 'M': True}\n",
      "{'e': 'aggTrade', 'E': 1712800474702, 's': 'ETHBTC', 'a': 359950094, 'p': '0.05001000', 'q': '0.29900000', 'f': 440162510, 'l': 440162512, 'T': 1712800474702, 'm': True, 'M': True}\n",
      "{'e': 'aggTrade', 'E': 1712800476383, 's': 'ETHBTC', 'a': 359950095, 'p': '0.05002000', 'q': '0.02000000', 'f': 440162513, 'l': 440162513, 'T': 1712800476383, 'm': False, 'M': True}\n",
      "Error: \n",
      "Closed\n"
     ]
    },
    {
     "data": {
      "text/plain": [
       "True"
      ]
     },
     "execution_count": 17,
     "metadata": {},
     "output_type": "execute_result"
    }
   ],
   "source": [
    "ws.run_forever()"
   ]
  },
  {
   "cell_type": "markdown",
   "id": "7c165e14-29ff-4aa0-8cbf-1c738c2f13f8",
   "metadata": {},
   "source": [
    "### Payload:"
   ]
  },
  {
   "cell_type": "markdown",
   "id": "2f613463-3c5a-4614-b1c9-b9f75734a107",
   "metadata": {},
   "source": [
    "{\n",
    "  \"e\": \"aggTrade\",  // Event type <br>\n",
    "  \"E\": 1672515782136,   // Event time  <br>\n",
    "  \"s\": \"BNBBTC\",    // Symbol <br>\n",
    "  \"a\": 12345,       // Aggregate trade ID <br>\n",
    "  \"p\": \"0.001\",     // Price <br>\n",
    "  \"q\": \"100\",       // Quantity <br>\n",
    "  \"f\": 100,         // First trade ID <br>\n",
    "  \"l\": 105,         // Last trade ID <br>\n",
    "  \"T\": 1672515782136,   // Trade time <br>\n",
    "  \"m\": true,        // Is the buyer the market maker? <br>\n",
    "  \"M\": true         // Ignore <br>\n",
    "}"
   ]
  },
  {
   "cell_type": "code",
   "execution_count": null,
   "id": "4ba3621c-9cb1-4827-b6e2-615372e87a37",
   "metadata": {},
   "outputs": [],
   "source": []
  },
  {
   "cell_type": "markdown",
   "id": "ef34de7f-3c12-4dd1-a416-0ff7ec0bd390",
   "metadata": {},
   "source": [
    "# Trade Streams\n",
    "The trade streams push raw trade information, each trade has a unique buyer and seller <br>\n",
    "Stream Name : symbol@trade <br>\n",
    "Update Speed : real time"
   ]
  },
  {
   "cell_type": "code",
   "execution_count": 19,
   "id": "b69eec5b-bfdf-45d4-b93b-24cde5288605",
   "metadata": {},
   "outputs": [],
   "source": [
    "url = 'wss://stream.binance.com:9443/ws/'"
   ]
  },
  {
   "cell_type": "code",
   "execution_count": 20,
   "id": "67aa2bcd-4b39-4d72-9634-0809a7625ff7",
   "metadata": {},
   "outputs": [],
   "source": [
    "symbol = 'ethbtc'"
   ]
  },
  {
   "cell_type": "code",
   "execution_count": 21,
   "id": "c7466aea-8680-4868-9772-2c8f7b9138d2",
   "metadata": {},
   "outputs": [],
   "source": [
    "stream = '@trade'"
   ]
  },
  {
   "cell_type": "code",
   "execution_count": 22,
   "id": "094ffcc8-cef6-407d-9424-6838bfb8e19d",
   "metadata": {},
   "outputs": [],
   "source": [
    "long_url = url+symbol+stream"
   ]
  },
  {
   "cell_type": "code",
   "execution_count": 23,
   "id": "cdf66440-936a-4de8-a35d-9ced740b59ef",
   "metadata": {},
   "outputs": [],
   "source": [
    "ws = websocket.WebSocketApp(long_url, on_message=on_message, on_error=on_error, on_close=on_close)"
   ]
  },
  {
   "cell_type": "code",
   "execution_count": 24,
   "id": "d14c6407-fc35-4d8f-935a-2bf9505ee830",
   "metadata": {},
   "outputs": [
    {
     "name": "stdout",
     "output_type": "stream",
     "text": [
      "{'e': 'trade', 'E': 1712801076772, 's': 'ETHBTC', 't': 440162753, 'p': '0.05001000', 'q': '0.00350000', 'b': 3928496881, 'a': 3928496337, 'T': 1712801076772, 'm': False, 'M': True}\n",
      "{'e': 'trade', 'E': 1712801077028, 's': 'ETHBTC', 't': 440162754, 'p': '0.05001000', 'q': '0.00410000', 'b': 3928496882, 'a': 3928496337, 'T': 1712801077028, 'm': False, 'M': True}\n",
      "{'e': 'trade', 'E': 1712801086303, 's': 'ETHBTC', 't': 440162755, 'p': '0.05000000', 'q': '0.09880000', 'b': 3928398224, 'a': 3928496906, 'T': 1712801086303, 'm': True, 'M': True}\n",
      "{'e': 'trade', 'E': 1712801086303, 's': 'ETHBTC', 't': 440162756, 'p': '0.05000000', 'q': '0.08000000', 'b': 3928398239, 'a': 3928496906, 'T': 1712801086303, 'm': True, 'M': True}\n",
      "{'e': 'trade', 'E': 1712801086303, 's': 'ETHBTC', 't': 440162757, 'p': '0.05000000', 'q': '0.06000000', 'b': 3928398277, 'a': 3928496906, 'T': 1712801086303, 'm': True, 'M': True}\n",
      "{'e': 'trade', 'E': 1712801086303, 's': 'ETHBTC', 't': 440162758, 'p': '0.05000000', 'q': '0.15000000', 'b': 3928398281, 'a': 3928496906, 'T': 1712801086303, 'm': True, 'M': True}\n",
      "{'e': 'trade', 'E': 1712801086303, 's': 'ETHBTC', 't': 440162759, 'p': '0.05000000', 'q': '0.10970000', 'b': 3928398300, 'a': 3928496906, 'T': 1712801086303, 'm': True, 'M': True}\n",
      "{'e': 'trade', 'E': 1712801087738, 's': 'ETHBTC', 't': 440162760, 'p': '0.05001000', 'q': '0.02260000', 'b': 3928496914, 'a': 3928496337, 'T': 1712801087737, 'm': False, 'M': True}\n",
      "{'e': 'trade', 'E': 1712801087740, 's': 'ETHBTC', 't': 440162761, 'p': '0.05001000', 'q': '0.00560000', 'b': 3928496915, 'a': 3928496337, 'T': 1712801087739, 'm': False, 'M': True}\n",
      "Error: \n",
      "Closed\n"
     ]
    },
    {
     "data": {
      "text/plain": [
       "True"
      ]
     },
     "execution_count": 24,
     "metadata": {},
     "output_type": "execute_result"
    }
   ],
   "source": [
    "ws.run_forever()"
   ]
  },
  {
   "cell_type": "markdown",
   "id": "66b995f1-24a5-4268-972d-88be664588f6",
   "metadata": {},
   "source": [
    "### Payload:"
   ]
  },
  {
   "cell_type": "markdown",
   "id": "d9d7f1e6-0997-405a-a729-adf5ed490529",
   "metadata": {},
   "source": [
    "{\n",
    "  \"e\": \"trade\",     // Event type <br>\n",
    "  \"E\": 1672515782136,   // Event time <br>\n",
    "  \"s\": \"BNBBTC\",    // Symbol <br>\n",
    "  \"t\": 12345,       // Trade ID <br>\n",
    "  \"p\": \"0.001\",     // Price <br>\n",
    "  \"q\": \"100\",       // Quantity <br>\n",
    "  \"b\": 88,          // Buyer order ID <br>\n",
    "  \"a\": 50,          // Seller order ID <br>\n",
    "  \"T\": 1672515782136,   // Trade time <br>\n",
    "  \"m\": true,        // Is the buyer the market maker? <br>\n",
    "  \"M\": true         // Ignore <br>\n",
    "}"
   ]
  },
  {
   "cell_type": "code",
   "execution_count": null,
   "id": "0a17bb74-2c87-4b72-84e7-f4daa39360ab",
   "metadata": {},
   "outputs": [],
   "source": []
  },
  {
   "cell_type": "markdown",
   "id": "1685942f-db69-408c-b05e-f0f1449d2a20",
   "metadata": {},
   "source": [
    "# Kline / Candlestick Streams\n",
    "The Kline / Candlestick Stream push updates to the current klines/candlestick every secon> <br>\n",
    "Stream Name : symbol@kline_interval <br>\n",
    "Update speed : 1000ms for 1s , 20000ms for the other intervals <br>\n",
    "Intervals: <br>\n",
    "1s <br>\n",
    "1m <br>\n",
    "3m <br>\n",
    "5m <br>\n",
    "15m <br>\n",
    "30m <br>\n",
    "1h <br>\n",
    "2h <br>\n",
    "4h <br>\n",
    "6h <br>\n",
    "8h <br>\n",
    "12h <br>\n",
    "1d <br>\n",
    "3d <br>\n",
    "1w <br>\n",
    "1M <br>"
   ]
  },
  {
   "cell_type": "code",
   "execution_count": 27,
   "id": "1719f31d-9d57-41de-8dfd-24c7be29f993",
   "metadata": {},
   "outputs": [],
   "source": [
    "url = 'wss://stream.binance.com:9443/ws/'"
   ]
  },
  {
   "cell_type": "code",
   "execution_count": 28,
   "id": "afad192b-32e8-4c79-9696-1d91a00f6060",
   "metadata": {},
   "outputs": [],
   "source": [
    "symbol = 'ethbtc'"
   ]
  },
  {
   "cell_type": "code",
   "execution_count": 29,
   "id": "7d6d608c-28ac-4741-8a4e-c83ff2e37b0f",
   "metadata": {},
   "outputs": [],
   "source": [
    "stream = '@kline_'"
   ]
  },
  {
   "cell_type": "code",
   "execution_count": 30,
   "id": "0cebbe3a-2653-4204-ade0-656d39421474",
   "metadata": {},
   "outputs": [],
   "source": [
    "interval = '1s'"
   ]
  },
  {
   "cell_type": "code",
   "execution_count": 31,
   "id": "5196a95e-54ad-40d0-93f2-8392fac76d64",
   "metadata": {},
   "outputs": [],
   "source": [
    "long_url = url + symbol + stream + interval"
   ]
  },
  {
   "cell_type": "code",
   "execution_count": 32,
   "id": "210621d4-9a83-4e50-9763-7254914638bf",
   "metadata": {},
   "outputs": [
    {
     "name": "stdout",
     "output_type": "stream",
     "text": [
      "wss://stream.binance.com:9443/ws/ethbtc@kline_1s\n"
     ]
    }
   ],
   "source": [
    "print(long_url)"
   ]
  },
  {
   "cell_type": "code",
   "execution_count": 33,
   "id": "273bf149-b946-4101-85dc-c7dec2d64f05",
   "metadata": {},
   "outputs": [],
   "source": [
    "ws = websocket.WebSocketApp(long_url, on_message=on_message, on_error=on_error, on_close=on_close)"
   ]
  },
  {
   "cell_type": "code",
   "execution_count": 34,
   "id": "8b091874-6999-4d63-bb9b-1af6c0a4ab93",
   "metadata": {},
   "outputs": [
    {
     "name": "stdout",
     "output_type": "stream",
     "text": [
      "{'e': 'kline', 'E': 1712801496003, 's': 'ETHBTC', 'k': {'t': 1712801495000, 'T': 1712801495999, 's': 'ETHBTC', 'i': '1s', 'f': -1, 'L': -1, 'o': '0.05003000', 'c': '0.05003000', 'h': '0.05003000', 'l': '0.05003000', 'v': '0.00000000', 'n': 0, 'x': True, 'q': '0.00000000', 'V': '0.00000000', 'Q': '0.00000000', 'B': '0'}}\n",
      "{'e': 'kline', 'E': 1712801497004, 's': 'ETHBTC', 'k': {'t': 1712801496000, 'T': 1712801496999, 's': 'ETHBTC', 'i': '1s', 'f': -1, 'L': -1, 'o': '0.05003000', 'c': '0.05003000', 'h': '0.05003000', 'l': '0.05003000', 'v': '0.00000000', 'n': 0, 'x': True, 'q': '0.00000000', 'V': '0.00000000', 'Q': '0.00000000', 'B': '0'}}\n",
      "{'e': 'kline', 'E': 1712801498004, 's': 'ETHBTC', 'k': {'t': 1712801497000, 'T': 1712801497999, 's': 'ETHBTC', 'i': '1s', 'f': -1, 'L': -1, 'o': '0.05003000', 'c': '0.05003000', 'h': '0.05003000', 'l': '0.05003000', 'v': '0.00000000', 'n': 0, 'x': True, 'q': '0.00000000', 'V': '0.00000000', 'Q': '0.00000000', 'B': '0'}}\n",
      "{'e': 'kline', 'E': 1712801499004, 's': 'ETHBTC', 'k': {'t': 1712801498000, 'T': 1712801498999, 's': 'ETHBTC', 'i': '1s', 'f': -1, 'L': -1, 'o': '0.05003000', 'c': '0.05003000', 'h': '0.05003000', 'l': '0.05003000', 'v': '0.00000000', 'n': 0, 'x': True, 'q': '0.00000000', 'V': '0.00000000', 'Q': '0.00000000', 'B': '0'}}\n",
      "{'e': 'kline', 'E': 1712801500004, 's': 'ETHBTC', 'k': {'t': 1712801499000, 'T': 1712801499999, 's': 'ETHBTC', 'i': '1s', 'f': -1, 'L': -1, 'o': '0.05003000', 'c': '0.05003000', 'h': '0.05003000', 'l': '0.05003000', 'v': '0.00000000', 'n': 0, 'x': True, 'q': '0.00000000', 'V': '0.00000000', 'Q': '0.00000000', 'B': '0'}}\n",
      "Error: \n",
      "Closed\n"
     ]
    },
    {
     "data": {
      "text/plain": [
       "True"
      ]
     },
     "execution_count": 34,
     "metadata": {},
     "output_type": "execute_result"
    }
   ],
   "source": [
    "ws.run_forever()"
   ]
  },
  {
   "cell_type": "markdown",
   "id": "081f32ee-ddd3-4d40-a3b6-135d5a47a6b6",
   "metadata": {},
   "source": [
    "### Payload"
   ]
  },
  {
   "cell_type": "markdown",
   "id": "a98bc674-6dcb-44ea-8117-b41d3365852f",
   "metadata": {},
   "source": [
    "{\n",
    "  \"e\": \"kline\",     // Event type <br>\n",
    "  \"E\": 1672515782136,   // Event time <br>\n",
    "  \"s\": \"BNBBTC\",    // Symbol <br>\n",
    "  \"k\": { <br>\n",
    "    \"t\": 123400000, // Kline start time <br>\n",
    "    \"T\": 123460000, // Kline close time <br>\n",
    "    \"s\": \"BNBBTC\",  // Symbol <br>\n",
    "    \"i\": \"1m\",      // Interval <br>\n",
    "    \"f\": 100,       // First trade ID <br>\n",
    "    \"L\": 200,       // Last trade ID <br>\n",
    "    \"o\": \"0.0010\",  // Open price <br>\n",
    "    \"c\": \"0.0020\",  // Close price <br>\n",
    "    \"h\": \"0.0025\",  // High price <br>\n",
    "    \"l\": \"0.0015\",  // Low price <br>\n",
    "    \"v\": \"1000\",    // Base asset volume <br>\n",
    "    \"n\": 100,       // Number of trades <br>\n",
    "    \"x\": false,     // Is this kline closed? <br>\n",
    "    \"q\": \"1.0000\",  // Quote asset volume <br>\n",
    "    \"V\": \"500\",     // Taker buy base asset volume <br>\n",
    "    \"Q\": \"0.500\",   // Taker buy quote asset volume <br>\n",
    "    \"B\": \"123456\"   // Ignore <br>\n",
    "  } <br>\n",
    "} <br>"
   ]
  },
  {
   "cell_type": "code",
   "execution_count": null,
   "id": "6aab1d1c-189e-4e73-99b6-762d63529b8b",
   "metadata": {},
   "outputs": [],
   "source": []
  },
  {
   "cell_type": "markdown",
   "id": "a80c4e25-081a-4f8f-b7d1-dc6f1d360af6",
   "metadata": {},
   "source": [
    "# Individual Symbol Mini Ticker Stream \n",
    "24hr rolling window mini-ticker statisitics. <br>\n",
    "These are NOT the statistics of the UTC day, but a 24hr rolling window for the previous 24hrs.<br>\n",
    "Stream Name: symbol@miniTicker <br>\n",
    "Update Speed: 1000ms\n"
   ]
  },
  {
   "cell_type": "code",
   "execution_count": 37,
   "id": "dd7d74b9-b890-4c85-b1c8-f8c384c34ce1",
   "metadata": {},
   "outputs": [],
   "source": [
    "url = 'wss://stream.binance.com:9443/ws/'"
   ]
  },
  {
   "cell_type": "code",
   "execution_count": 38,
   "id": "7e920734-b5df-4a5b-8d3b-8c5174712073",
   "metadata": {},
   "outputs": [],
   "source": [
    "symbol = 'ethbtc'"
   ]
  },
  {
   "cell_type": "code",
   "execution_count": 39,
   "id": "dd2edb1f-dbce-46ef-9ac7-870cb59ae4fd",
   "metadata": {},
   "outputs": [],
   "source": [
    "stream = '@miniTicker'"
   ]
  },
  {
   "cell_type": "code",
   "execution_count": 40,
   "id": "14e44cdb-3d52-4f17-a9f7-5d39a33df09d",
   "metadata": {},
   "outputs": [],
   "source": [
    "long_url = url+symbol+stream"
   ]
  },
  {
   "cell_type": "code",
   "execution_count": 41,
   "id": "3ee8f61a-ea03-42b2-b4ca-853e5f7a1790",
   "metadata": {},
   "outputs": [],
   "source": [
    "ws = websocket.WebSocketApp(long_url, on_message=on_message, on_error=on_error, on_close=on_close)"
   ]
  },
  {
   "cell_type": "code",
   "execution_count": 42,
   "id": "2bf33e9c-ac35-4f57-980f-76c871eaf17d",
   "metadata": {},
   "outputs": [
    {
     "name": "stdout",
     "output_type": "stream",
     "text": [
      "{'e': '24hrMiniTicker', 'E': 1712802175050, 's': 'ETHBTC', 'c': '0.05009000', 'o': '0.05078000', 'h': '0.05118000', 'l': '0.04996000', 'v': '33344.29400000', 'q': '1687.05844343'}\n",
      "{'e': '24hrMiniTicker', 'E': 1712802191039, 's': 'ETHBTC', 'c': '0.05010000', 'o': '0.05078000', 'h': '0.05118000', 'l': '0.04996000', 'v': '33339.73330000', 'q': '1686.82684757'}\n",
      "{'e': '24hrMiniTicker', 'E': 1712802197920, 's': 'ETHBTC', 'c': '0.05010000', 'o': '0.05078000', 'h': '0.05118000', 'l': '0.04996000', 'v': '33341.33330000', 'q': '1686.90700757'}\n",
      "{'e': '24hrMiniTicker', 'E': 1712802198366, 's': 'ETHBTC', 'c': '0.05011000', 'o': '0.05078000', 'h': '0.05118000', 'l': '0.04996000', 'v': '33341.33600000', 'q': '1686.90714286'}\n",
      "{'e': '24hrMiniTicker', 'E': 1712802201444, 's': 'ETHBTC', 'c': '0.05010000', 'o': '0.05078000', 'h': '0.05118000', 'l': '0.04996000', 'v': '33341.34130000', 'q': '1686.90740839'}\n",
      "Error: \n",
      "Closed\n"
     ]
    },
    {
     "data": {
      "text/plain": [
       "True"
      ]
     },
     "execution_count": 42,
     "metadata": {},
     "output_type": "execute_result"
    }
   ],
   "source": [
    "ws.run_forever()"
   ]
  },
  {
   "cell_type": "markdown",
   "id": "c228bb7b-9f89-4463-acc1-f4b2c4e0611f",
   "metadata": {},
   "source": [
    "### Payload"
   ]
  },
  {
   "cell_type": "markdown",
   "id": "429e2801-6101-479e-a712-f157e7fec096",
   "metadata": {},
   "source": [
    "  { <br>\n",
    "    \"e\": \"24hrMiniTicker\",  // Event type <br>\n",
    "    \"E\": 1672515782136,         // Event time <br>\n",
    "    \"s\": \"BNBBTC\",          // Symbol <br>\n",
    "    \"c\": \"0.0025\",          // Close price <br>\n",
    "    \"o\": \"0.0010\",          // Open price <br>\n",
    "    \"h\": \"0.0025\",          // High price <br>\n",
    "    \"l\": \"0.0010\",          // Low price <br>\n",
    "    \"v\": \"10000\",           // Total traded base asset volume <br>\n",
    "    \"q\": \"18\"               // Total traded quote asset volume <br>\n",
    "  } <br>"
   ]
  },
  {
   "cell_type": "code",
   "execution_count": null,
   "id": "4f872bd1-c21b-4f40-a77b-e839a3bcf4ac",
   "metadata": {},
   "outputs": [],
   "source": []
  },
  {
   "cell_type": "markdown",
   "id": "7b9fb0b6-4ec7-4f9f-aa97-48da0861d665",
   "metadata": {},
   "source": [
    "# All Market Mini Tickers Stream\n",
    "\n",
    "24hr rolling window mini-ticker statistics for all symbols that changed in an array. <br>\n",
    "These are NOT the statistics of the UTC day, but a 24hr rolling window for the previous 24hrs. <br>\n",
    "Note that only tickers that have changed will be present in the array. <br>"
   ]
  },
  {
   "cell_type": "code",
   "execution_count": 50,
   "id": "4937f0fe-f78e-4dcf-88fe-a90288585ec7",
   "metadata": {},
   "outputs": [],
   "source": [
    "url = 'wss://stream.binance.com:9443/ws/'"
   ]
  },
  {
   "cell_type": "code",
   "execution_count": 51,
   "id": "d24d7b23-b773-42ca-88b5-a0d3c8648fbe",
   "metadata": {},
   "outputs": [],
   "source": [
    "stream = '!miniTicker@arr'"
   ]
  },
  {
   "cell_type": "code",
   "execution_count": 52,
   "id": "69e13efb-445a-4ce5-aae2-e381bfc55378",
   "metadata": {},
   "outputs": [],
   "source": [
    "long_url = url+stream"
   ]
  },
  {
   "cell_type": "code",
   "execution_count": 53,
   "id": "44523685-3bf8-49e5-8b0b-c6f4d08b6f7d",
   "metadata": {},
   "outputs": [],
   "source": [
    "ws = websocket.WebSocketApp(long_url, on_message=on_message, on_error=on_error, on_close=on_close)"
   ]
  },
  {
   "cell_type": "code",
   "execution_count": 54,
   "id": "ac7848c3-532c-48ce-a5fd-297e6c1e2b54",
   "metadata": {
    "scrolled": true
   },
   "outputs": [
    {
     "name": "stdout",
     "output_type": "stream",
     "text": [
      "[{'e': '24hrMiniTicker', 'E': 1712802555929, 's': 'BTCUSDT', 'c': '70828.00000000', 'o': '69036.00000000', 'h': '71172.08000000', 'l': '67518.00000000', 'v': '41734.02125000', 'q': '2886608580.64239360'}, {'e': '24hrMiniTicker', 'E': 1712802555965, 's': 'ETHUSDT', 'c': '3549.82000000', 'o': '3509.74000000', 'h': '3562.95000000', 'l': '3411.82000000', 'v': '375597.59570000', 'q': '1313606195.70852800'}, {'e': '24hrMiniTicker', 'E': 1712802556119, 's': 'LINKETH', 'c': '0.00489700', 'o': '0.00493800', 'h': '0.00498400', 'l': '0.00489600', 'v': '25918.50000000', 'q': '127.64483216'}, {'e': '24hrMiniTicker', 'E': 1712802555506, 's': 'BNBUSDT', 'c': '609.30000000', 'o': '579.80000000', 'h': '612.40000000', 'l': '573.40000000', 'v': '855733.00300000', 'q': '508285551.74790000'}, {'e': '24hrMiniTicker', 'E': 1712802556351, 's': 'LTCUSDT', 'c': '96.81000000', 'o': '97.64000000', 'h': '98.30000000', 'l': '93.50000000', 'v': '895532.39600000', 'q': '86201281.65931000'}, {'e': '24hrMiniTicker', 'E': 1712802556174, 's': 'ONTUSDT', 'c': '0.36630000', 'o': '0.34560000', 'h': '0.38100000', 'l': '0.33220000', 'v': '24492694.00000000', 'q': '8655665.07910000'}, {'e': '24hrMiniTicker', 'E': 1712802556182, 's': 'WAVESUSDT', 'c': '3.14300000', 'o': '3.08400000', 'h': '3.22700000', 'l': '2.95500000', 'v': '2966998.25000000', 'q': '9219866.16751000'}, {'e': '24hrMiniTicker', 'E': 1712802555846, 's': 'ENJUSDT', 'c': '0.44620000', 'o': '0.45230000', 'h': '0.45570000', 'l': '0.41990000', 'v': '14465109.60000000', 'q': '6340803.56805000'}, {'e': '24hrMiniTicker', 'E': 1712802555923, 's': 'TFUELBTC', 'c': '0.00000174', 'o': '0.00000156', 'h': '0.00000177', 'l': '0.00000149', 'v': '18007579.00000000', 'q': '28.75962682'}, {'e': '24hrMiniTicker', 'E': 1712802555976, 's': 'TFUELUSDT', 'c': '0.12312000', 'o': '0.10733000', 'h': '0.12500000', 'l': '0.10215000', 'v': '197199129.00000000', 'q': '21834889.91707000'}, {'e': '24hrMiniTicker', 'E': 1712802556326, 's': 'FTMUSDT', 'c': '0.99610000', 'o': '0.98580000', 'h': '1.04730000', 'l': '0.95390000', 'v': '173424103.00000000', 'q': '171601723.81890000'}, {'e': '24hrMiniTicker', 'E': 1712802556250, 's': 'ALGOUSDT', 'c': '0.23000000', 'o': '0.22850000', 'h': '0.23210000', 'l': '0.21770000', 'v': '49130785.00000000', 'q': '11104103.98120000'}, {'e': '24hrMiniTicker', 'E': 1712802555620, 's': 'MKRUSDT', 'c': '3345.00000000', 'o': '3363.00000000', 'h': '3453.00000000', 'l': '3250.00000000', 'v': '7251.23600000', 'q': '24381569.30270000'}, {'e': '24hrMiniTicker', 'E': 1712802556220, 's': 'BLZUSDT', 'c': '0.43610000', 'o': '0.42320000', 'h': '0.44460000', 'l': '0.40970000', 'v': '10519442.00000000', 'q': '4494502.70800000'}, {'e': '24hrMiniTicker', 'E': 1712802555592, 's': 'DOTUSDT', 'c': '8.39000000', 'o': '8.54000000', 'h': '8.62000000', 'l': '8.12200000', 'v': '6153265.21000000', 'q': '51607378.58750000'}, {'e': '24hrMiniTicker', 'E': 1712802556015, 's': 'EGLDUSDT', 'c': '52.61000000', 'o': '53.46000000', 'h': '53.82000000', 'l': '50.76000000', 'v': '178382.55000000', 'q': '9359781.54400000'}, {'e': '24hrMiniTicker', 'E': 1712802556067, 's': 'UNIUSDT', 'c': '9.43700000', 'o': '11.10500000', 'h': '11.31600000', 'l': '9.00000000', 'v': '16031931.24000000', 'q': '158942368.54809000'}, {'e': '24hrMiniTicker', 'E': 1712802555445, 's': 'USDTBRL', 'c': '5.07900000', 'o': '5.05200000', 'h': '5.10000000', 'l': '5.03500000', 'v': '21083793.30000000', 'q': '107134448.98950000'}, {'e': '24hrMiniTicker', 'E': 1712802555779, 's': 'AVAUSDT', 'c': '0.86560000', 'o': '0.86240000', 'h': '0.87970000', 'l': '0.82870000', 'v': '2727016.70000000', 'q': '2336351.67675000'}, {'e': '24hrMiniTicker', 'E': 1712802556270, 's': 'PSGUSDT', 'c': '5.10300000', 'o': '5.16500000', 'h': '6.20000000', 'l': '5.00000000', 'v': '2240760.23000000', 'q': '12546410.34802000'}, {'e': '24hrMiniTicker', 'E': 1712802555913, 's': 'REEFUSDT', 'c': '0.00318100', 'o': '0.00318500', 'h': '0.00327700', 'l': '0.00301800', 'v': '1361682866.00000000', 'q': '4268831.23699600'}, {'e': '24hrMiniTicker', 'E': 1712802556085, 's': 'ATMUSDT', 'c': '3.94000000', 'o': '3.46500000', 'h': '4.68000000', 'l': '3.43000000', 'v': '6374357.93000000', 'q': '26486139.70312000'}, {'e': '24hrMiniTicker', 'E': 1712802556291, 's': 'OMUSDT', 'c': '0.89993000', 'o': '0.78612000', 'h': '0.91895000', 'l': '0.74400000', 'v': '68041868.00000000', 'q': '57333607.41994000'}, {'e': '24hrMiniTicker', 'E': 1712802556139, 's': 'CFXUSDT', 'c': '0.33730000', 'o': '0.33090000', 'h': '0.35150000', 'l': '0.31830000', 'v': '126794368.00000000', 'q': '42429877.29130000'}, {'e': '24hrMiniTicker', 'E': 1712802556371, 's': 'SHIBUSDT', 'c': '0.00002780', 'o': '0.00002727', 'h': '0.00002828', 'l': '0.00002641', 'v': '5121390842808.00', 'q': '140823179.16130818'}, {'e': '24hrMiniTicker', 'E': 1712802555998, 's': 'REEFTRY', 'c': '0.10487000', 'o': '0.10470000', 'h': '0.10759000', 'l': '0.09943000', 'v': '202188590.00000000', 'q': '20902300.01673000'}, {'e': '24hrMiniTicker', 'E': 1712802555938, 's': 'JASMYUSDT', 'c': '0.02261300', 'o': '0.02058700', 'h': '0.02263400', 'l': '0.01950000', 'v': '1551830795.00000000', 'q': '32666116.96332820'}, {'e': '24hrMiniTicker', 'E': 1712802555649, 's': 'AMPUSDT', 'c': '0.00898200', 'o': '0.00910100', 'h': '0.00922800', 'l': '0.00865100', 'v': '467159723.00000000', 'q': '4183552.99970800'}, {'e': '24hrMiniTicker', 'E': 1712802555631, 's': 'RNDRUSDT', 'c': '9.04900000', 'o': '9.34100000', 'h': '9.38500000', 'l': '8.77400000', 'v': '4901927.93000000', 'q': '44760789.66726000'}, {'e': '24hrMiniTicker', 'E': 1712802555680, 's': 'FLUXUSDT', 'c': '1.08960000', 'o': '1.08260000', 'h': '1.10950000', 'l': '1.03920000', 'v': '2393811.26000000', 'q': '2568902.63700400'}, {'e': '24hrMiniTicker', 'E': 1712802556330, 's': 'FTMTRY', 'c': '32.83900000', 'o': '32.37100000', 'h': '34.40800000', 'l': '31.40400000', 'v': '2371995.07000000', 'q': '77386691.58418000'}, {'e': '24hrMiniTicker', 'E': 1712802555872, 's': 'HIGHUSDT', 'c': '2.84500000', 'o': '3.17800000', 'h': '3.39300000', 'l': '2.83300000', 'v': '5744987.01100000', 'q': '17914107.56195700'}, {'e': '24hrMiniTicker', 'E': 1712802556125, 's': 'IMXUSDT', 'c': '2.60690000', 'o': '2.63610000', 'h': '2.66120000', 'l': '2.51000000', 'v': '2471172.68000000', 'q': '6426234.13115400'}, {'e': '24hrMiniTicker', 'E': 1712802555717, 's': 'LOKAUSDT', 'c': '0.36300000', 'o': '0.37100000', 'h': '0.37180000', 'l': '0.35300000', 'v': '9037490.20000000', 'q': '3270552.27880000'}, {'e': '24hrMiniTicker', 'E': 1712802555584, 's': 'ASTRUSDT', 'c': '0.13570000', 'o': '0.13870000', 'h': '0.14480000', 'l': '0.13210000', 'v': '96365380.80000000', 'q': '13254803.59357000'}, {'e': '24hrMiniTicker', 'E': 1712802556387, 's': 'HFTUSDT', 'c': '0.42150000', 'o': '0.42530000', 'h': '0.43960000', 'l': '0.40530000', 'v': '7005342.00000000', 'q': '2945843.56308000'}, {'e': '24hrMiniTicker', 'E': 1712802556358, 's': 'VIBUSDT', 'c': '0.12255000', 'o': '0.11760000', 'h': '0.12450000', 'l': '0.11174000', 'v': '21688434.00000000', 'q': '2606752.46653000'}, {'e': '24hrMiniTicker', 'E': 1712802555766, 's': 'UFTUSDT', 'c': '0.53970000', 'o': '0.53610000', 'h': '0.54480000', 'l': '0.51570000', 'v': '3572772.00000000', 'q': '1903626.31650000'}, {'e': '24hrMiniTicker', 'E': 1712802555647, 's': 'IDBTC', 'c': '0.00001249', 'o': '0.00001322', 'h': '0.00001322', 'l': '0.00001240', 'v': '454242.00000000', 'q': '5.72695000'}, {'e': '24hrMiniTicker', 'E': 1712802556372, 's': 'PEPEUSDT', 'c': '0.00000705', 'o': '0.00000698', 'h': '0.00000726', 'l': '0.00000667', 'v': '37714909760070.00', 'q': '262189745.47190064'}, {'e': '24hrMiniTicker', 'E': 1712802555826, 's': 'WBETHETH', 'c': '1.03480000', 'o': '1.03470000', 'h': '1.03530000', 'l': '1.03410000', 'v': '750.64700000', 'q': '776.73941773'}, {'e': '24hrMiniTicker', 'E': 1712802555833, 's': 'WBETHUSDT', 'c': '3670.69000000', 'o': '3628.88000000', 'h': '3685.50000000', 'l': '3530.00000000', 'v': '323.77710000', 'q': '1170004.06322600'}, {'e': '24hrMiniTicker', 'E': 1712802555406, 's': 'WLDUSDT', 'c': '6.51000000', 'o': '6.60500000', 'h': '6.66600000', 'l': '6.20300000', 'v': '9114456.60000000', 'q': '59284259.67480000'}, {'e': '24hrMiniTicker', 'E': 1712802556116, 's': 'BTCFDUSD', 'c': '70780.99000000', 'o': '69080.90000000', 'h': '71200.00000000', 'l': '67550.00000000', 'v': '88300.44401000', 'q': '6112373096.61913480'}, {'e': '24hrMiniTicker', 'E': 1712802556243, 's': 'CYBERBTC', 'c': '0.00019190', 'o': '0.00019976', 'h': '0.00020070', 'l': '0.00019152', 'v': '14625.06000000', 'q': '2.86684299'}, {'e': '24hrMiniTicker', 'E': 1712802556230, 's': 'CYBERUSDT', 'c': '13.60000000', 'o': '13.75200000', 'h': '13.95600000', 'l': '13.09000000', 'v': '767341.40000000', 'q': '10422480.98380000'}, {'e': '24hrMiniTicker', 'E': 1712802556274, 's': 'SOLFDUSD', 'c': '172.10000000', 'o': '171.11000000', 'h': '175.50000000', 'l': '162.43000000', 'v': '1916920.02000000', 'q': '325745686.27740000'}, {'e': '24hrMiniTicker', 'E': 1712802555677, 's': 'DOGEFDUSD', 'c': '0.19758000', 'o': '0.18843000', 'h': '0.20230000', 'l': '0.18011000', 'v': '1481592420.00000000', 'q': '284834429.25227000'}, {'e': '24hrMiniTicker', 'E': 1712802555942, 's': 'NTRNUSDT', 'c': '1.04700000', 'o': '1.08150000', 'h': '1.08210000', 'l': '1.00030000', 'v': '5838135.00000000', 'q': '6106993.18893000'}, {'e': '24hrMiniTicker', 'E': 1712802556382, 's': 'BLURUSDT', 'c': '0.52800000', 'o': '0.52980000', 'h': '0.53200000', 'l': '0.49300000', 'v': '17915191.80000000', 'q': '9269949.08360000'}, {'e': '24hrMiniTicker', 'E': 1712802555899, 's': 'XAIUSDT', 'c': '1.01970000', 'o': '1.02940000', 'h': '1.04550000', 'l': '0.97570000', 'v': '13902060.70000000', 'q': '14177169.54200000'}, {'e': '24hrMiniTicker', 'E': 1712802555900, 's': 'XAITRY', 'c': '33.60800000', 'o': '33.80000000', 'h': '34.45700000', 'l': '32.18200000', 'v': '608284.60000000', 'q': '20422594.01650000'}, {'e': '24hrMiniTicker', 'E': 1712802555991, 's': 'ALTUSDT', 'c': '0.56704000', 'o': '0.57403000', 'h': '0.61486000', 'l': '0.53627000', 'v': '147106704.00000000', 'q': '85043100.16222000'}, {'e': '24hrMiniTicker', 'E': 1712802555791, 's': 'JUPUSDT', 'c': '1.34380000', 'o': '1.32500000', 'h': '1.38620000', 'l': '1.23880000', 'v': '30709517.20000000', 'q': '40650545.85953000'}, {'e': '24hrMiniTicker', 'E': 1712802555926, 's': 'PIXELUSDT', 'c': '0.66100000', 'o': '0.61890000', 'h': '0.66600000', 'l': '0.60000000', 'v': '72977385.50000000', 'q': '46173744.13810000'}, {'e': '24hrMiniTicker', 'E': 1712802555926, 's': 'STRKUSDT', 'c': '1.84500000', 'o': '1.86700000', 'h': '1.88300000', 'l': '1.77000000', 'v': '25026894.00000000', 'q': '45949712.40865000'}, {'e': '24hrMiniTicker', 'E': 1712802556215, 's': 'PORTALUSDT', 'c': '1.50220000', 'o': '1.52420000', 'h': '1.54100000', 'l': '1.42570000', 'v': '15678797.50000000', 'q': '23353397.34204000'}, {'e': '24hrMiniTicker', 'E': 1712802556031, 's': 'AXLUSDT', 'c': '1.40280000', 'o': '1.41140000', 'h': '1.42170000', 'l': '1.31000000', 'v': '14785846.81000000', 'q': '20404116.57261200'}, {'e': '24hrMiniTicker', 'E': 1712802555900, 's': 'WIFUSDT', 'c': '3.63070000', 'o': '3.51690000', 'h': '3.70390000', 'l': '3.28330000', 'v': '74595661.19000000', 'q': '260531514.71717700'}, {'e': '24hrMiniTicker', 'E': 1712802555930, 's': 'ETHJPY', 'c': '530475.00000000', 'o': '533097.00000000', 'h': '542423.00000000', 'l': '520801.00000000', 'v': '433.84876000', 'q': '229881254.72960000'}, {'e': '24hrMiniTicker', 'E': 1712802555777, 's': 'ETHFIUSDT', 'c': '5.59200000', 'o': '5.58900000', 'h': '6.10200000', 'l': '5.22900000', 'v': '27691871.50000000', 'q': '156883047.51120000'}, {'e': '24hrMiniTicker', 'E': 1712802556276, 's': 'ENABTC', 'c': '0.00002076', 'o': '0.00001871', 'h': '0.00002189', 'l': '0.00001830', 'v': '11858817.12000000', 'q': '240.62750180'}, {'e': '24hrMiniTicker', 'E': 1712802556013, 's': 'ENAUSDT', 'c': '1.47000000', 'o': '1.29100000', 'h': '1.51000000', 'l': '1.25500000', 'v': '577721548.18000000', 'q': '810430838.16335000'}, {'e': '24hrMiniTicker', 'E': 1712802555887, 's': 'TNSRUSDT', 'c': '1.57600000', 'o': '1.71350000', 'h': '1.74810000', 'l': '1.53000000', 'v': '57556043.70000000', 'q': '94171960.11025000'}, {'e': '24hrMiniTicker', 'E': 1712802556182, 's': 'SAGAUSDT', 'c': '5.71410000', 'o': '6.25560000', 'h': '6.48290000', 'l': '5.58990000', 'v': '40485878.20000000', 'q': '242818815.05026000'}]\n",
      "Error: \n",
      "Closed\n"
     ]
    },
    {
     "data": {
      "text/plain": [
       "True"
      ]
     },
     "execution_count": 54,
     "metadata": {},
     "output_type": "execute_result"
    }
   ],
   "source": [
    "ws.run_forever()"
   ]
  },
  {
   "cell_type": "markdown",
   "id": "4bc0c4c1-9562-40a6-9568-cf46c7da04d8",
   "metadata": {},
   "source": [
    "### Payload "
   ]
  },
  {
   "cell_type": "markdown",
   "id": "973e526e-7dbb-46f2-b76f-d538946a3d05",
   "metadata": {},
   "source": [
    "[ <br>\n",
    "  { <br>\n",
    "    // Same as <symbol>@miniTicker payload <br>\n",
    "  } <br>\n",
    "] <br>"
   ]
  },
  {
   "cell_type": "code",
   "execution_count": null,
   "id": "55704b42-43fd-4e02-8c6c-a498db9ce195",
   "metadata": {},
   "outputs": [],
   "source": []
  },
  {
   "cell_type": "markdown",
   "id": "01e132b6-854a-4b26-8fda-725368e96bed",
   "metadata": {},
   "source": [
    "# Individual Symbol Ticker Streams\n",
    "24hr rolling window ticker statistics for a single symbol. <br>\n",
    "These are NOT the statistics of the UTC day, but a 24hr rolling window for the previous 24hrs.<br>\n",
    "\n",
    "Stream Name: symbol@ticker <br>\n",
    "\n",
    "Update Speed: 1000ms <br>"
   ]
  },
  {
   "cell_type": "code",
   "execution_count": 55,
   "id": "f23b5e20-4a4c-4433-9953-b2c37b423135",
   "metadata": {},
   "outputs": [],
   "source": [
    "url = 'wss://stream.binance.com:9443/ws/'"
   ]
  },
  {
   "cell_type": "code",
   "execution_count": 56,
   "id": "9ce7ef15-f4fb-4101-92a4-b5b01f93abc9",
   "metadata": {},
   "outputs": [],
   "source": [
    "symbol = 'ethbtc'"
   ]
  },
  {
   "cell_type": "code",
   "execution_count": 57,
   "id": "710c5625-d3b3-4e30-a1dc-04684d314361",
   "metadata": {},
   "outputs": [],
   "source": [
    "stream = '@ticker'"
   ]
  },
  {
   "cell_type": "code",
   "execution_count": 58,
   "id": "ad750b0b-5977-4f1a-aa25-5344a162b6e5",
   "metadata": {},
   "outputs": [],
   "source": [
    "long_url = url+symbol+stream"
   ]
  },
  {
   "cell_type": "code",
   "execution_count": 59,
   "id": "fe2bed50-0658-4f53-ae0e-37b044498c23",
   "metadata": {},
   "outputs": [],
   "source": [
    "ws = websocket.WebSocketApp(long_url, on_message=on_message, on_error=on_error, on_close=on_close)"
   ]
  },
  {
   "cell_type": "code",
   "execution_count": 60,
   "id": "511b31c2-d0ee-40c5-99f7-eef72377fa74",
   "metadata": {},
   "outputs": [
    {
     "name": "stdout",
     "output_type": "stream",
     "text": [
      "{'e': '24hrTicker', 'E': 1712802927609, 's': 'ETHBTC', 'p': '-0.00061000', 'P': '-1.201', 'w': '0.05059120', 'x': '0.05077000', 'c': '0.05017000', 'Q': '1.71640000', 'b': '0.05016000', 'B': '48.63450000', 'a': '0.05017000', 'A': '23.43250000', 'o': '0.05078000', 'h': '0.05118000', 'l': '0.04996000', 'v': '33270.18460000', 'q': '1683.17844122', 'O': 1712716527608, 'C': 1712802927608, 'F': 440059411, 'L': 440164309, 'n': 104899}\n",
      "{'e': '24hrTicker', 'E': 1712802928950, 's': 'ETHBTC', 'p': '-0.00061000', 'P': '-1.201', 'w': '0.05059120', 'x': '0.05077000', 'c': '0.05017000', 'Q': '1.71640000', 'b': '0.05016000', 'B': '47.83450000', 'a': '0.05017000', 'A': '23.43250000', 'o': '0.05078000', 'h': '0.05118000', 'l': '0.04996000', 'v': '33270.18460000', 'q': '1683.17844122', 'O': 1712716528949, 'C': 1712802928949, 'F': 440059411, 'L': 440164309, 'n': 104899}\n",
      "{'e': '24hrTicker', 'E': 1712802929583, 's': 'ETHBTC', 'p': '-0.00061000', 'P': '-1.201', 'w': '0.05059119', 'x': '0.05077000', 'c': '0.05017000', 'Q': '1.91640000', 'b': '0.05016000', 'B': '47.83450000', 'a': '0.05017000', 'A': '23.23250000', 'o': '0.05078000', 'h': '0.05118000', 'l': '0.04996000', 'v': '33270.38460000', 'q': '1683.18847521', 'O': 1712716529583, 'C': 1712802929583, 'F': 440059411, 'L': 440164311, 'n': 104901}\n",
      "{'e': '24hrTicker', 'E': 1712802930750, 's': 'ETHBTC', 'p': '-0.00062000', 'P': '-1.221', 'w': '0.05059119', 'x': '0.05078000', 'c': '0.05017000', 'Q': '1.91640000', 'b': '0.05016000', 'B': '42.93740000', 'a': '0.05017000', 'A': '23.98370000', 'o': '0.05079000', 'h': '0.05118000', 'l': '0.04996000', 'v': '33270.26260000', 'q': '1683.18228005', 'O': 1712716530748, 'C': 1712802930748, 'F': 440059413, 'L': 440164311, 'n': 104899}\n",
      "Error: \n",
      "Closed\n"
     ]
    },
    {
     "data": {
      "text/plain": [
       "True"
      ]
     },
     "execution_count": 60,
     "metadata": {},
     "output_type": "execute_result"
    }
   ],
   "source": [
    "ws.run_forever()"
   ]
  },
  {
   "cell_type": "markdown",
   "id": "9b6b470c-044d-4dd5-b794-cd1310edd9bb",
   "metadata": {},
   "source": [
    "### Payload"
   ]
  },
  {
   "cell_type": "markdown",
   "id": "df95b24c-6f97-483f-a551-9e98ccf1b909",
   "metadata": {},
   "source": [
    "{ <br>\n",
    "  \"e\": \"24hrTicker\",  // Event type <br>\n",
    "  \"E\": 1672515782136,     // Event time <br>\n",
    "  \"s\": \"BNBBTC\",      // Symbol <br>\n",
    "  \"p\": \"0.0015\",      // Price change <br>\n",
    "  \"P\": \"250.00\",      // Price change percent <br>\n",
    "  \"w\": \"0.0018\",      // Weighted average price <br>\n",
    "  \"x\": \"0.0009\",      // First trade(F)-1 price (first trade before the 24hr rolling window) <br>\n",
    "  \"c\": \"0.0025\",      // Last price <br>\n",
    "  \"Q\": \"10\",          // Last quantity <br>\n",
    "  \"b\": \"0.0024\",      // Best bid price <br>\n",
    "  \"B\": \"10\",          // Best bid quantity <br>\n",
    "  \"a\": \"0.0026\",      // Best ask price <br>\n",
    "  \"A\": \"100\",         // Best ask quantity <br>\n",
    "  \"o\": \"0.0010\",      // Open price <br>\n",
    "  \"h\": \"0.0025\",      // High price <br>\n",
    "  \"l\": \"0.0010\",      // Low price <br>\n",
    "  \"v\": \"10000\",       // Total traded base asset volume <br>\n",
    "  \"q\": \"18\",          // Total traded quote asset volume <br>\n",
    "  \"O\": 0,             // Statistics open time <br>\n",
    "  \"C\": 86400000,      // Statistics close time <br>\n",
    "  \"F\": 0,             // First trade ID <br>\n",
    "  \"L\": 18150,         // Last trade Id <br>\n",
    "  \"n\": 18151          // Total number of trades <br>\n",
    "} <br>"
   ]
  },
  {
   "cell_type": "code",
   "execution_count": null,
   "id": "ca0f633c-d718-42a6-8a9d-8f71c32195bf",
   "metadata": {},
   "outputs": [],
   "source": []
  },
  {
   "cell_type": "markdown",
   "id": "d72d021e-45f9-4cc4-83ef-833eefbe0283",
   "metadata": {},
   "source": [
    "# Average Price\n",
    "Average price streams push changes in the average price over a fixed time interval.<br>\n",
    "\n",
    "Stream Name: symbol@avgPrice <br>\n",
    "\n",
    "Update Speed: 1000ms <br>"
   ]
  },
  {
   "cell_type": "code",
   "execution_count": 63,
   "id": "9d2de85d-8c7a-462d-93ad-c85bb932b001",
   "metadata": {},
   "outputs": [],
   "source": [
    "url = 'wss://stream.binance.com:9443/ws/'"
   ]
  },
  {
   "cell_type": "code",
   "execution_count": 64,
   "id": "f176bad5-2052-4b51-b198-a93a7981f623",
   "metadata": {},
   "outputs": [],
   "source": [
    "symbol = 'ethbtc'"
   ]
  },
  {
   "cell_type": "code",
   "execution_count": 65,
   "id": "6c33a974-f4e0-4434-9954-534d75c1b89c",
   "metadata": {},
   "outputs": [],
   "source": [
    "stream = '@avgPrice'"
   ]
  },
  {
   "cell_type": "code",
   "execution_count": 66,
   "id": "468e2be7-1126-4ed5-a712-daddf2e09ad4",
   "metadata": {},
   "outputs": [],
   "source": [
    "long_url = url+symbol+stream"
   ]
  },
  {
   "cell_type": "code",
   "execution_count": 67,
   "id": "2c1fd7cd-ca42-4340-bcbe-50d2295b2dbc",
   "metadata": {},
   "outputs": [],
   "source": [
    "ws = websocket.WebSocketApp(long_url, on_message=on_message, on_error=on_error, on_close=on_close)"
   ]
  },
  {
   "cell_type": "code",
   "execution_count": 68,
   "id": "7f2e23dd-a143-4477-b2a3-2ccfd03d65a0",
   "metadata": {},
   "outputs": [
    {
     "name": "stdout",
     "output_type": "stream",
     "text": [
      "{'e': 'avgPrice', 'E': 1712803151638, 's': 'ETHBTC', 'i': '5m', 'w': '0.05015425', 'T': 1712803151638}\n",
      "{'e': 'avgPrice', 'E': 1712803151782, 's': 'ETHBTC', 'i': '5m', 'w': '0.05015522', 'T': 1712803151782}\n",
      "{'e': 'avgPrice', 'E': 1712803161934, 's': 'ETHBTC', 'i': '5m', 'w': '0.05015555', 'T': 1712803161933}\n",
      "{'e': 'avgPrice', 'E': 1712803162852, 's': 'ETHBTC', 'i': '5m', 'w': '0.05016180', 'T': 1712803162850}\n",
      "Error: \n",
      "Closed\n"
     ]
    },
    {
     "data": {
      "text/plain": [
       "True"
      ]
     },
     "execution_count": 68,
     "metadata": {},
     "output_type": "execute_result"
    }
   ],
   "source": [
    "ws.run_forever()"
   ]
  },
  {
   "cell_type": "markdown",
   "id": "dfa91d25-5732-4389-a567-3a6367b82c86",
   "metadata": {},
   "source": [
    "### Payload"
   ]
  },
  {
   "cell_type": "markdown",
   "id": "84e4c6ab-5786-4975-9ae6-292f04bdab89",
   "metadata": {},
   "source": [
    "{ <br>\n",
    "  \"e\": \"avgPrice\",          // Event type <br>\n",
    "  \"E\": 1693907033000,       // Event time <br>\n",
    "  \"s\": \"BTCUSDT\",           // Symbol <br>\n",
    "  \"i\": \"5m\",                // Average price interval <br>\n",
    "  \"w\": \"25776.86000000\",    // Average price <br>\n",
    "  \"T\": 1693907032213        // Last trade time <br>\n",
    "} <br>"
   ]
  },
  {
   "cell_type": "code",
   "execution_count": null,
   "id": "5b1bdf90-5ca1-49a8-a290-8b97b2c5f336",
   "metadata": {},
   "outputs": [],
   "source": []
  },
  {
   "cell_type": "markdown",
   "id": "0f7a066e-967c-4333-9bdf-101ad7d2ad1f",
   "metadata": {},
   "source": [
    "# All Market Tickers Stream\n",
    "\n",
    "24hr rolling window ticker statistics for all symbols that changed in an array. <br>\n",
    "These are NOT the statistics of the UTC day, but a 24hr rolling window for the previous 24hrs. <br>\n",
    "Note that only tickers that have changed will be present in the array. <br>\n",
    "\n",
    "Stream Name: !ticker@arr <br>\n",
    "\n",
    "Update Speed: 1000ms <br>"
   ]
  },
  {
   "cell_type": "code",
   "execution_count": 110,
   "id": "77d8f563-f6b8-4ba4-bbdd-fd71ea17d20d",
   "metadata": {},
   "outputs": [],
   "source": [
    "url = 'wss://stream.binance.com:9443/ws/'"
   ]
  },
  {
   "cell_type": "code",
   "execution_count": 111,
   "id": "4afea1ef-f7a4-4a15-98ee-119c83b6c6d3",
   "metadata": {},
   "outputs": [],
   "source": [
    "stream = '!ticker@arr'"
   ]
  },
  {
   "cell_type": "code",
   "execution_count": 112,
   "id": "6b75ba01-6e4f-440b-9212-928e38958ef8",
   "metadata": {},
   "outputs": [],
   "source": [
    "long_url = url+stream"
   ]
  },
  {
   "cell_type": "code",
   "execution_count": 113,
   "id": "6d28ee3a-8368-4591-b297-4ebc461fb547",
   "metadata": {},
   "outputs": [],
   "source": [
    "ws = websocket.WebSocketApp(long_url, on_message=on_message, on_error=on_error, on_close=on_close)"
   ]
  },
  {
   "cell_type": "code",
   "execution_count": 114,
   "id": "51b62053-e396-4437-bf9e-a7bdf220a10d",
   "metadata": {
    "scrolled": true
   },
   "outputs": [
    {
     "name": "stdout",
     "output_type": "stream",
     "text": [
      "[{'e': '24hrTicker', 'E': 1712806783433, 's': 'BNBBTC', 'p': '0.00030600', 'P': '3.662', 'w': '0.00860997', 'x': '0.00835800', 'c': '0.00866300', 'Q': '0.30200000', 'b': '0.00866300', 'B': '5.97800000', 'a': '0.00866400', 'A': '1.53100000', 'o': '0.00835700', 'h': '0.00889800', 'l': '0.00835100', 'v': '65056.47000000', 'q': '560.13436067', 'O': 1712720383432, 'C': 1712806783432, 'F': 238985450, 'L': 239113682, 'n': 128233}, {'e': '24hrTicker', 'E': 1712806783026, 's': 'NEOBTC', 'p': '0.00003080', 'P': '10.822', 'w': '0.00029833', 'x': '0.00028360', 'c': '0.00031540', 'Q': '10.00000000', 'b': '0.00031560', 'B': '6.17000000', 'a': '0.00031590', 'A': '16.35000000', 'o': '0.00028460', 'h': '0.00032640', 'l': '0.00026980', 'v': '160322.85000000', 'q': '47.82953094', 'O': 1712720383025, 'C': 1712806783025, 'F': 46315462, 'L': 46327369, 'n': 11908}, {'e': '24hrTicker', 'E': 1712806783514, 's': 'ETHUSDT', 'p': '73.51000000', 'P': '2.104', 'w': '3500.71106531', 'x': '3493.49000000', 'c': '3567.00000000', 'Q': '0.08220000', 'b': '3566.99000000', 'B': '39.88050000', 'a': '3567.00000000', 'A': '9.54310000', 'o': '3493.49000000', 'h': '3576.60000000', 'l': '3411.82000000', 'v': '367799.33670000', 'q': '1287559207.80032700', 'O': 1712720383514, 'C': 1712806783514, 'F': 1387063397, 'L': 1387933503, 'n': 870107}, {'e': '24hrTicker', 'E': 1712806782638, 's': 'QTUMBTC', 'p': '0.00000550', 'P': '7.864', 'w': '0.00007325', 'x': '0.00006972', 'c': '0.00007544', 'Q': '35.60000000', 'b': '0.00007538', 'B': '17.90000000', 'a': '0.00007560', 'A': '82.10000000', 'o': '0.00006994', 'h': '0.00007772', 'l': '0.00006841', 'v': '76061.90000000', 'q': '5.57149679', 'O': 1712720382637, 'C': 1712806782637, 'F': 24401660, 'L': 24404534, 'n': 2875}, {'e': '24hrTicker', 'E': 1712806783594, 's': 'BNBUSDT', 'p': '37.90000000', 'P': '6.573', 'w': '596.26931827', 'x': '576.70000000', 'c': '614.50000000', 'Q': '1.69800000', 'b': '614.40000000', 'B': '81.62400000', 'a': '614.50000000', 'A': '53.78300000', 'o': '576.60000000', 'h': '618.40000000', 'l': '574.60000000', 'v': '901243.69700000', 'q': '537383964.80620000', 'O': 1712720383593, 'C': 1712806783593, 'F': 740300017, 'L': 740925205, 'n': 625189}, {'e': '24hrTicker', 'E': 1712806783408, 's': 'NEOUSDT', 'p': '2.79000000', 'P': '14.235', 'w': '20.69090850', 'x': '19.59000000', 'c': '22.39000000', 'Q': '0.23000000', 'b': '22.38000000', 'B': '250.07000000', 'a': '22.39000000', 'A': '12.77000000', 'o': '19.60000000', 'h': '22.98000000', 'l': '18.56000000', 'v': '3387900.17000000', 'q': '70098732.42360000', 'O': 1712720383408, 'C': 1712806783408, 'F': 105284668, 'L': 105526886, 'n': 242219}, {'e': '24hrTicker', 'E': 1712806783084, 's': 'ADABTC', 'p': '-0.00000009', 'P': '-1.073', 'w': '0.00000836', 'x': '0.00000839', 'c': '0.00000830', 'Q': '397.30000000', 'b': '0.00000830', 'B': '37354.70000000', 'a': '0.00000831', 'A': '56294.00000000', 'o': '0.00000839', 'h': '0.00000851', 'l': '0.00000826', 'v': '7942246.00000000', 'q': '66.40565433', 'O': 1712720383084, 'C': 1712806783084, 'F': 124585263, 'L': 124596028, 'n': 10766}, {'e': '24hrTicker', 'E': 1712806782715, 's': 'LTCUSDT', 'p': '0.25000000', 'P': '0.258', 'w': '96.15292081', 'x': '96.80000000', 'c': '97.05000000', 'Q': '0.16000000', 'b': '97.04000000', 'B': '33.34200000', 'a': '97.05000000', 'A': '9.84000000', 'o': '96.80000000', 'h': '98.21000000', 'l': '93.50000000', 'v': '756354.72100000', 'q': '72725715.58970000', 'O': 1712720382715, 'C': 1712806782715, 'F': 335200865, 'L': 335346199, 'n': 145335}, {'e': '24hrTicker', 'E': 1712806782905, 's': 'STEEMETH', 'p': '-0.00000070', 'P': '-0.768', 'w': '0.00009046', 'x': '0.00009060', 'c': '0.00009040', 'Q': '532.00000000', 'b': '0.00009010', 'B': '2388.00000000', 'a': '0.00009030', 'A': '621.00000000', 'o': '0.00009110', 'h': '0.00009300', 'l': '0.00008940', 'v': '28704.00000000', 'q': '2.59649840', 'O': 1712720382905, 'C': 1712806782905, 'F': 3872576, 'L': 3872783, 'n': 208}, {'e': '24hrTicker', 'E': 1712806783023, 's': 'BLZBTC', 'p': '-0.00000006', 'P': '-0.987', 'w': '0.00000615', 'x': '0.00000606', 'c': '0.00000602', 'Q': '4094.00000000', 'b': '0.00000601', 'B': '2769.00000000', 'a': '0.00000602', 'A': '5528.00000000', 'o': '0.00000608', 'h': '0.00000633', 'l': '0.00000591', 'v': '597549.00000000', 'q': '3.67603738', 'O': 1712720383023, 'C': 1712806783023, 'F': 14345790, 'L': 14348503, 'n': 2714}, {'e': '24hrTicker', 'E': 1712806783271, 's': 'QTUMUSDT', 'p': '0.56400000', 'P': '11.772', 'w': '5.08336985', 'x': '4.79300000', 'c': '5.35500000', 'Q': '27.70000000', 'b': '5.35400000', 'B': '134.10000000', 'a': '5.35600000', 'A': '56.50000000', 'o': '4.79100000', 'h': '5.49000000', 'l': '4.70500000', 'v': '6291682.60000000', 'q': '31982949.60950000', 'O': 1712720383271, 'C': 1712806783271, 'F': 76698057, 'L': 76925118, 'n': 227062}, {'e': '24hrTicker', 'E': 1712806783219, 's': 'ADAUSDT', 'p': '0.01030000', 'P': '1.780', 'w': '0.57702746', 'x': '0.57880000', 'c': '0.58910000', 'Q': '1828.30000000', 'b': '0.58900000', 'B': '8153.90000000', 'a': '0.58910000', 'A': '29780.30000000', 'o': '0.57880000', 'h': '0.59020000', 'l': '0.55720000', 'v': '130329459.80000000', 'q': '75203676.95953000', 'O': 1712720383218, 'C': 1712806783218, 'F': 484928346, 'L': 485077261, 'n': 148916}, {'e': '24hrTicker', 'E': 1712806783529, 's': 'XRPUSDT', 'p': '0.01650000', 'P': '2.735', 'w': '0.61029687', 'x': '0.60340000', 'c': '0.61980000', 'Q': '21621.00000000', 'b': '0.61970000', 'B': '138711.00000000', 'a': '0.61980000', 'A': '41100.00000000', 'o': '0.60330000', 'h': '0.62080000', 'l': '0.59280000', 'v': '409883454.00000000', 'q': '250150587.61590000', 'O': 1712720383529, 'C': 1712806783529, 'F': 608750966, 'L': 609037927, 'n': 286962}, {'e': '24hrTicker', 'E': 1712806782946, 's': 'ONTUSDT', 'p': '0.02780000', 'P': '8.096', 'w': '0.35439549', 'x': '0.34320000', 'c': '0.37120000', 'Q': '14.00000000', 'b': '0.37100000', 'B': '3189.00000000', 'a': '0.37130000', 'A': '2174.00000000', 'o': '0.34340000', 'h': '0.38100000', 'l': '0.33220000', 'v': '24409028.00000000', 'q': '8650449.37320000', 'O': 1712720382946, 'C': 1712806782946, 'F': 95477729, 'L': 95529487, 'n': 51759}, {'e': '24hrTicker', 'E': 1712806783613, 's': 'TRXUSDT', 'p': '-0.00176000', 'P': '-1.448', 'w': '0.12014073', 'x': '0.12152000', 'c': '0.11976000', 'Q': '6928.30000000', 'b': '0.11976000', 'B': '84134.40000000', 'a': '0.11977000', 'A': '61518.00000000', 'o': '0.12152000', 'h': '0.12395000', 'l': '0.11788000', 'v': '510234133.80000000', 'q': '61299900.31595300', 'O': 1712720383612, 'C': 1712806783612, 'F': 274911375, 'L': 275068540, 'n': 157166}, {'e': '24hrTicker', 'E': 1712806782880, 's': 'ETCUSDT', 'p': '1.21000000', 'P': '3.728', 'w': '32.71731027', 'x': '32.46000000', 'c': '33.67000000', 'Q': '235.16000000', 'b': '33.67000000', 'B': '446.86000000', 'a': '33.68000000', 'A': '253.37000000', 'o': '32.46000000', 'h': '33.67000000', 'l': '31.42000000', 'v': '1549227.72000000', 'q': '50686563.99960000', 'O': 1712720382880, 'C': 1712806782880, 'F': 199248265, 'L': 199346714, 'n': 98450}, {'e': '24hrTicker', 'E': 1712806782845, 's': 'NULSUSDT', 'p': '0.05870000', 'P': '7.186', 'w': '0.86419092', 'x': '0.81710000', 'c': '0.87560000', 'Q': '43.00000000', 'b': '0.87530000', 'B': '63.00000000', 'a': '0.87600000', 'A': '436.00000000', 'o': '0.81690000', 'h': '0.92000000', 'l': '0.81090000', 'v': '7832337.00000000', 'q': '6768634.54720000', 'O': 1712720382845, 'C': 1712806782845, 'F': 29524352, 'L': 29570203, 'n': 45852}, {'e': '24hrTicker', 'E': 1712806783367, 's': 'RENBTC', 'p': '-0.00000004', 'P': '-2.857', 'w': '0.00000139', 'x': '0.00000140', 'c': '0.00000136', 'Q': '827.00000000', 'b': '0.00000135', 'B': '60138.00000000', 'a': '0.00000136', 'A': '7983.00000000', 'o': '0.00000140', 'h': '0.00000142', 'l': '0.00000134', 'v': '843999.00000000', 'q': '1.17040386', 'O': 1712720383367, 'C': 1712806783367, 'F': 18669867, 'L': 18672131, 'n': 2265}, {'e': '24hrTicker', 'E': 1712806783429, 's': 'BNBUSDC', 'p': '37.70000000', 'P': '6.539', 'w': '595.85964744', 'x': '576.70000000', 'c': '614.20000000', 'Q': '0.47100000', 'b': '614.40000000', 'B': '1.11200000', 'a': '614.50000000', 'A': '0.32500000', 'o': '576.50000000', 'h': '617.90000000', 'l': '574.40000000', 'v': '4037.00000000', 'q': '2405485.39670000', 'O': 1712720383429, 'C': 1712806783429, 'F': 6619683, 'L': 6626965, 'n': 7283}, {'e': '24hrTicker', 'E': 1712806783528, 's': 'WAVESUSDT', 'p': '0.08300000', 'P': '2.702', 'w': '3.11291390', 'x': '3.07100000', 'c': '3.15500000', 'Q': '99.25000000', 'b': '3.15500000', 'B': '72.60000000', 'a': '3.15600000', 'A': '379.06000000', 'o': '3.07200000', 'h': '3.22700000', 'l': '2.95500000', 'v': '2830292.81000000', 'q': '8810457.81684000', 'O': 1712720383527, 'C': 1712806783527, 'F': 105863769, 'L': 105919073, 'n': 55305}, {'e': '24hrTicker', 'E': 1712806783610, 's': 'CELRUSDT', 'p': '0.00078000', 'P': '2.394', 'w': '0.03448376', 'x': '0.03261000', 'c': '0.03336000', 'Q': '48938.20000000', 'b': '0.03336000', 'B': '17796.80000000', 'a': '0.03337000', 'A': '11687.10000000', 'o': '0.03258000', 'h': '0.03632000', 'l': '0.03252000', 'v': '349668168.70000000', 'q': '12057874.79143100', 'O': 1712720383609, 'C': 1712806783609, 'F': 65611887, 'L': 65699247, 'n': 87361}, {'e': '24hrTicker', 'E': 1712806783349, 's': 'ALGOUSDT', 'p': '0.00450000', 'P': '1.989', 'w': '0.22619817', 'x': '0.22630000', 'c': '0.23080000', 'Q': '192.00000000', 'b': '0.23070000', 'B': '7123.00000000', 'a': '0.23080000', 'A': '435.00000000', 'o': '0.22630000', 'h': '0.23210000', 'l': '0.21770000', 'v': '46947739.00000000', 'q': '10619492.59840000', 'O': 1712720383349, 'C': 1712806783349, 'F': 145477115, 'L': 145520382, 'n': 43268}, {'e': '24hrTicker', 'E': 1712806783498, 's': 'DOGEUSDT', 'p': '0.01051000', 'P': '5.608', 'w': '0.19305996', 'x': '0.18742000', 'c': '0.19792000', 'Q': '34.00000000', 'b': '0.19791000', 'B': '21357.00000000', 'a': '0.19792000', 'A': '44286.00000000', 'o': '0.18741000', 'h': '0.20280000', 'l': '0.18006000', 'v': '2754309450.00000000', 'q': '531746861.07962000', 'O': 1712720383497, 'C': 1712806783497, 'F': 602324878, 'L': 602991909, 'n': 667032}, {'e': '24hrTicker', 'E': 1712806783247, 's': 'KEYUSDT', 'p': '0.00020600', 'P': '2.157', 'w': '0.00964570', 'x': '0.00956300', 'c': '0.00975700', 'Q': '66490.00000000', 'b': '0.00975700', 'B': '12279.00000000', 'a': '0.00976100', 'A': '49389.00000000', 'o': '0.00955100', 'h': '0.01001400', 'l': '0.00912100', 'v': '764785077.00000000', 'q': '7376885.44928200', 'O': 1712720383246, 'C': 1712806783246, 'F': 51005795, 'L': 51072822, 'n': 67028}, {'e': '24hrTicker', 'E': 1712806783612, 's': 'CHZUSDT', 'p': '0.00274000', 'P': '1.887', 'w': '0.14520360', 'x': '0.14522000', 'c': '0.14795000', 'Q': '50.00000000', 'b': '0.14794000', 'B': '3969.00000000', 'a': '0.14798000', 'A': '1647.00000000', 'o': '0.14521000', 'h': '0.14999000', 'l': '0.13946000', 'v': '117149169.00000000', 'q': '17010481.57150000', 'O': 1712720383612, 'C': 1712806783612, 'F': 183587538, 'L': 183683089, 'n': 95552}, {'e': '24hrTicker', 'E': 1712806783482, 's': 'BANDBTC', 'p': '-0.00000006', 'P': '-0.194', 'w': '0.00003061', 'x': '0.00003076', 'c': '0.00003089', 'Q': '11.80000000', 'b': '0.00003075', 'B': '4.60000000', 'a': '0.00003082', 'A': '148.40000000', 'o': '0.00003095', 'h': '0.00003174', 'l': '0.00003006', 'v': '90324.70000000', 'q': '2.76494825', 'O': 1712720383481, 'C': 1712806783481, 'F': 15705086, 'L': 15706219, 'n': 1134}, {'e': '24hrTicker', 'E': 1712806783479, 's': 'BANDUSDT', 'p': '0.04800000', 'P': '2.248', 'w': '2.13842749', 'x': '2.13500000', 'c': '2.18300000', 'Q': '9.90000000', 'b': '2.18200000', 'B': '232.20000000', 'a': '2.18400000', 'A': '1498.20000000', 'o': '2.13500000', 'h': '2.23600000', 'l': '2.02700000', 'v': '1354734.10000000', 'q': '2897000.63660000', 'O': 1712720383479, 'C': 1712806783479, 'F': 54703537, 'L': 54722017, 'n': 18481}, {'e': '24hrTicker', 'E': 1712806783553, 's': 'HBARUSDT', 'p': '-0.00060000', 'P': '-0.588', 'w': '0.10108438', 'x': '0.10210000', 'c': '0.10150000', 'Q': '10120.00000000', 'b': '0.10140000', 'B': '94618.00000000', 'a': '0.10150000', 'A': '184361.00000000', 'o': '0.10210000', 'h': '0.10350000', 'l': '0.09780000', 'v': '147449543.00000000', 'q': '14904845.11390000', 'O': 1712720383552, 'C': 1712806783552, 'F': 77228612, 'L': 77275688, 'n': 47077}, {'e': '24hrTicker', 'E': 1712806782921, 's': 'NKNUSDT', 'p': '0.00110000', 'P': '0.602', 'w': '0.17870003', 'x': '0.18270000', 'c': '0.18370000', 'Q': '8974.00000000', 'b': '0.18360000', 'B': '18669.00000000', 'a': '0.18370000', 'A': '7825.00000000', 'o': '0.18260000', 'h': '0.18600000', 'l': '0.17190000', 'v': '31052144.00000000', 'q': '5549019.20710000', 'O': 1712720382921, 'C': 1712806782921, 'F': 38534753, 'L': 38571340, 'n': 36588}, {'e': '24hrTicker', 'E': 1712806782741, 's': 'CTXCBTC', 'p': '-0.00000012', 'P': '-2.102', 'w': '0.00000574', 'x': '0.00000571', 'c': '0.00000559', 'Q': '546.00000000', 'b': '0.00000558', 'B': '998.00000000', 'a': '0.00000559', 'A': '72.00000000', 'o': '0.00000571', 'h': '0.00000586', 'l': '0.00000559', 'v': '158554.00000000', 'q': '0.91077829', 'O': 1712720382740, 'C': 1712806782740, 'F': 7775583, 'L': 7778456, 'n': 2874}, {'e': '24hrTicker', 'E': 1712806782740, 's': 'CTXCUSDT', 'p': '0.00210000', 'P': '0.533', 'w': '0.39650611', 'x': '0.39400000', 'c': '0.39640000', 'Q': '73.00000000', 'b': '0.39640000', 'B': '500.00000000', 'a': '0.39660000', 'A': '352.00000000', 'o': '0.39430000', 'h': '0.40410000', 'l': '0.38310000', 'v': '5089563.00000000', 'q': '2018042.82600000', 'O': 1712720382739, 'C': 1712806782739, 'F': 43624246, 'L': 43651204, 'n': 26959}, {'e': '24hrTicker', 'E': 1712806783409, 's': 'BCHUSDT', 'p': '5.60000000', 'P': '0.912', 'w': '618.39067934', 'x': '613.80000000', 'c': '619.50000000', 'Q': '0.23600000', 'b': '619.50000000', 'B': '1.76000000', 'a': '619.60000000', 'A': '7.82900000', 'o': '613.90000000', 'h': '633.90000000', 'l': '594.70000000', 'v': '225435.87800000', 'q': '139407445.74410000', 'O': 1712720383409, 'C': 1712806783409, 'F': 172849204, 'L': 173140074, 'n': 290871}, {'e': '24hrTicker', 'E': 1712806783498, 's': 'BNBTRY', 'p': '1243.00000000', 'P': '6.545', 'w': '19581.60011736', 'x': '18997.00000000', 'c': '20234.00000000', 'Q': '0.00900000', 'b': '20235.00000000', 'B': '0.00200000', 'a': '20240.00000000', 'A': '0.08100000', 'o': '18991.00000000', 'h': '20350.00000000', 'l': '18896.00000000', 'v': '4836.40900000', 'q': '94704627.04200000', 'O': 1712720383497, 'C': 1712806783497, 'F': 25538036, 'L': 25569299, 'n': 31264}, {'e': '24hrTicker', 'E': 1712806783372, 's': 'ETHTRY', 'p': '2464.00000000', 'P': '2.142', 'w': '115516.37380758', 'x': '115077.00000000', 'c': '117514.00000000', 'Q': '0.02110000', 'b': '117491.00000000', 'B': '0.01540000', 'a': '117504.00000000', 'A': '0.09780000', 'o': '115050.00000000', 'h': '117835.00000000', 'l': '112253.00000000', 'v': '1150.05720000', 'q': '132850437.41530000', 'O': 1712720383372, 'C': 1712806783372, 'F': 22761090, 'L': 22783338, 'n': 22249}, {'e': '24hrTicker', 'E': 1712806782855, 's': 'ETHEUR', 'p': '77.40000000', 'P': '2.402', 'w': '3230.83363270', 'x': '3224.44000000', 'c': '3299.15000000', 'Q': '0.12820000', 'b': '3299.80000000', 'B': '0.60000000', 'a': '3300.29000000', 'A': '0.06020000', 'o': '3221.75000000', 'h': '3308.34000000', 'l': '3148.32000000', 'v': '3022.27290000', 'q': '9764460.93253100', 'O': 1712720382854, 'C': 1712806782854, 'F': 93353922, 'L': 93365361, 'n': 11440}, {'e': '24hrTicker', 'E': 1712806783456, 's': 'EURUSDT', 'p': '-0.00340000', 'P': '-0.314', 'w': '1.08104074', 'x': '1.08430000', 'c': '1.08100000', 'Q': '111.10000000', 'b': '1.08090000', 'B': '63627.50000000', 'a': '1.08100000', 'A': '134210.50000000', 'o': '1.08440000', 'h': '1.08900000', 'l': '1.07600000', 'v': '33508238.20000000', 'q': '36223770.69037000', 'O': 1712720383456, 'C': 1712806783456, 'F': 113159910, 'L': 113219372, 'n': 59463}, {'e': '24hrTicker', 'E': 1712806783398, 's': 'LTOUSDT', 'p': '0.01230000', 'P': '5.127', 'w': '0.24981588', 'x': '0.24010000', 'c': '0.25220000', 'Q': '712.00000000', 'b': '0.25220000', 'B': '3311.00000000', 'a': '0.25260000', 'A': '91.00000000', 'o': '0.23990000', 'h': '0.26100000', 'l': '0.23620000', 'v': '22871467.00000000', 'q': '5713655.62920000', 'O': 1712720383398, 'C': 1712806783398, 'F': 31675992, 'L': 31710529, 'n': 34538}, {'e': '24hrTicker', 'E': 1712806783121, 's': 'MBLUSDT', 'p': '0.00013200', 'P': '2.430', 'w': '0.00544121', 'x': '0.00543400', 'c': '0.00556300', 'Q': '3594.00000000', 'b': '0.00556300', 'B': '160236.00000000', 'a': '0.00556600', 'A': '61096.00000000', 'o': '0.00543100', 'h': '0.00560500', 'l': '0.00524200', 'v': '232454339.00000000', 'q': '1264833.06459400', 'O': 1712720383120, 'C': 1712806783120, 'F': 37222319, 'L': 37237339, 'n': 15021}, {'e': '24hrTicker', 'E': 1712806783124, 's': 'SOLUSDT', 'p': '1.33000000', 'P': '0.778', 'w': '169.62356276', 'x': '170.95000000', 'c': '172.28000000', 'Q': '34.51000000', 'b': '172.27000000', 'B': '309.66000000', 'a': '172.28000000', 'A': '28.09000000', 'o': '170.95000000', 'h': '175.50000000', 'l': '162.28000000', 'v': '4418372.29000000', 'q': '749460049.44020000', 'O': 1712720383124, 'C': 1712806783124, 'F': 528319926, 'L': 529080205, 'n': 760280}, {'e': '24hrTicker', 'E': 1712806783516, 's': 'CTSIUSDT', 'p': '0.00330000', 'P': '1.208', 'w': '0.27185279', 'x': '0.27330000', 'c': '0.27640000', 'Q': '19.00000000', 'b': '0.27640000', 'B': '981.00000000', 'a': '0.27660000', 'A': '5732.00000000', 'o': '0.27310000', 'h': '0.28010000', 'l': '0.26070000', 'v': '9565155.00000000', 'q': '2600314.10290000', 'O': 1712720383516, 'C': 1712806783516, 'F': 46071275, 'L': 46084192, 'n': 12918}, {'e': '24hrTicker', 'E': 1712806783364, 's': 'USDTUAH', 'p': '-0.05000000', 'P': '-0.121', 'w': '41.26465237', 'x': '41.32000000', 'c': '41.27000000', 'Q': '24.00000000', 'b': '41.27000000', 'B': '150.00000000', 'a': '41.35000000', 'A': '104.00000000', 'o': '41.32000000', 'h': '41.64000000', 'l': '40.91000000', 'v': '262346.00000000', 'q': '10825616.49000000', 'O': 1712720383363, 'C': 1712806783363, 'F': 10566046, 'L': 10569031, 'n': 2986}, {'e': '24hrTicker', 'E': 1712806783321, 's': 'COMPUSDT', 'p': '0.66000000', 'P': '0.933', 'w': '70.57404815', 'x': '70.72000000', 'c': '71.37000000', 'Q': '3.54600000', 'b': '71.42000000', 'B': '3.37300000', 'a': '71.43000000', 'A': '8.63100000', 'o': '70.71000000', 'h': '72.25000000', 'l': '68.00000000', 'v': '93455.42800000', 'q': '6595527.87598000', 'O': 1712720383321, 'C': 1712806783321, 'F': 68424181, 'L': 68466144, 'n': 41964}, {'e': '24hrTicker', 'E': 1712806783397, 's': 'ZENUSDT', 'p': '0.06000000', 'P': '0.524', 'w': '11.36069788', 'x': '11.45000000', 'c': '11.51000000', 'Q': '1.52000000', 'b': '11.51000000', 'B': '886.59000000', 'a': '11.52000000', 'A': '51.56000000', 'o': '11.45000000', 'h': '11.65000000', 'l': '10.87000000', 'v': '396778.97000000', 'q': '4507686.00330000', 'O': 1712720383396, 'C': 1712806783396, 'F': 46032045, 'L': 46058627, 'n': 26583}, {'e': '24hrTicker', 'E': 1712806783447, 's': 'MKRUSDT', 'p': '27.00000000', 'P': '0.806', 'w': '3364.98834648', 'x': '3351.00000000', 'c': '3378.00000000', 'Q': '0.02150000', 'b': '3377.00000000', 'B': '2.11870000', 'a': '3378.00000000', 'A': '2.12860000', 'o': '3351.00000000', 'h': '3453.00000000', 'l': '3250.00000000', 'v': '6946.28030000', 'q': '23374152.26090000', 'O': 1712720383447, 'C': 1712806783447, 'F': 42062365, 'L': 42124066, 'n': 61702}, {'e': '24hrTicker', 'E': 1712806783604, 's': 'MANAUSDT', 'p': '0.01090000', 'P': '1.802', 'w': '0.59665353', 'x': '0.60510000', 'c': '0.61570000', 'Q': '1293.00000000', 'b': '0.61570000', 'B': '1328.00000000', 'a': '0.61580000', 'A': '1652.00000000', 'o': '0.60480000', 'h': '0.61870000', 'l': '0.57800000', 'v': '22682757.00000000', 'q': '13533747.05580000', 'O': 1712720383603, 'C': 1712806783603, 'F': 204901951, 'L': 204955212, 'n': 53262}, {'e': '24hrTicker', 'E': 1712806783134, 's': 'BLZUSDT', 'p': '0.00740000', 'P': '1.766', 'w': '0.42779580', 'x': '0.41850000', 'c': '0.42650000', 'Q': '4175.00000000', 'b': '0.42640000', 'B': '12.00000000', 'a': '0.42660000', 'A': '3682.00000000', 'o': '0.41910000', 'h': '0.44460000', 'l': '0.40970000', 'v': '10554573.00000000', 'q': '4515201.98570000', 'O': 1712720383133, 'C': 1712806783133, 'F': 49360835, 'L': 49400712, 'n': 39878}, {'e': '24hrTicker', 'E': 1712806783075, 's': 'IRISUSDT', 'p': '0.00093000', 'P': '2.465', 'w': '0.03798613', 'x': '0.03773000', 'c': '0.03866000', 'Q': '518.50000000', 'b': '0.03866000', 'B': '5209.50000000', 'a': '0.03868000', 'A': '1385.20000000', 'o': '0.03773000', 'h': '0.03889000', 'l': '0.03670000', 'v': '35925782.50000000', 'q': '1364681.27978900', 'O': 1712720383075, 'C': 1712806783075, 'F': 22146505, 'L': 22173935, 'n': 27431}, {'e': '24hrTicker', 'E': 1712806783139, 's': 'ETHDAI', 'p': '63.77000000', 'P': '1.823', 'w': '3495.48478058', 'x': '3496.23000000', 'c': '3561.36000000', 'Q': '0.00340000', 'b': '3567.40000000', 'B': '0.28030000', 'a': '3567.81000000', 'A': '0.28020000', 'o': '3497.59000000', 'h': '3576.35000000', 'l': '3417.27000000', 'v': '93.23880000', 'q': '325914.80636000', 'O': 1712720383138, 'C': 1712806783138, 'F': 13617532, 'L': 13617943, 'n': 412}, {'e': '24hrTicker', 'E': 1712806782821, 's': 'JSTUSDT', 'p': '0.00221000', 'P': '5.689', 'w': '0.03950130', 'x': '0.03885000', 'c': '0.04106000', 'Q': '1062.30000000', 'b': '0.04106000', 'B': '4354.70000000', 'a': '0.04109000', 'A': '10871.80000000', 'o': '0.03885000', 'h': '0.04165000', 'l': '0.03748000', 'v': '264617290.50000000', 'q': '10452727.67022900', 'O': 1712720382821, 'C': 1712806782821, 'F': 30149979, 'L': 30198868, 'n': 48890}, {'e': '24hrTicker', 'E': 1712806783365, 's': 'OCEANUSDT', 'p': '0.01460000', 'P': '1.339', 'w': '1.07739797', 'x': '1.09170000', 'c': '1.10520000', 'Q': '137.00000000', 'b': '1.10520000', 'B': '320.00000000', 'a': '1.10550000', 'A': '228.00000000', 'o': '1.09060000', 'h': '1.11300000', 'l': '1.03500000', 'v': '9202688.00000000', 'q': '9914957.35770000', 'O': 1712720383365, 'C': 1712806783365, 'F': 51646268, 'L': 51698951, 'n': 52684}, {'e': '24hrTicker', 'E': 1712806783368, 's': 'LUNAUSDT', 'p': '0.01170000', 'P': '1.361', 'w': '0.84945855', 'x': '0.85940000', 'c': '0.87120000', 'Q': '440.69000000', 'b': '0.87130000', 'B': '500.79000000', 'a': '0.87140000', 'A': '218.82000000', 'o': '0.85950000', 'h': '0.87650000', 'l': '0.80400000', 'v': '14505907.33000000', 'q': '12322167.06412300', 'O': 1712720383367, 'C': 1712806783367, 'F': 252142244, 'L': 252209482, 'n': 67239}, {'e': '24hrTicker', 'E': 1712806783324, 's': 'IDEXBTC', 'p': '0.00000000', 'P': '0.000', 'w': '0.00000125', 'x': '0.00000124', 'c': '0.00000125', 'Q': '26249.00000000', 'b': '0.00000125', 'B': '85969.00000000', 'a': '0.00000126', 'A': '212788.00000000', 'o': '0.00000125', 'h': '0.00000126', 'l': '0.00000122', 'v': '1270366.00000000', 'q': '1.58179336', 'O': 1712720383324, 'C': 1712806783324, 'F': 8658341, 'L': 8660401, 'n': 2061}, {'e': '24hrTicker', 'E': 1712806783569, 's': 'WNXMUSDT', 'p': '1.35000000', 'P': '1.908', 'w': '71.55027731', 'x': '70.68000000', 'c': '72.11000000', 'Q': '0.09000000', 'b': '72.08000000', 'B': '1.47000000', 'a': '72.21000000', 'A': '2.18000000', 'o': '70.76000000', 'h': '73.47000000', 'l': '69.13000000', 'v': '36951.83000000', 'q': '2643913.68350000', 'O': 1712720383568, 'C': 1712806783568, 'F': 12470460, 'L': 12525249, 'n': 54790}, {'e': '24hrTicker', 'E': 1712806782646, 's': 'WINGUSDT', 'p': '-0.02000000', 'P': '-0.250', 'w': '8.05671272', 'x': '7.99000000', 'c': '7.97000000', 'Q': '504.00000000', 'b': '7.97000000', 'B': '197.44000000', 'a': '7.98000000', 'A': '47.75000000', 'o': '7.99000000', 'h': '8.50000000', 'l': '7.68000000', 'v': '651408.44000000', 'q': '5248210.66150000', 'O': 1712720382646, 'C': 1712806782646, 'F': 26136425, 'L': 26173484, 'n': 37060}, {'e': '24hrTicker', 'E': 1712806782726, 's': 'UNIBNB', 'p': '-0.00375000', 'P': '-19.531', 'w': '0.01672031', 'x': '0.01920000', 'c': '0.01545000', 'Q': '14.42000000', 'b': '0.01544000', 'B': '91.38000000', 'a': '0.01547000', 'A': '29.14000000', 'o': '0.01920000', 'h': '0.01941000', 'l': '0.01485000', 'v': '64475.20000000', 'q': '1078.04523770', 'O': 1712720382726, 'C': 1712806782726, 'F': 5477940, 'L': 5480984, 'n': 3045}, {'e': '24hrTicker', 'E': 1712806783491, 's': 'UNIBTC', 'p': '-0.00002650', 'P': '-16.511', 'w': '0.00013995', 'x': '0.00015960', 'c': '0.00013400', 'Q': '3.10000000', 'b': '0.00013380', 'B': '81.79000000', 'a': '0.00013390', 'A': '165.57000000', 'o': '0.00016050', 'h': '0.00016310', 'l': '0.00012780', 'v': '394097.21000000', 'q': '55.15278545', 'O': 1712720383491, 'C': 1712806783491, 'F': 27994079, 'L': 28006990, 'n': 12912}, {'e': '24hrTicker', 'E': 1712806783581, 's': 'UNIUSDT', 'p': '-1.58100000', 'P': '-14.277', 'w': '9.87953915', 'x': '11.06500000', 'c': '9.49300000', 'Q': '11.06000000', 'b': '9.49100000', 'B': '373.42000000', 'a': '9.49300000', 'A': '59.86000000', 'o': '11.07400000', 'h': '11.31600000', 'l': '9.00000000', 'v': '17136238.13000000', 'q': '169298135.43297000', 'O': 1712720383581, 'C': 1712806783581, 'F': 140031998, 'L': 140461679, 'n': 429682}, {'e': '24hrTicker', 'E': 1712806782626, 's': 'SUNUSDT', 'p': '-0.00000900', 'P': '-0.059', 'w': '0.01522066', 'x': '0.01529300', 'c': '0.01528500', 'Q': '404.00000000', 'b': '0.01528600', 'B': '3543.00000000', 'a': '0.01530100', 'A': '412.00000000', 'o': '0.01529400', 'h': '0.01553900', 'l': '0.01492000', 'v': '74338557.00000000', 'q': '1131481.87909500', 'O': 1712720382626, 'C': 1712806782626, 'F': 29473082, 'L': 29482955, 'n': 9874}, {'e': '24hrTicker', 'E': 1712806783041, 's': 'AVAXUSDT', 'p': '0.42000000', 'P': '0.906', 'w': '46.90999138', 'x': '46.38000000', 'c': '46.79000000', 'Q': '9.00000000', 'b': '46.79000000', 'B': '352.26000000', 'a': '46.80000000', 'A': '404.58000000', 'o': '46.37000000', 'h': '48.01000000', 'l': '45.07000000', 'v': '2066265.50000000', 'q': '96928496.78880000', 'O': 1712720383041, 'C': 1712806783041, 'F': 270756187, 'L': 270926401, 'n': 170215}, {'e': '24hrTicker', 'E': 1712806782772, 's': 'ALPHAUSDT', 'p': '0.01320000', 'P': '7.530', 'w': '0.17629979', 'x': '0.17540000', 'c': '0.18850000', 'Q': '376.00000000', 'b': '0.18830000', 'B': '27839.00000000', 'a': '0.18840000', 'A': '1061.00000000', 'o': '0.17530000', 'h': '0.18970000', 'l': '0.15970000', 'v': '68617450.00000000', 'q': '12097242.31560000', 'O': 1712720382772, 'C': 1712806782772, 'F': 49089094, 'L': 49161463, 'n': 72370}, {'e': '24hrTicker', 'E': 1712806782663, 's': 'AAVEETH', 'p': '0.00063000', 'P': '1.781', 'w': '0.03621209', 'x': '0.03537000', 'c': '0.03600000', 'Q': '1.03900000', 'b': '0.03597000', 'B': '3.21500000', 'a': '0.03600000', 'A': '29.24000000', 'o': '0.03537000', 'h': '0.03746000', 'l': '0.03503000', 'v': '7104.04900000', 'q': '257.25248661', 'O': 1712720382663, 'C': 1712806782663, 'F': 3680332, 'L': 3685812, 'n': 5481}, {'e': '24hrTicker', 'E': 1712806783398, 's': 'INJBNB', 'p': '-0.00288000', 'P': '-5.089', 'w': '0.05529594', 'x': '0.05620000', 'c': '0.05371000', 'Q': '0.90000000', 'b': '0.05370000', 'B': '6.50000000', 'a': '0.05387000', 'A': '6.10000000', 'o': '0.05659000', 'h': '0.05694000', 'l': '0.05360000', 'v': '3435.00000000', 'q': '189.94154900', 'O': 1712720383397, 'C': 1712806783397, 'F': 3767934, 'L': 3768314, 'n': 381}, {'e': '24hrTicker', 'E': 1712806783567, 's': 'INJUSDT', 'p': '0.49000000', 'P': '1.505', 'w': '32.70040558', 'x': '32.55000000', 'c': '33.04000000', 'Q': '2.90000000', 'b': '33.04000000', 'B': '212.20000000', 'a': '33.05000000', 'A': '102.20000000', 'o': '32.55000000', 'h': '33.83000000', 'l': '31.52000000', 'v': '976214.50000000', 'q': '31922610.08700000', 'O': 1712720383567, 'C': 1712806783567, 'F': 83790601, 'L': 83882054, 'n': 91454}, {'e': '24hrTicker', 'E': 1712806782622, 's': 'AUDIOBTC', 'p': '-0.00000015', 'P': '-3.846', 'w': '0.00000383', 'x': '0.00000390', 'c': '0.00000375', 'Q': '15853.80000000', 'b': '0.00000375', 'B': '20870.70000000', 'a': '0.00000376', 'A': '27.00000000', 'o': '0.00000390', 'h': '0.00000395', 'l': '0.00000374', 'v': '419544.00000000', 'q': '1.60574034', 'O': 1712720382621, 'C': 1712806782621, 'F': 11273458, 'L': 11274353, 'n': 896}, {'e': '24hrTicker', 'E': 1712806783524, 's': 'AKROUSDT', 'p': '0.00203000', 'P': '26.316', 'w': '0.00911787', 'x': '0.00771600', 'c': '0.00974400', 'Q': '1744.00000000', 'b': '0.00974400', 'B': '978.00000000', 'a': '0.00974600', 'A': '157.00000000', 'o': '0.00771400', 'h': '0.01013000', 'l': '0.00768700', 'v': '2964915877.00000000', 'q': '27033730.95331900', 'O': 1712720383524, 'C': 1712806783524, 'F': 48133885, 'L': 48668814, 'n': 534930}, {'e': '24hrTicker', 'E': 1712806782848, 's': 'LTCEUR', 'p': '0.39000000', 'P': '0.437', 'w': '88.72852205', 'x': '89.35000000', 'c': '89.68000000', 'Q': '2.62200000', 'b': '89.75000000', 'B': '0.09100000', 'a': '89.79000000', 'A': '0.08400000', 'o': '89.29000000', 'h': '90.58000000', 'l': '86.24000000', 'v': '3742.17000000', 'q': '332037.21337000', 'O': 1712720382847, 'C': 1712806782847, 'F': 10376759, 'L': 10379621, 'n': 2863}, {'e': '24hrTicker', 'E': 1712806783422, 's': 'ROSEUSDT', 'p': '-0.00105000', 'P': '-0.845', 'w': '0.12293930', 'x': '0.12419000', 'c': '0.12314000', 'Q': '507.00000000', 'b': '0.12312000', 'B': '2033.70000000', 'a': '0.12313000', 'A': '1363.80000000', 'o': '0.12419000', 'h': '0.12604000', 'l': '0.11879000', 'v': '104391143.40000000', 'q': '12833774.48381400', 'O': 1712720383422, 'C': 1712806783422, 'F': 105479004, 'L': 105563309, 'n': 84306}, {'e': '24hrTicker', 'E': 1712806783560, 's': 'AVAXTRY', 'p': '13.10000000', 'P': '0.857', 'w': '1546.05878409', 'x': '1528.20000000', 'c': '1541.30000000', 'Q': '6.48000000', 'b': '1541.60000000', 'B': '6.09000000', 'a': '1541.80000000', 'A': '77.52000000', 'o': '1528.20000000', 'h': '1582.00000000', 'l': '1480.10000000', 'v': '51811.40000000', 'q': '80103470.08600000', 'O': 1712720383560, 'C': 1712806783560, 'F': 29662844, 'L': 29674003, 'n': 11160}, {'e': '24hrTicker', 'E': 1712806783422, 's': 'SKLUSDT', 'p': '0.00170000', 'P': '1.463', 'w': '0.11529197', 'x': '0.11614000', 'c': '0.11786000', 'Q': '1172.00000000', 'b': '0.11785000', 'B': '3124.00000000', 'a': '0.11791000', 'A': '7404.00000000', 'o': '0.11616000', 'h': '0.11796000', 'l': '0.11100000', 'v': '46129047.00000000', 'q': '5318308.71550000', 'O': 1712720383422, 'C': 1712806783422, 'F': 48528687, 'L': 48581773, 'n': 53087}, {'e': '24hrTicker', 'E': 1712806782621, 's': 'GRTBTC', 'p': '-0.00000020', 'P': '-4.237', 'w': '0.00000466', 'x': '0.00000471', 'c': '0.00000452', 'Q': '3781.00000000', 'b': '0.00000451', 'B': '58070.00000000', 'a': '0.00000453', 'A': '20590.00000000', 'o': '0.00000472', 'h': '0.00000479', 'l': '0.00000451', 'v': '989031.00000000', 'q': '4.61190054', 'O': 1712720382621, 'C': 1712806782621, 'F': 14148460, 'L': 14149726, 'n': 1267}, {'e': '24hrTicker', 'E': 1712806782668, 's': 'GRTUSDT', 'p': '-0.00470000', 'P': '-1.445', 'w': '0.32356792', 'x': '0.32530000', 'c': '0.32060000', 'Q': '1805.00000000', 'b': '0.32050000', 'B': '23833.00000000', 'a': '0.32060000', 'A': '2813.00000000', 'o': '0.32530000', 'h': '0.33230000', 'l': '0.31280000', 'v': '54349306.00000000', 'q': '17585692.02470000', 'O': 1712720382667, 'C': 1712806782667, 'F': 127079338, 'L': 127167161, 'n': 87824}, {'e': '24hrTicker', 'E': 1712806783026, 's': '1INCHBTC', 'p': '-0.00000028', 'P': '-3.402', 'w': '0.00000804', 'x': '0.00000822', 'c': '0.00000795', 'Q': '1682.90000000', 'b': '0.00000796', 'B': '150.00000000', 'a': '0.00000797', 'A': '2237.70000000', 'o': '0.00000823', 'h': '0.00000834', 'l': '0.00000789', 'v': '453253.90000000', 'q': '3.64612997', 'O': 1712720383025, 'C': 1712806783025, 'F': 10976644, 'L': 10979034, 'n': 2391}, {'e': '24hrTicker', 'E': 1712806783615, 's': '1INCHUSDT', 'p': '-0.00330000', 'P': '-0.581', 'w': '0.55932623', 'x': '0.56800000', 'c': '0.56480000', 'Q': '1624.10000000', 'b': '0.56480000', 'B': '3898.40000000', 'a': '0.56490000', 'A': '2100.50000000', 'o': '0.56810000', 'h': '0.57970000', 'l': '0.53890000', 'v': '12602069.50000000', 'q': '7048667.99447000', 'O': 1712720383615, 'C': 1712806783615, 'F': 85222961, 'L': 85260547, 'n': 37587}, {'e': '24hrTicker', 'E': 1712806783160, 's': 'CKBUSDT', 'p': '0.00014900', 'P': '0.460', 'w': '0.03462540', 'x': '0.03237100', 'c': '0.03252000', 'Q': '3245.00000000', 'b': '0.03253100', 'B': '3245.00000000', 'a': '0.03253200', 'A': '544.00000000', 'o': '0.03237100', 'h': '0.03797700', 'l': '0.03114100', 'v': '6022930880.00000000', 'q': '208546386.76698300', 'O': 1712720383159, 'C': 1712806783159, 'F': 51059106, 'L': 51961616, 'n': 902511}, {'e': '24hrTicker', 'E': 1712806783269, 's': 'TWTUSDT', 'p': '0.04560000', 'P': '3.758', 'w': '1.22081060', 'x': '1.21370000', 'c': '1.25890000', 'Q': '39.00000000', 'b': '1.25890000', 'B': '48.00000000', 'a': '1.25910000', 'A': '46.00000000', 'o': '1.21330000', 'h': '1.26030000', 'l': '1.18230000', 'v': '3213545.00000000', 'q': '3923129.78540000', 'O': 1712720383269, 'C': 1712806783269, 'F': 50462270, 'L': 50506496, 'n': 44227}, {'e': '24hrTicker', 'E': 1712806782923, 's': 'DOGETRY', 'p': '0.33700000', 'P': '5.460', 'w': '6.41682323', 'x': '6.17200000', 'c': '6.50900000', 'Q': '384.00000000', 'b': '6.51800000', 'B': '5.00000000', 'a': '6.52000000', 'A': '30876.00000000', 'o': '6.17200000', 'h': '6.66300000', 'l': '5.91600000', 'v': '30416661.00000000', 'q': '195178336.80800000', 'O': 1712720382923, 'C': 1712806782923, 'F': 44528860, 'L': 44557306, 'n': 28447}, {'e': '24hrTicker', 'E': 1712806783305, 's': 'SFPUSDT', 'p': '0.01100000', 'P': '1.257', 'w': '0.88529911', 'x': '0.87540000', 'c': '0.88630000', 'Q': '6.00000000', 'b': '0.88620000', 'B': '18.00000000', 'a': '0.88630000', 'A': '4780.00000000', 'o': '0.87530000', 'h': '0.92170000', 'l': '0.85380000', 'v': '13363936.00000000', 'q': '11831080.65550000', 'O': 1712720383304, 'C': 1712806783304, 'F': 51340748, 'L': 51483707, 'n': 142960}, {'e': '24hrTicker', 'E': 1712806783331, 's': 'BADGERUSDT', 'p': '0.06600000', 'P': '1.095', 'w': '5.92465644', 'x': '6.02800000', 'c': '6.09400000', 'Q': '11.63000000', 'b': '6.09000000', 'B': '105.39000000', 'a': '6.09400000', 'A': '6.98000000', 'o': '6.02800000', 'h': '6.14700000', 'l': '5.62700000', 'v': '806485.89000000', 'q': '4778151.82427000', 'O': 1712720383330, 'C': 1712806783330, 'F': 25079985, 'L': 25108862, 'n': 28878}, {'e': '24hrTicker', 'E': 1712806782860, 's': 'FISUSDT', 'p': '0.04010000', 'P': '5.482', 'w': '0.74232480', 'x': '0.73190000', 'c': '0.77160000', 'Q': '2.00000000', 'b': '0.77170000', 'B': '19.00000000', 'a': '0.77190000', 'A': '162.00000000', 'o': '0.73150000', 'h': '0.77360000', 'l': '0.71220000', 'v': '3306326.00000000', 'q': '2454367.77540000', 'O': 1712720382860, 'C': 1712806782860, 'F': 25607046, 'L': 25682666, 'n': 75621}, {'e': '24hrTicker', 'E': 1712806782690, 's': 'OMUSDT', 'p': '0.13070000', 'P': '17.132', 'w': '0.84953212', 'x': '0.76268000', 'c': '0.89361000', 'Q': '312.00000000', 'b': '0.89366000', 'B': '112.00000000', 'a': '0.89395000', 'A': '18.00000000', 'o': '0.76291000', 'h': '0.91895000', 'l': '0.75855000', 'v': '65079490.00000000', 'q': '55287117.32616000', 'O': 1712720382690, 'C': 1712806782690, 'F': 43138924, 'L': 43541593, 'n': 402670}, {'e': '24hrTicker', 'E': 1712806783424, 's': 'ALICEUSDT', 'p': '-0.00800000', 'P': '-0.442', 'w': '1.77088181', 'x': '1.80900000', 'c': '1.80100000', 'Q': '489.09000000', 'b': '1.80100000', 'B': '252.36000000', 'a': '1.80300000', 'A': '1894.10000000', 'o': '1.80900000', 'h': '1.82800000', 'l': '1.70000000', 'v': '1358851.35000000', 'q': '2406365.14035000', 'O': 1712720383423, 'C': 1712806783423, 'F': 90135604, 'L': 90153135, 'n': 17532}, {'e': '24hrTicker', 'E': 1712806782936, 's': 'LINABTC', 'p': '-0.00000001', 'P': '-5.000', 'w': '0.00000019', 'x': '0.00000019', 'c': '0.00000019', 'Q': '111117.00000000', 'b': '0.00000018', 'B': '24878354.00000000', 'a': '0.00000019', 'A': '8042334.00000000', 'o': '0.00000020', 'h': '0.00000020', 'l': '0.00000018', 'v': '36977019.00000000', 'q': '7.02562336', 'O': 1712720382935, 'C': 1712806782935, 'F': 2926739, 'L': 2928590, 'n': 1852}, {'e': '24hrTicker', 'E': 1712806783160, 's': 'NEOTRY', 'p': '91.00000000', 'P': '14.082', 'w': '699.29363805', 'x': '646.20000000', 'c': '737.20000000', 'Q': '14.39000000', 'b': '737.20000000', 'B': '24.30000000', 'a': '737.80000000', 'A': '8.44000000', 'o': '646.20000000', 'h': '760.00000000', 'l': '611.90000000', 'v': '96742.82000000', 'q': '67651638.55300000', 'O': 1712720383160, 'C': 1712806783160, 'F': 3617593, 'L': 3628749, 'n': 11157}, {'e': '24hrTicker', 'E': 1712806783162, 's': 'PERPUSDT', 'p': '0.12313000', 'P': '8.293', 'w': '1.50114883', 'x': '1.48418000', 'c': '1.60780000', 'Q': '100.00000000', 'b': '1.60788000', 'B': '30.00000000', 'a': '1.60829000', 'A': '30.00000000', 'o': '1.48467000', 'h': '1.63859000', 'l': '1.33683000', 'v': '12362866.75000000', 'q': '18558502.98332600', 'O': 1712720383161, 'C': 1712806783161, 'F': 42653983, 'L': 42903076, 'n': 249094}, {'e': '24hrTicker', 'E': 1712806782829, 's': 'SUPERBTC', 'p': '-0.00000099', 'P': '-6.051', 'w': '0.00001589', 'x': '0.00001630', 'c': '0.00001537', 'Q': '45.00000000', 'b': '0.00001538', 'B': '87.00000000', 'a': '0.00001540', 'A': '962.00000000', 'o': '0.00001636', 'h': '0.00001644', 'l': '0.00001531', 'v': '88669.00000000', 'q': '1.40870052', 'O': 1712720382828, 'C': 1712806782828, 'F': 5297013, 'L': 5298116, 'n': 1104}, {'e': '24hrTicker', 'E': 1712806782960, 's': 'SUPERUSDT', 'p': '-0.03650000', 'P': '-3.236', 'w': '1.10150699', 'x': '1.12830000', 'c': '1.09130000', 'Q': '46.00000000', 'b': '1.09080000', 'B': '314.00000000', 'a': '1.09150000', 'A': '7.00000000', 'o': '1.12780000', 'h': '1.14180000', 'l': '1.06000000', 'v': '4602109.00000000', 'q': '5069255.21710000', 'O': 1712720382959, 'C': 1712806782959, 'F': 43787449, 'L': 43840051, 'n': 52603}, {'e': '24hrTicker', 'E': 1712806783328, 's': 'CFXBTC', 'p': '0.00000004', 'P': '0.849', 'w': '0.00000489', 'x': '0.00000470', 'c': '0.00000475', 'Q': '565.00000000', 'b': '0.00000474', 'B': '62706.00000000', 'a': '0.00000476', 'A': '11604.00000000', 'o': '0.00000471', 'h': '0.00000512', 'l': '0.00000468', 'v': '3865445.00000000', 'q': '18.88439300', 'O': 1712720383327, 'C': 1712806783327, 'F': 4637862, 'L': 4642177, 'n': 4316}, {'e': '24hrTicker', 'E': 1712806782646, 's': 'ONTTRY', 'p': '0.88700000', 'P': '7.827', 'w': '11.79254323', 'x': '11.30000000', 'c': '12.22000000', 'Q': '181.00000000', 'b': '12.21800000', 'B': '2475.00000000', 'a': '12.24100000', 'A': '2127.00000000', 'o': '11.33300000', 'h': '12.54000000', 'l': '10.92500000', 'v': '841633.00000000', 'q': '9924993.54000000', 'O': 1712720382645, 'C': 1712806782645, 'F': 3364031, 'L': 3366498, 'n': 2468}, {'e': '24hrTicker', 'E': 1712806783467, 's': 'BARUSDT', 'p': '0.18700000', 'P': '5.184', 'w': '3.86481127', 'x': '3.60700000', 'c': '3.79400000', 'Q': '148.03000000', 'b': '3.79500000', 'B': '9.55000000', 'a': '3.79900000', 'A': '11.18000000', 'o': '3.60700000', 'h': '4.04800000', 'l': '3.60100000', 'v': '2218160.42000000', 'q': '8572771.39963000', 'O': 1712720383466, 'C': 1712806783466, 'F': 13681099, 'L': 13722796, 'n': 41698}, {'e': '24hrTicker', 'E': 1712806783111, 's': 'SLPUSDT', 'p': '0.00000600', 'P': '0.112', 'w': '0.00532902', 'x': '0.00537600', 'c': '0.00538200', 'Q': '12086.00000000', 'b': '0.00538200', 'B': '81104.00000000', 'a': '0.00538300', 'A': '138295.00000000', 'o': '0.00537600', 'h': '0.00546800', 'l': '0.00513000', 'v': '742212850.00000000', 'q': '3955270.53726100', 'O': 1712720383110, 'C': 1712806783110, 'F': 106031136, 'L': 106055787, 'n': 24652}, {'e': '24hrTicker', 'E': 1712806783566, 's': 'SHIBUSDT', 'p': '0.00000068', 'P': '2.506', 'w': '0.00002755', 'x': '0.00002715', 'c': '0.00002782', 'Q': '718907.00', 'b': '0.00002781', 'B': '1077935028.00', 'a': '0.00002782', 'A': '1112211845.00', 'o': '0.00002714', 'h': '0.00002828', 'l': '0.00002641', 'v': '4823030427519.00', 'q': '132854760.76875761', 'O': 1712720383565, 'C': 1712806783565, 'F': 515813839, 'L': 517577142, 'n': 1763304}, {'e': '24hrTicker', 'E': 1712806783607, 's': 'ARUSDT', 'p': '0.25500000', 'P': '0.825', 'w': '30.58643511', 'x': '30.91700000', 'c': '31.17000000', 'Q': '0.08000000', 'b': '31.17200000', 'B': '11.47000000', 'a': '31.18000000', 'A': '12.24000000', 'o': '30.91500000', 'h': '31.76800000', 'l': '29.06000000', 'v': '519025.52000000', 'q': '15875140.38965000', 'O': 1712720383606, 'C': 1712806783606, 'F': 64823768, 'L': 64913436, 'n': 89669}, {'e': '24hrTicker', 'E': 1712806782782, 's': 'MDXUSDT', 'p': '0.00201000', 'P': '2.740', 'w': '0.07441646', 'x': '0.07326000', 'c': '0.07536000', 'Q': '294.60000000', 'b': '0.07537000', 'B': '1770.90000000', 'a': '0.07545000', 'A': '954.00000000', 'o': '0.07335000', 'h': '0.07809000', 'l': '0.07020000', 'v': '25676854.30000000', 'q': '1910780.72480300', 'O': 1712720382782, 'C': 1712806782782, 'F': 25955978, 'L': 25993741, 'n': 37764}, {'e': '24hrTicker', 'E': 1712806783468, 's': 'AGIXBTC', 'p': '-0.00000011', 'P': '-0.737', 'w': '0.00001492', 'x': '0.00001492', 'c': '0.00001481', 'Q': '2588.00000000', 'b': '0.00001482', 'B': '285.00000000', 'a': '0.00001483', 'A': '483.00000000', 'o': '0.00001492', 'h': '0.00001514', 'l': '0.00001459', 'v': '658036.00000000', 'q': '9.81989126', 'O': 1712720383467, 'C': 1712806783467, 'F': 12842908, 'L': 12849288, 'n': 6381}, {'e': '24hrTicker', 'E': 1712806783021, 's': 'XVGUSDT', 'p': '-0.00068700', 'P': '-7.326', 'w': '0.00890393', 'x': '0.00937800', 'c': '0.00869000', 'Q': '6627.00000000', 'b': '0.00868800', 'B': '7963.00000000', 'a': '0.00869100', 'A': '869.00000000', 'o': '0.00937700', 'h': '0.00962800', 'l': '0.00830000', 'v': '3066255109.00000000', 'q': '27301730.64013900', 'O': 1712720383020, 'C': 1712806783020, 'F': 28607898, 'L': 28800790, 'n': 192893}, {'e': '24hrTicker', 'E': 1712806783558, 's': 'ERNUSDT', 'p': '0.32300000', 'P': '5.127', 'w': '6.35524558', 'x': '6.28700000', 'c': '6.62300000', 'Q': '4.60000000', 'b': '6.62300000', 'B': '7.80000000', 'a': '6.63400000', 'A': '13.70000000', 'o': '6.30000000', 'h': '6.67200000', 'l': '6.00100000', 'v': '440044.30000000', 'q': '2796589.59210000', 'O': 1712720383557, 'C': 1712806783557, 'F': 18368733, 'L': 18387060, 'n': 18328}, {'e': '24hrTicker', 'E': 1712806783216, 's': 'KLAYUSDT', 'p': '0.00530000', 'P': '2.215', 'w': '0.23978106', 'x': '0.23940000', 'c': '0.24460000', 'Q': '20.70000000', 'b': '0.24460000', 'B': '10648.90000000', 'a': '0.24470000', 'A': '4022.60000000', 'o': '0.23930000', 'h': '0.24530000', 'l': '0.23080000', 'v': '17215621.30000000', 'q': '4127979.90318000', 'O': 1712720383215, 'C': 1712806783215, 'F': 32855854, 'L': 32887646, 'n': 31793}, {'e': '24hrTicker', 'E': 1712806782993, 's': 'C98USDT', 'p': '0.00200000', 'P': '0.493', 'w': '0.40869206', 'x': '0.40590000', 'c': '0.40800000', 'Q': '155.50000000', 'b': '0.40770000', 'B': '1425.30000000', 'a': '0.40790000', 'A': '841.20000000', 'o': '0.40600000', 'h': '0.42840000', 'l': '0.39620000', 'v': '18705427.80000000', 'q': '7644759.87033000', 'O': 1712720382992, 'C': 1712806782992, 'F': 58259663, 'L': 58293830, 'n': 34168}, {'e': '24hrTicker', 'E': 1712806782916, 's': 'RAYUSDT', 'p': '0.01930000', 'P': '1.001', 'w': '1.93666483', 'x': '1.92790000', 'c': '1.94740000', 'Q': '17.80000000', 'b': '1.94740000', 'B': '0.90000000', 'a': '1.94790000', 'A': '67.20000000', 'o': '1.92810000', 'h': '2.01130000', 'l': '1.88100000', 'v': '6277162.00000000', 'q': '12156758.85851000', 'O': 1712720382915, 'C': 1712806782915, 'F': 56605878, 'L': 56739957, 'n': 134080}, {'e': '24hrTicker', 'E': 1712806783534, 's': 'FARMUSDT', 'p': '18.29000000', 'P': '21.238', 'w': '102.93397861', 'x': '86.02000000', 'c': '104.41000000', 'Q': '0.93000000', 'b': '104.29000000', 'B': '1.17200000', 'a': '104.42000000', 'A': '23.10000000', 'o': '86.12000000', 'h': '117.86000000', 'l': '84.00000000', 'v': '1265365.88700000', 'q': '130249145.14541000', 'O': 1712720383534, 'C': 1712806783534, 'F': 16291128, 'L': 16921913, 'n': 630786}, {'e': '24hrTicker', 'E': 1712806783165, 's': 'TLMTRY', 'p': '-0.00470000', 'P': '-0.601', 'w': '0.77193649', 'x': '0.78010000', 'c': '0.77740000', 'Q': '170199.00000000', 'b': '0.77630000', 'B': '18447.00000000', 'a': '0.77740000', 'A': '18447.00000000', 'o': '0.78210000', 'h': '0.80110000', 'l': '0.73500000', 'v': '10782031.00000000', 'q': '8323043.17080000', 'O': 1712720383164, 'C': 1712806783164, 'F': 8429841, 'L': 8434349, 'n': 4509}, {'e': '24hrTicker', 'E': 1712806782704, 's': 'GHSTUSDT', 'p': '0.05600000', 'P': '2.204', 'w': '2.51860486', 'x': '2.54100000', 'c': '2.59700000', 'Q': '111.70000000', 'b': '2.59400000', 'B': '8.40000000', 'a': '2.59600000', 'A': '115.80000000', 'o': '2.54100000', 'h': '2.63000000', 'l': '2.40000000', 'v': '2190228.90000000', 'q': '5516321.15680000', 'O': 1712720382703, 'C': 1712806782703, 'F': 7885155, 'L': 7915819, 'n': 30665}, {'e': '24hrTicker', 'E': 1712806783341, 's': 'GNOUSDT', 'p': '8.10000000', 'P': '2.253', 'w': '362.14349321', 'x': '359.90000000', 'c': '367.60000000', 'Q': '0.04100000', 'b': '367.50000000', 'B': '1.56600000', 'a': '367.90000000', 'A': '0.32800000', 'o': '359.50000000', 'h': '370.00000000', 'l': '350.70000000', 'v': '5038.21900000', 'q': '1824558.22820000', 'O': 1712720383341, 'C': 1712806783341, 'F': 4956340, 'L': 4981642, 'n': 25303}, {'e': '24hrTicker', 'E': 1712806783361, 's': 'GALAUSDT', 'p': '0.00126000', 'P': '2.135', 'w': '0.05886484', 'x': '0.05902000', 'c': '0.06027000', 'Q': '7441.00000000', 'b': '0.06026000', 'B': '20954.00000000', 'a': '0.06027000', 'A': '74606.00000000', 'o': '0.05901000', 'h': '0.06115000', 'l': '0.05588000', 'v': '1030894163.00000000', 'q': '60683415.56339000', 'O': 1712720383360, 'C': 1712806783360, 'F': 204328548, 'L': 204521824, 'n': 193277}, {'e': '24hrTicker', 'E': 1712806782618, 's': 'YGGUSDT', 'p': '0.02720000', 'P': '2.186', 'w': '1.27537031', 'x': '1.24400000', 'c': '1.27130000', 'Q': '673.30000000', 'b': '1.27110000', 'B': '267.60000000', 'a': '1.27130000', 'A': '82.60000000', 'o': '1.24410000', 'h': '1.31730000', 'l': '1.24000000', 'v': '31300930.60000000', 'q': '39920277.57846000', 'O': 1712720382618, 'C': 1712806782618, 'F': 45795703, 'L': 45971411, 'n': 175709}, {'e': '24hrTicker', 'E': 1712806782847, 's': 'SOLUSDC', 'p': '1.37000000', 'P': '0.802', 'w': '169.43296488', 'x': '171.11000000', 'c': '172.26000000', 'Q': '1.04000000', 'b': '172.26000000', 'B': '24.98000000', 'a': '172.28000000', 'A': '14.51000000', 'o': '170.89000000', 'h': '175.44000000', 'l': '162.14000000', 'v': '67578.58000000', 'q': '11450039.17210000', 'O': 1712720382846, 'C': 1712806782846, 'F': 3750164, 'L': 3764345, 'n': 14182}, {'e': '24hrTicker', 'E': 1712806782777, 's': 'FIDAUSDT', 'p': '0.01080000', 'P': '2.376', 'w': '0.45302038', 'x': '0.45450000', 'c': '0.46530000', 'Q': '806.30000000', 'b': '0.46530000', 'B': '1803.30000000', 'a': '0.46540000', 'A': '66.40000000', 'o': '0.45450000', 'h': '0.46800000', 'l': '0.43780000', 'v': '4698424.10000000', 'q': '2128481.88806000', 'O': 1712720382776, 'C': 1712806782776, 'F': 24551023, 'L': 24574286, 'n': 23264}, {'e': '24hrTicker', 'E': 1712806783575, 's': 'CVPUSDT', 'p': '0.01870000', 'P': '3.299', 'w': '0.57439064', 'x': '0.56730000', 'c': '0.58550000', 'Q': '31.00000000', 'b': '0.58560000', 'B': '404.80000000', 'a': '0.58580000', 'A': '586.70000000', 'o': '0.56680000', 'h': '0.59200000', 'l': '0.55500000', 'v': '3224189.40000000', 'q': '1851944.21531000', 'O': 1712720383575, 'C': 1712806783575, 'F': 12539821, 'L': 12572431, 'n': 32611}, {'e': '24hrTicker', 'E': 1712806783338, 's': 'RAREUSDT', 'p': '-0.00660000', 'P': '-3.657', 'w': '0.17195818', 'x': '0.18050000', 'c': '0.17390000', 'Q': '1143.70000000', 'b': '0.17380000', 'B': '436.40000000', 'a': '0.17390000', 'A': '129.20000000', 'o': '0.18050000', 'h': '0.18500000', 'l': '0.16270000', 'v': '19795770.00000000', 'q': '3404044.56763000', 'O': 1712720383338, 'C': 1712806783338, 'F': 19267674, 'L': 19300965, 'n': 33292}, {'e': '24hrTicker', 'E': 1712806783216, 's': 'SSVETH', 'p': '0.00019100', 'P': '1.396', 'w': '0.01442947', 'x': '0.01366600', 'c': '0.01387200', 'Q': '0.49000000', 'b': '0.01387400', 'B': '2.54000000', 'a': '0.01389800', 'A': '4.05000000', 'o': '0.01368100', 'h': '0.01516800', 'l': '0.01363200', 'v': '4130.33000000', 'q': '59.59845796', 'O': 1712720383215, 'C': 1712806783215, 'F': 1797768, 'L': 1800041, 'n': 2274}, {'e': '24hrTicker', 'E': 1712806782995, 's': 'AVAXETH', 'p': '-0.00017000', 'P': '-1.280', 'w': '0.01337405', 'x': '0.01328000', 'c': '0.01311000', 'Q': '12.32000000', 'b': '0.01311000', 'B': '75.72000000', 'a': '0.01313000', 'A': '225.43000000', 'o': '0.01328000', 'h': '0.01354000', 'l': '0.01311000', 'v': '12866.48000000', 'q': '172.07694360', 'O': 1712720382995, 'C': 1712806782995, 'F': 2924116, 'L': 2926778, 'n': 2663}, {'e': '24hrTicker', 'E': 1712806782921, 's': 'SLPTRY', 'p': '-0.00004000', 'P': '-0.023', 'w': '0.17593966', 'x': '0.17711000', 'c': '0.17680000', 'Q': '196.00000000', 'b': '0.17726000', 'B': '134454.00000000', 'a': '0.17739000', 'A': '5255.00000000', 'o': '0.17684000', 'h': '0.17947000', 'l': '0.16875000', 'v': '46753695.00000000', 'q': '8225828.99287000', 'O': 1712720382920, 'C': 1712806782920, 'F': 10934621, 'L': 10937347, 'n': 2727}, {'e': '24hrTicker', 'E': 1712806783304, 's': 'JASMYUSDT', 'p': '0.00279000', 'P': '13.634', 'w': '0.02158282', 'x': '0.02046600', 'c': '0.02325400', 'Q': '8559.00000000', 'b': '0.02324900', 'B': '22674.30000000', 'a': '0.02325100', 'A': '17363.60000000', 'o': '0.02046400', 'h': '0.02398000', 'l': '0.01950000', 'v': '1932602714.60000000', 'q': '41711009.69704700', 'O': 1712720383304, 'C': 1712806783304, 'F': 76384055, 'L': 76614091, 'n': 230037}, {'e': '24hrTicker', 'E': 1712806782781, 's': 'AMPUSDT', 'p': '-0.00003500', 'P': '-0.389', 'w': '0.00895386', 'x': '0.00899800', 'c': '0.00896200', 'Q': '12745.00000000', 'b': '0.00896000', 'B': '1480.00000000', 'a': '0.00896200', 'A': '837.00000000', 'o': '0.00899700', 'h': '0.00922800', 'l': '0.00865100', 'v': '447489146.00000000', 'q': '4006754.41269300', 'O': 1712720382780, 'C': 1712806782780, 'F': 25894847, 'L': 25950185, 'n': 55339}, {'e': '24hrTicker', 'E': 1712806783062, 's': 'PYRUSDT', 'p': '0.04900000', 'P': '0.773', 'w': '6.29217840', 'x': '6.34000000', 'c': '6.38600000', 'Q': '14.11500000', 'b': '6.38700000', 'B': '1.04900000', 'a': '6.38800000', 'A': '5.50200000', 'o': '6.33700000', 'h': '6.49600000', 'l': '6.12500000', 'v': '372365.70300000', 'q': '2342991.43354900', 'O': 1712720383061, 'C': 1712806783061, 'F': 27846194, 'L': 27865417, 'n': 19224}, {'e': '24hrTicker', 'E': 1712806783225, 's': 'BELTRY', 'p': '-6.84000000', 'P': '-9.441', 'w': '74.20811318', 'x': '72.42000000', 'c': '65.61000000', 'Q': '62.86000000', 'b': '65.59000000', 'B': '250.38000000', 'a': '65.62000000', 'A': '1418.52000000', 'o': '72.45000000', 'h': '88.31000000', 'l': '65.36000000', 'v': '7586446.08000000', 'q': '562975849.33180000', 'O': 1712720383224, 'C': 1712806783224, 'F': 10026728, 'L': 10099329, 'n': 72602}, {'e': '24hrTicker', 'E': 1712806783161, 's': 'FLUXBTC', 'p': '0.00000010', 'P': '0.651', 'w': '0.00001549', 'x': '0.00001535', 'c': '0.00001545', 'Q': '122.28000000', 'b': '0.00001543', 'B': '122.28000000', 'a': '0.00001546', 'A': '273.66000000', 'o': '0.00001535', 'h': '0.00001584', 'l': '0.00001530', 'v': '33015.25000000', 'q': '0.51132067', 'O': 1712720383160, 'C': 1712806783160, 'F': 2941547, 'L': 2941885, 'n': 339}, {'e': '24hrTicker', 'E': 1712806783250, 's': 'FLUXUSDT', 'p': '0.03880000', 'P': '3.670', 'w': '1.07556328', 'x': '1.05740000', 'c': '1.09610000', 'Q': '4.81000000', 'b': '1.09530000', 'B': '40.96000000', 'a': '1.09650000', 'A': '230.91000000', 'o': '1.05730000', 'h': '1.10950000', 'l': '1.03920000', 'v': '2186929.53000000', 'q': '2352181.10127500', 'O': 1712720383249, 'C': 1712806783249, 'F': 20454462, 'L': 20479488, 'n': 25027}, {'e': '24hrTicker', 'E': 1712806783571, 's': 'HIGHUSDT', 'p': '-0.29100000', 'P': '-9.134', 'w': '3.10081299', 'x': '3.18400000', 'c': '2.89500000', 'Q': '2.45800000', 'b': '2.89500000', 'B': '42.24800000', 'a': '2.89600000', 'A': '855.72700000', 'o': '3.18600000', 'h': '3.39300000', 'l': '2.82300000', 'v': '5846415.89600000', 'q': '18128642.37602800', 'O': 1712720383570, 'C': 1712806783570, 'F': 26575600, 'L': 26684065, 'n': 108466}, {'e': '24hrTicker', 'E': 1712806782837, 's': 'SPELLUSDT', 'p': '0.00006490', 'P': '5.783', 'w': '0.00112509', 'x': '0.00112260', 'c': '0.00118720', 'Q': '6321.00000000', 'b': '0.00118770', 'B': '113680.00000000', 'a': '0.00118790', 'A': '12648.00000000', 'o': '0.00112230', 'h': '0.00119410', 'l': '0.00106960', 'v': '2557611091.00000000', 'q': '2877552.88088740', 'O': 1712720382837, 'C': 1712806782837, 'F': 32354310, 'L': 32382884, 'n': 28575}, {'e': '24hrTicker', 'E': 1712806783422, 's': 'IMXUSDT', 'p': '0.00960000', 'P': '0.367', 'w': '2.59958939', 'x': '2.61260000', 'c': '2.62200000', 'Q': '1.95000000', 'b': '2.62190000', 'B': '24.18000000', 'a': '2.62220000', 'A': '7.38000000', 'o': '2.61240000', 'h': '2.66120000', 'l': '2.51000000', 'v': '2165056.55000000', 'q': '5628258.02638900', 'O': 1712720383421, 'C': 1712806783421, 'F': 45175727, 'L': 45254499, 'n': 78773}, {'e': '24hrTicker', 'E': 1712806783395, 's': 'UNIETH', 'p': '-0.00050500', 'P': '-15.946', 'w': '0.00281903', 'x': '0.00316800', 'c': '0.00266200', 'Q': '15.09500000', 'b': '0.00265900', 'B': '272.82100000', 'a': '0.00266200', 'A': '116.61900000', 'o': '0.00316700', 'h': '0.00321200', 'l': '0.00255400', 'v': '228463.80800000', 'q': '644.04628155', 'O': 1712720383394, 'C': 1712806783394, 'F': 915326, 'L': 927233, 'n': 11908}, {'e': '24hrTicker', 'E': 1712806783441, 's': 'ROSETRY', 'p': '-0.04100000', 'P': '-1.001', 'w': '4.04906737', 'x': '4.08900000', 'c': '4.05500000', 'Q': '30.80000000', 'b': '4.05300000', 'B': '4246.20000000', 'a': '4.05600000', 'A': '548.40000000', 'o': '4.09600000', 'h': '4.14000000', 'l': '3.91300000', 'v': '2016411.50000000', 'q': '8164586.00920000', 'O': 1712720383441, 'C': 1712806783441, 'F': 3445550, 'L': 3449890, 'n': 4341}, {'e': '24hrTicker', 'E': 1712806783414, 's': 'WOOUSDT', 'p': '0.00640000', 'P': '1.573', 'w': '0.40441425', 'x': '0.40680000', 'c': '0.41320000', 'Q': '1210.20000000', 'b': '0.41320000', 'B': '2096.10000000', 'a': '0.41340000', 'A': '850.40000000', 'o': '0.40680000', 'h': '0.41400000', 'l': '0.39110000', 'v': '13445106.20000000', 'q': '5437392.48251000', 'O': 1712720383414, 'C': 1712806783414, 'F': 31142781, 'L': 31179354, 'n': 36574}, {'e': '24hrTicker', 'E': 1712806783432, 's': 'NEARTRY', 'p': '1.65000000', 'P': '0.723', 'w': '226.71397107', 'x': '228.13000000', 'c': '229.78000000', 'Q': '44.15900000', 'b': '229.65000000', 'B': '384.50100000', 'a': '229.79000000', 'A': '423.40800000', 'o': '228.13000000', 'h': '234.57000000', 'l': '218.71000000', 'v': '82908.87300000', 'q': '18796599.83460000', 'O': 1712720383432, 'C': 1712806783432, 'F': 2331183, 'L': 2336136, 'n': 4954}, {'e': '24hrTicker', 'E': 1712806783422, 's': 'TUSDT', 'p': '-0.00004000', 'P': '-0.084', 'w': '0.04733376', 'x': '0.04752000', 'c': '0.04742000', 'Q': '809.00000000', 'b': '0.04742000', 'B': '4317.00000000', 'a': '0.04743000', 'A': '3262.20000000', 'o': '0.04746000', 'h': '0.04908000', 'l': '0.04534000', 'v': '173407543.80000000', 'q': '8208031.77138100', 'O': 1712720383422, 'C': 1712806783422, 'F': 19520179, 'L': 19558739, 'n': 38561}, {'e': '24hrTicker', 'E': 1712806782665, 's': 'APETRY', 'p': '0.12000000', 'P': '0.220', 'w': '54.03546129', 'x': '54.52000000', 'c': '54.67000000', 'Q': '5.52600000', 'b': '54.66000000', 'B': '0.28400000', 'a': '54.69000000', 'A': '630.32800000', 'o': '54.55000000', 'h': '55.38000000', 'l': '52.03000000', 'v': '307822.04100000', 'q': '16633305.98148000', 'O': 1712720382664, 'C': 1712806782664, 'F': 9110348, 'L': 9116973, 'n': 6626}, {'e': '24hrTicker', 'E': 1712806783437, 's': 'BIFIUSDT', 'p': '29.00000000', 'P': '7.185', 'w': '423.72329692', 'x': '402.80000000', 'c': '432.60000000', 'Q': '0.04900000', 'b': '432.30000000', 'B': '0.69400000', 'a': '432.90000000', 'A': '0.57700000', 'o': '403.60000000', 'h': '434.80000000', 'l': '403.60000000', 'v': '5729.37000000', 'q': '2427667.54570000', 'O': 1712720383436, 'C': 1712806783436, 'F': 4503161, 'L': 4519797, 'n': 16637}, {'e': '24hrTicker', 'E': 1712806782780, 's': 'STEEMUSDT', 'p': '0.00550000', 'P': '1.739', 'w': '0.31828151', 'x': '0.31630000', 'c': '0.32170000', 'Q': '364.70000000', 'b': '0.32150000', 'B': '411.60000000', 'a': '0.32160000', 'A': '478.40000000', 'o': '0.31620000', 'h': '0.33020000', 'l': '0.30530000', 'v': '6991653.50000000', 'q': '2225314.00962000', 'O': 1712720382779, 'C': 1712806782779, 'F': 9543571, 'L': 9562723, 'n': 19153}, {'e': '24hrTicker', 'E': 1712806782635, 's': 'ALGOTRY', 'p': '0.13400000', 'P': '1.790', 'w': '7.44700017', 'x': '7.44700000', 'c': '7.61800000', 'Q': '108.20000000', 'b': '7.60100000', 'B': '6.90000000', 'a': '7.60800000', 'A': '1904.40000000', 'o': '7.48400000', 'h': '7.61800000', 'l': '7.13400000', 'v': '451470.20000000', 'q': '3362098.65650000', 'O': 1712720382634, 'C': 1712806782634, 'F': 1700234, 'L': 1702146, 'n': 1913}, {'e': '24hrTicker', 'E': 1712806782702, 's': 'OPEUR', 'p': '0.04300000', 'P': '1.552', 'w': '2.76344229', 'x': '2.74100000', 'c': '2.81400000', 'Q': '299.34000000', 'b': '2.81600000', 'B': '357.91000000', 'a': '2.81900000', 'A': '990.28000000', 'o': '2.77100000', 'h': '2.86000000', 'l': '2.68100000', 'v': '33500.46000000', 'q': '92576.58787000', 'O': 1712720382702, 'C': 1712806782702, 'F': 359765, 'L': 360123, 'n': 359}, {'e': '24hrTicker', 'E': 1712806783428, 's': 'OPETH', 'p': '-0.00000400', 'P': '-0.466', 'w': '0.00085826', 'x': '0.00085800', 'c': '0.00085500', 'Q': '397.66000000', 'b': '0.00085400', 'B': '164.78000000', 'a': '0.00085500', 'A': '5599.12000000', 'o': '0.00085900', 'h': '0.00087100', 'l': '0.00084500', 'v': '146619.36000000', 'q': '125.83784455', 'O': 1712720383428, 'C': 1712806783428, 'F': 1250995, 'L': 1252345, 'n': 1351}, {'e': '24hrTicker', 'E': 1712806782724, 's': 'ETCTRY', 'p': '40.60000000', 'P': '3.802', 'w': '1087.15590375', 'x': '1069.50000000', 'c': '1108.40000000', 'Q': '0.06300000', 'b': '1108.00000000', 'B': '1.74300000', 'a': '1109.70000000', 'A': '5.94200000', 'o': '1067.80000000', 'h': '1108.40000000', 'l': '1043.30000000', 'v': '1971.62800000', 'q': '2143467.02020000', 'O': 1712720382723, 'C': 1712806782723, 'F': 618224, 'L': 619591, 'n': 1368}, {'e': '24hrTicker', 'E': 1712806783578, 's': 'STGUSDT', 'p': '-0.00030000', 'P': '-0.041', 'w': '0.73395571', 'x': '0.73880000', 'c': '0.73860000', 'Q': '39.40000000', 'b': '0.73840000', 'B': '283.20000000', 'a': '0.73860000', 'A': '96.00000000', 'o': '0.73890000', 'h': '0.74710000', 'l': '0.71100000', 'v': '6118310.50000000', 'q': '4490568.91776000', 'O': 1712720383577, 'C': 1712806783577, 'F': 26088694, 'L': 26117958, 'n': 29265}, {'e': '24hrTicker', 'E': 1712806783227, 's': 'GMXUSDT', 'p': '-0.55000000', 'P': '-1.449', 'w': '37.63467073', 'x': '37.97000000', 'c': '37.40000000', 'Q': '0.13600000', 'b': '37.40000000', 'B': '136.83300000', 'a': '37.42000000', 'A': '47.55900000', 'o': '37.95000000', 'h': '38.64000000', 'l': '36.30000000', 'v': '217577.63400000', 'q': '8188462.61417000', 'O': 1712720383226, 'C': 1712806783226, 'F': 17363521, 'L': 17400130, 'n': 36610}, {'e': '24hrTicker', 'E': 1712806783360, 's': 'POLYXBTC', 'p': '-0.00000020', 'P': '-2.699', 'w': '0.00000728', 'x': '0.00000740', 'c': '0.00000721', 'Q': '322.70000000', 'b': '0.00000722', 'B': '1407.10000000', 'a': '0.00000723', 'A': '664.70000000', 'o': '0.00000741', 'h': '0.00000746', 'l': '0.00000711', 'v': '549337.20000000', 'q': '4.00111243', 'O': 1712720383359, 'C': 1712806783359, 'F': 1392516, 'L': 1394262, 'n': 1747}, {'e': '24hrTicker', 'E': 1712806783378, 's': 'POLYXUSDT', 'p': '0.00190000', 'P': '0.372', 'w': '0.50462276', 'x': '0.51070000', 'c': '0.51240000', 'Q': '1506.30000000', 'b': '0.51240000', 'B': '1319.10000000', 'a': '0.51250000', 'A': '2930.80000000', 'o': '0.51050000', 'h': '0.52440000', 'l': '0.48010000', 'v': '39206201.00000000', 'q': '19784341.49687000', 'O': 1712720383378, 'C': 1712806783378, 'F': 23198443, 'L': 23296403, 'n': 97961}, {'e': '24hrTicker', 'E': 1712806783616, 's': 'APTUSDT', 'p': '-0.17070000', 'P': '-1.379', 'w': '12.10159288', 'x': '12.38190000', 'c': '12.21090000', 'Q': '2.04000000', 'b': '12.21110000', 'B': '15.00000000', 'a': '12.21170000', 'A': '68.11000000', 'o': '12.38160000', 'h': '12.64100000', 'l': '11.52490000', 'v': '8309803.46000000', 'q': '100561858.34760000', 'O': 1712720383615, 'C': 1712806783615, 'F': 82865275, 'L': 83214235, 'n': 348961}, {'e': '24hrTicker', 'E': 1712806783160, 's': 'APTEUR', 'p': '-0.19010000', 'P': '-1.655', 'w': '11.13319558', 'x': '11.42630000', 'c': '11.29580000', 'Q': '24.06000000', 'b': '11.28370000', 'B': '16.47000000', 'a': '11.30050000', 'A': '16.38000000', 'o': '11.48590000', 'h': '11.64390000', 'l': '10.64440000', 'v': '10751.47000000', 'q': '119698.21832100', 'O': 1712720383160, 'C': 1712806783160, 'F': 377231, 'L': 377947, 'n': 717}, {'e': '24hrTicker', 'E': 1712806782661, 's': 'HOOKBTC', 'p': '-0.00000064', 'P': '-3.376', 'w': '0.00001861', 'x': '0.00001887', 'c': '0.00001832', 'Q': '153.80000000', 'b': '0.00001829', 'B': '159.80000000', 'a': '0.00001832', 'A': '581.40000000', 'o': '0.00001896', 'h': '0.00001917', 'l': '0.00001807', 'v': '83187.10000000', 'q': '1.54845661', 'O': 1712720382661, 'C': 1712806782661, 'F': 3365761, 'L': 3366888, 'n': 1128}, {'e': '24hrTicker', 'E': 1712806782633, 's': 'HOOKUSDT', 'p': '-0.00650000', 'P': '-0.498', 'w': '1.28558684', 'x': '1.30480000', 'c': '1.29850000', 'Q': '249.60000000', 'b': '1.29910000', 'B': '79.80000000', 'a': '1.29940000', 'A': '47.70000000', 'o': '1.30500000', 'h': '1.33260000', 'l': '1.22430000', 'v': '7444859.60000000', 'q': '9571013.53754000', 'O': 1712720382632, 'C': 1712806782632, 'F': 39481112, 'L': 39543255, 'n': 62144}, {'e': '24hrTicker', 'E': 1712806783596, 's': 'AGIXUSDT', 'p': '0.02196000', 'P': '2.134', 'w': '1.03253096', 'x': '1.02900000', 'c': '1.05120000', 'Q': '132.00000000', 'b': '1.05135000', 'B': '217.00000000', 'a': '1.05147000', 'A': '174.00000000', 'o': '1.02924000', 'h': '1.06345000', 'l': '0.98490000', 'v': '24542802.00000000', 'q': '25341202.79885000', 'O': 1712720383596, 'C': 1712806783596, 'F': 51629820, 'L': 51739278, 'n': 109459}, {'e': '24hrTicker', 'E': 1712806782730, 's': 'SYNBTC', 'p': '-0.00000054', 'P': '-2.824', 'w': '0.00001881', 'x': '0.00001914', 'c': '0.00001858', 'Q': '39.00000000', 'b': '0.00001884', 'B': '149.10000000', 'a': '0.00001892', 'A': '14.00000000', 'o': '0.00001912', 'h': '0.00001962', 'l': '0.00001802', 'v': '56719.40000000', 'q': '1.06677361', 'O': 1712720382730, 'C': 1712806782730, 'F': 569063, 'L': 569713, 'n': 651}, {'e': '24hrTicker', 'E': 1712806783024, 's': 'SYNUSDT', 'p': '0.01730000', 'P': '1.311', 'w': '1.30497350', 'x': '1.32000000', 'c': '1.33730000', 'Q': '13.70000000', 'b': '1.33730000', 'B': '38.10000000', 'a': '1.33860000', 'A': '7.80000000', 'o': '1.32000000', 'h': '1.36760000', 'l': '1.24070000', 'v': '2720519.70000000', 'q': '3550206.12706000', 'O': 1712720383024, 'C': 1712806783024, 'F': 12539507, 'L': 12568110, 'n': 28604}, {'e': '24hrTicker', 'E': 1712806783294, 's': 'VIBUSDT', 'p': '0.00601000', 'P': '5.158', 'w': '0.12083099', 'x': '0.11649000', 'c': '0.12252000', 'Q': '253.00000000', 'b': '0.12252000', 'B': '290.00000000', 'a': '0.12271000', 'A': '250.00000000', 'o': '0.11651000', 'h': '0.12450000', 'l': '0.11650000', 'v': '19481992.00000000', 'q': '2354028.43977000', 'O': 1712720383294, 'C': 1712806783294, 'F': 7701336, 'L': 7720779, 'n': 19444}, {'e': '24hrTicker', 'E': 1712806783264, 's': 'AMBUSDT', 'p': '0.00019000', 'P': '1.513', 'w': '0.01249133', 'x': '0.01255000', 'c': '0.01275000', 'Q': '5718.00000000', 'b': '0.01274000', 'B': '96165.00000000', 'a': '0.01275000', 'A': '303696.00000000', 'o': '0.01256000', 'h': '0.01285000', 'l': '0.01198000', 'v': '283054444.00000000', 'q': '3535726.69089000', 'O': 1712720383263, 'C': 1712806783263, 'F': 11677810, 'L': 11705902, 'n': 28093}, {'e': '24hrTicker', 'E': 1712806783503, 's': 'USTCUSDT', 'p': '0.00043418', 'P': '1.740', 'w': '0.02483702', 'x': '0.02495328', 'c': '0.02539191', 'Q': '430.00000000', 'b': '0.02538305', 'B': '3043.00000000', 'a': '0.02539232', 'A': '7460.00000000', 'o': '0.02495773', 'h': '0.02544073', 'l': '0.02377575', 'v': '189140379.00000000', 'q': '4697682.92463151', 'O': 1712720383503, 'C': 1712806783503, 'F': 30505597, 'L': 30540857, 'n': 35261}, {'e': '24hrTicker', 'E': 1712806783522, 's': 'ARBUSDT', 'p': '0.00410000', 'P': '0.281', 'w': '1.45832242', 'x': '1.45890000', 'c': '1.46300000', 'Q': '827.30000000', 'b': '1.46290000', 'B': '4667.30000000', 'a': '1.46300000', 'A': '1739.10000000', 'o': '1.45890000', 'h': '1.49040000', 'l': '1.40720000', 'v': '53621163.20000000', 'q': '78196944.45659000', 'O': 1712720383521, 'C': 1712806783521, 'F': 84691305, 'L': 84839719, 'n': 148415}, {'e': '24hrTicker', 'E': 1712806782914, 's': 'LOOMUSDT', 'p': '0.00184000', 'P': '1.791', 'w': '0.10313450', 'x': '0.10271000', 'c': '0.10455000', 'Q': '22.00000000', 'b': '0.10455000', 'B': '1084.00000000', 'a': '0.10459000', 'A': '1115.00000000', 'o': '0.10271000', 'h': '0.10556000', 'l': '0.09903000', 'v': '34888725.00000000', 'q': '3598231.27528000', 'O': 1712720382913, 'C': 1712806782913, 'F': 25461851, 'L': 25499283, 'n': 37433}, {'e': '24hrTicker', 'E': 1712806783080, 's': 'OAXUSDT', 'p': '0.03250000', 'P': '12.871', 'w': '0.29753455', 'x': '0.25220000', 'c': '0.28500000', 'Q': '1928.00000000', 'b': '0.28500000', 'B': '195.00000000', 'a': '0.28530000', 'A': '289.00000000', 'o': '0.25250000', 'h': '0.33280000', 'l': '0.25120000', 'v': '65817892.00000000', 'q': '19583096.92500000', 'O': 1712720383079, 'C': 1712806783079, 'F': 11509567, 'L': 11705247, 'n': 195681}, {'e': '24hrTicker', 'E': 1712806783466, 's': 'USDTARS', 'p': '0.60000000', 'P': '0.058', 'w': '1026.85853242', 'x': '1027.50000000', 'c': '1028.10000000', 'Q': '5.00000000', 'b': '1028.10000000', 'B': '72.00000000', 'a': '1028.20000000', 'A': '1053.00000000', 'o': '1027.50000000', 'h': '1030.80000000', 'l': '1023.10000000', 'v': '2153116.00000000', 'q': '2210945535.90000000', 'O': 1712720383466, 'C': 1712806783466, 'F': 4587901, 'L': 4639780, 'n': 51880}, {'e': '24hrTicker', 'E': 1712806783306, 's': 'SUIUSDT', 'p': '-0.01620000', 'P': '-1.055', 'w': '1.51484940', 'x': '1.53600000', 'c': '1.51960000', 'Q': '62.40000000', 'b': '1.51950000', 'B': '7997.70000000', 'a': '1.51960000', 'A': '1026.10000000', 'o': '1.53580000', 'h': '1.56990000', 'l': '1.46000000', 'v': '47055264.70000000', 'q': '71281639.44334000', 'O': 1712720383305, 'C': 1712806783305, 'F': 64548250, 'L': 64759947, 'n': 211698}, {'e': '24hrTicker', 'E': 1712806783515, 's': 'PEPEUSDT', 'p': '0.00000017', 'P': '2.464', 'w': '0.00000697', 'x': '0.00000690', 'c': '0.00000707', 'Q': '6050799.00', 'b': '0.00000706', 'B': '29992397547.00', 'a': '0.00000707', 'A': '11245494711.00', 'o': '0.00000690', 'h': '0.00000726', 'l': '0.00000667', 'v': '35326076000479.00', 'q': '246087113.17177450', 'O': 1712720383515, 'C': 1712806783515, 'F': 68989084, 'L': 69336843, 'n': 347760}, {'e': '24hrTicker', 'E': 1712806783561, 's': 'FLOKIUSDT', 'p': '0.00000458', 'P': '2.384', 'w': '0.00019309', 'x': '0.00019209', 'c': '0.00019668', 'Q': '408349.00', 'b': '0.00019668', 'B': '5062809.00', 'a': '0.00019669', 'A': '1683268.00', 'o': '0.00019210', 'h': '0.00019989', 'l': '0.00018306', 'v': '275447612027.00', 'q': '53187431.08116301', 'O': 1712720383561, 'C': 1712806783561, 'F': 313325136, 'L': 319668770, 'n': 6343635}, {'e': '24hrTicker', 'E': 1712806783439, 's': 'ARKMUSDT', 'p': '0.00340000', 'P': '0.173', 'w': '1.91492141', 'x': '1.96300000', 'c': '1.96690000', 'Q': '300.00000000', 'b': '1.96680000', 'B': '112.00000000', 'a': '1.96710000', 'A': '34.00000000', 'o': '1.96350000', 'h': '2.04590000', 'l': '1.78010000', 'v': '23508684.00000000', 'q': '45017282.39760000', 'O': 1712720383439, 'C': 1712806783439, 'F': 28069736, 'L': 28302880, 'n': 233145}, {'e': '24hrTicker', 'E': 1712806783617, 's': 'WBETHUSDT', 'p': '75.48000000', 'P': '2.089', 'w': '3615.77224442', 'x': '3615.66000000', 'c': '3689.04000000', 'Q': '0.10840000', 'b': '3688.35000000', 'B': '0.00710000', 'a': '3689.76000000', 'A': '0.04710000', 'o': '3613.56000000', 'h': '3698.39000000', 'l': '3530.00000000', 'v': '324.37980000', 'q': '1172883.47748900', 'O': 1712720383616, 'C': 1712806783616, 'F': 1199079, 'L': 1211266, 'n': 12188}, {'e': '24hrTicker', 'E': 1712806783567, 's': 'WLDUSDT', 'p': '-0.00400000', 'P': '-0.061', 'w': '6.50769243', 'x': '6.54700000', 'c': '6.54500000', 'Q': '8.20000000', 'b': '6.54400000', 'B': '2103.10000000', 'a': '6.54500000', 'A': '5170.20000000', 'o': '6.54900000', 'h': '6.66600000', 'l': '6.20300000', 'v': '8325360.10000000', 'q': '54178882.93610000', 'O': 1712720383566, 'C': 1712806783566, 'F': 62344436, 'L': 62549267, 'n': 204832}, {'e': '24hrTicker', 'E': 1712806783537, 's': 'BNBFDUSD', 'p': '37.60000000', 'P': '6.516', 'w': '594.96166952', 'x': '576.90000000', 'c': '614.60000000', 'Q': '22.90700000', 'b': '614.50000000', 'B': '24.13400000', 'a': '614.70000000', 'A': '15.06900000', 'o': '577.00000000', 'h': '618.00000000', 'l': '575.20000000', 'v': '671360.41000000', 'q': '399433710.38640000', 'O': 1712720383536, 'C': 1712806783536, 'F': 33134841, 'L': 33690733, 'n': 555893}, {'e': '24hrTicker', 'E': 1712806782806, 's': 'FDUSDUSDT', 'p': '0.00050000', 'P': '0.050', 'w': '0.99966440', 'x': '0.99930000', 'c': '0.99990000', 'Q': '103.00000000', 'b': '0.99980000', 'B': '1507033.00000000', 'a': '0.99990000', 'A': '4966194.00000000', 'o': '0.99940000', 'h': '1.00080000', 'l': '0.99890000', 'v': '1512843213.00000000', 'q': '1512335503.98460000', 'O': 1712720382806, 'C': 1712806782806, 'F': 128849935, 'L': 129854460, 'n': 1004526}, {'e': '24hrTicker', 'E': 1712806783612, 's': 'BTCFDUSD', 'p': '1901.09000000', 'P': '2.754', 'w': '69283.85106007', 'x': '69034.10000000', 'c': '70935.19000000', 'Q': '0.00312000', 'b': '70935.07000000', 'B': '0.04000000', 'a': '70936.57000000', 'A': '0.00027000', 'o': '69034.10000000', 'h': '71200.00000000', 'l': '67550.00000000', 'v': '85442.25356000', 'q': '5919768369.88737420', 'O': 1712720383612, 'C': 1712806783612, 'F': 579816008, 'L': 583970702, 'n': 4154695}, {'e': '24hrTicker', 'E': 1712806783615, 's': 'ETHFDUSD', 'p': '72.29000000', 'P': '2.068', 'w': '3507.17338811', 'x': '3495.47000000', 'c': '3567.75000000', 'Q': '0.26000000', 'b': '3567.72000000', 'B': '0.26000000', 'a': '3567.91000000', 'A': '0.26000000', 'o': '3495.46000000', 'h': '3576.39000000', 'l': '3415.23000000', 'v': '426186.95690000', 'q': '1494711553.60015500', 'O': 1712720383615, 'C': 1712806783615, 'F': 96954441, 'L': 98500694, 'n': 1546254}, {'e': '24hrTicker', 'E': 1712806783434, 's': 'ATMTRY', 'p': '17.25000000', 'P': '15.140', 'w': '138.47813315', 'x': '113.36000000', 'c': '131.19000000', 'Q': '33.40000000', 'b': '131.19000000', 'B': '39.70000000', 'a': '131.40000000', 'A': '45.50000000', 'o': '113.94000000', 'h': '155.00000000', 'l': '113.94000000', 'v': '1928868.70000000', 'q': '267106136.66600000', 'O': 1712720383434, 'C': 1712806783434, 'F': 372880, 'L': 421848, 'n': 48969}, {'e': '24hrTicker', 'E': 1712806783570, 's': 'BARTRY', 'p': '6.05000000', 'P': '5.086', 'w': '127.83610570', 'x': '118.33000000', 'c': '125.01000000', 'Q': '4.00000000', 'b': '125.04000000', 'B': '9.70000000', 'a': '125.12000000', 'A': '6.20000000', 'o': '118.96000000', 'h': '133.34000000', 'l': '118.75000000', 'v': '365117.20000000', 'q': '46675160.97300000', 'O': 1712720383569, 'C': 1712806783569, 'F': 714380, 'L': 728376, 'n': 13997}, {'e': '24hrTicker', 'E': 1712806783289, 's': 'CYBERBNB', 'p': '-0.00138700', 'P': '-5.842', 'w': '0.02299098', 'x': '0.02379400', 'c': '0.02235500', 'Q': '3.65000000', 'b': '0.02235000', 'B': '29.08000000', 'a': '0.02238900', 'A': '17.45000000', 'o': '0.02374200', 'h': '0.02397200', 'l': '0.02214000', 'v': '5815.65000000', 'q': '133.70750388', 'O': 1712720383288, 'C': 1712806783288, 'F': 205169, 'L': 206371, 'n': 1203}, {'e': '24hrTicker', 'E': 1712806783024, 's': 'CYBERTUSD', 'p': '0.01200000', 'P': '0.088', 'w': '13.64838086', 'x': '13.71500000', 'c': '13.70800000', 'Q': '1.46000000', 'b': '13.72200000', 'B': '8.56000000', 'a': '13.73700000', 'A': '1.46000000', 'o': '13.69600000', 'h': '13.94200000', 'l': '13.16400000', 'v': '4616.95000000', 'q': '63013.89200000', 'O': 1712720383024, 'C': 1712806783024, 'F': 170412, 'L': 170957, 'n': 546}, {'e': '24hrTicker', 'E': 1712806783561, 's': 'LPTTRY', 'p': '-3.90000000', 'P': '-0.753', 'w': '510.86199281', 'x': '518.00000000', 'c': '513.70000000', 'Q': '0.17000000', 'b': '513.80000000', 'B': '0.13000000', 'a': '514.00000000', 'A': '0.09000000', 'o': '517.60000000', 'h': '525.30000000', 'l': '490.00000000', 'v': '7349.53000000', 'q': '3754595.54200000', 'O': 1712720383560, 'C': 1712806783560, 'F': 1613281, 'L': 1618074, 'n': 4794}, {'e': '24hrTicker', 'E': 1712806783122, 's': 'UNITRY', 'p': '-53.30000000', 'P': '-14.591', 'w': '323.59018883', 'x': '364.20000000', 'c': '312.00000000', 'Q': '1.03000000', 'b': '312.60000000', 'B': '1.81000000', 'a': '312.70000000', 'A': '6.88000000', 'o': '365.30000000', 'h': '371.90000000', 'l': '296.20000000', 'v': '92043.43000000', 'q': '29784350.89400000', 'O': 1712720383122, 'C': 1712806783122, 'F': 564831, 'L': 576360, 'n': 11530}, {'e': '24hrTicker', 'E': 1712806782940, 's': 'SOLFDUSD', 'p': '1.26000000', 'P': '0.737', 'w': '169.97660122', 'x': '171.07000000', 'c': '172.31000000', 'Q': '0.06000000', 'b': '172.30000000', 'B': '14.51000000', 'a': '172.32000000', 'A': '6.61000000', 'o': '171.05000000', 'h': '175.50000000', 'l': '162.43000000', 'v': '1880268.64000000', 'q': '319601672.81260000', 'O': 1712720382939, 'C': 1712806782939, 'F': 54733746, 'L': 55430174, 'n': 696429}, {'e': '24hrTicker', 'E': 1712806783462, 's': 'XRPFDUSD', 'p': '0.01600000', 'P': '2.650', 'w': '0.61042027', 'x': '0.60380000', 'c': '0.61980000', 'Q': '219.00000000', 'b': '0.61980000', 'B': '2393.00000000', 'a': '0.62000000', 'A': '5556.00000000', 'o': '0.60380000', 'h': '0.62080000', 'l': '0.59300000', 'v': '113762572.00000000', 'q': '69442979.82260000', 'O': 1712720383462, 'C': 1712806783462, 'F': 11929947, 'L': 12113602, 'n': 183656}, {'e': '24hrTicker', 'E': 1712806782677, 's': 'DOGEFDUSD', 'p': '0.01039000', 'P': '5.540', 'w': '0.19276110', 'x': '0.18753000', 'c': '0.19792000', 'Q': '94.00000000', 'b': '0.19791000', 'B': '1200.00000000', 'a': '0.19793000', 'A': '1200.00000000', 'o': '0.18753000', 'h': '0.20230000', 'l': '0.18011000', 'v': '1447745519.00000000', 'q': '279069015.88301000', 'O': 1712720382676, 'C': 1712806782676, 'F': 55563700, 'L': 56869228, 'n': 1305529}, {'e': '24hrTicker', 'E': 1712806783505, 's': 'NTRNBNB', 'p': '-0.00014200', 'P': '-7.680', 'w': '0.00175984', 'x': '0.00183200', 'c': '0.00170700', 'Q': '8.00000000', 'b': '0.00171200', 'B': '614.80000000', 'a': '0.00171700', 'A': '343.80000000', 'o': '0.00184900', 'h': '0.00185000', 'l': '0.00170700', 'v': '24708.40000000', 'q': '43.48293710', 'O': 1712720383505, 'C': 1712806783505, 'F': 187175, 'L': 187508, 'n': 334}, {'e': '24hrTicker', 'E': 1712806783222, 's': 'TRBTRY', 'p': '25.00000000', 'P': '0.892', 'w': '2779.14329277', 'x': '2801.00000000', 'c': '2828.00000000', 'Q': '0.39000000', 'b': '2829.00000000', 'B': '1.86000000', 'a': '2830.00000000', 'A': '0.29000000', 'o': '2803.00000000', 'h': '2850.00000000', 'l': '2669.00000000', 'v': '2810.40000000', 'q': '7810504.31000000', 'O': 1712720383222, 'C': 1712806783222, 'F': 3422514, 'L': 3427526, 'n': 5013}, {'e': '24hrTicker', 'E': 1712806783167, 's': 'AVAXFDUSD', 'p': '0.39000000', 'P': '0.840', 'w': '46.89700419', 'x': '46.41000000', 'c': '46.81000000', 'Q': '0.10000000', 'b': '46.79000000', 'B': '19.42000000', 'a': '46.81000000', 'A': '36.32000000', 'o': '46.42000000', 'h': '48.00000000', 'l': '45.10000000', 'v': '62792.37000000', 'q': '2944774.03920000', 'O': 1712720383167, 'C': 1712806783167, 'F': 2400125, 'L': 2410009, 'n': 9885}, {'e': '24hrTicker', 'E': 1712806783443, 's': 'BANDTRY', 'p': '1.44000000', 'P': '2.040', 'w': '70.50752561', 'x': '69.98000000', 'c': '72.03000000', 'Q': '22.70000000', 'b': '71.88000000', 'B': '2.70000000', 'a': '72.09000000', 'A': '116.80000000', 'o': '70.59000000', 'h': '73.23000000', 'l': '66.85000000', 'v': '26581.90000000', 'q': '1874223.99500000', 'O': 1712720383443, 'C': 1712806783443, 'F': 390766, 'L': 392345, 'n': 1580}, {'e': '24hrTicker', 'E': 1712806783237, 's': 'LOOMTRY', 'p': '0.05700000', 'P': '1.686', 'w': '3.40234388', 'x': '3.38700000', 'c': '3.43800000', 'Q': '552.00000000', 'b': '3.44100000', 'B': '7335.00000000', 'a': '3.44700000', 'A': '8788.00000000', 'o': '3.38100000', 'h': '3.47600000', 'l': '3.26200000', 'v': '762192.00000000', 'q': '2593239.28300000', 'O': 1712720383236, 'C': 1712806783236, 'F': 991472, 'L': 992678, 'n': 1207}, {'e': '24hrTicker', 'E': 1712806782634, 's': 'ALGOFDUSD', 'p': '0.00510000', 'P': '2.256', 'w': '0.22770991', 'x': '0.22650000', 'c': '0.23120000', 'Q': '43.00000000', 'b': '0.23070000', 'B': '2253.00000000', 'a': '0.23110000', 'A': '7461.00000000', 'o': '0.22610000', 'h': '0.23170000', 'l': '0.21830000', 'v': '1131156.00000000', 'q': '257575.42580000', 'O': 1712720382633, 'C': 1712806782633, 'F': 291234, 'L': 292580, 'n': 1347}, {'e': '24hrTicker', 'E': 1712806782879, 's': 'TIAUSDT', 'p': '-0.01000000', 'P': '-0.088', 'w': '11.22801508', 'x': '11.34000000', 'c': '11.32000000', 'Q': '376.80000000', 'b': '11.32000000', 'B': '496.40000000', 'a': '11.33000000', 'A': '2080.80000000', 'o': '11.33000000', 'h': '11.53000000', 'l': '10.78000000', 'v': '1895103.70000000', 'q': '21278252.91987000', 'O': 1712720382878, 'C': 1712806782878, 'F': 46868374, 'L': 46938409, 'n': 70036}, {'e': '24hrTicker', 'E': 1712806783241, 's': 'MEMEUSDT', 'p': '0.00516700', 'P': '14.287', 'w': '0.04102044', 'x': '0.03616200', 'c': '0.04133400', 'Q': '4530.00000000', 'b': '0.04133300', 'B': '5000.00000000', 'a': '0.04133500', 'A': '5000.00000000', 'o': '0.03616700', 'h': '0.04360000', 'l': '0.03603100', 'v': '2303156993.00000000', 'q': '94476507.83469700', 'O': 1712720383240, 'C': 1712806783240, 'F': 51442620, 'L': 51951900, 'n': 509281}, {'e': '24hrTicker', 'E': 1712806783014, 's': 'MEMEFDUSD', 'p': '0.00511400', 'P': '14.141', 'w': '0.04080942', 'x': '0.03622300', 'c': '0.04127900', 'Q': '613.00000000', 'b': '0.04132200', 'B': '2164.00000000', 'a': '0.04135700', 'A': '10159.00000000', 'o': '0.03616500', 'h': '0.04359100', 'l': '0.03605400', 'v': '15528560.00000000', 'q': '633711.57633600', 'O': 1712720383013, 'C': 1712806783013, 'F': 518595, 'L': 522710, 'n': 4116}, {'e': '24hrTicker', 'E': 1712806783611, 's': 'MEMETUSD', 'p': '0.00500400', 'P': '13.797', 'w': '0.04087263', 'x': '0.03574500', 'c': '0.04127400', 'Q': '7500.00000000', 'b': '0.04126300', 'B': '2286.00000000', 'a': '0.04134500', 'A': '2409.00000000', 'o': '0.03627000', 'h': '0.04352000', 'l': '0.03622000', 'v': '3536936.00000000', 'q': '144563.86676300', 'O': 1712720383611, 'C': 1712806783611, 'F': 273019, 'L': 274097, 'n': 1079}, {'e': '24hrTicker', 'E': 1712806783227, 's': 'MEMETRY', 'p': '0.17094000', 'P': '14.356', 'w': '1.36707570', 'x': '1.19011000', 'c': '1.36167000', 'Q': '77597.00000000', 'b': '1.36167000', 'B': '216159.00000000', 'a': '1.36256000', 'A': '10300.00000000', 'o': '1.19073000', 'h': '1.43731000', 'l': '1.18650000', 'v': '215705735.00000000', 'q': '294886069.65255000', 'O': 1712720383226, 'C': 1712806783226, 'F': 6623236, 'L': 6680567, 'n': 57332}, {'e': '24hrTicker', 'E': 1712806783470, 's': 'ORDITRY', 'p': '276.60000000', 'P': '12.126', 'w': '2390.79940615', 'x': '2298.80000000', 'c': '2557.70000000', 'Q': '2.29000000', 'b': '2557.70000000', 'B': '5.40000000', 'a': '2562.70000000', 'A': '7.33000000', 'o': '2281.10000000', 'h': '2578.50000000', 'l': '2167.20000000', 'v': '11806.10000000', 'q': '28226016.86900000', 'O': 1712720383469, 'C': 1712806783469, 'F': 3262746, 'L': 3270874, 'n': 8129}, {'e': '24hrTicker', 'E': 1712806783105, 's': 'ORDITUSD', 'p': '7.86700000', 'P': '11.273', 'w': '72.73350903', 'x': '69.25800000', 'c': '77.65600000', 'Q': '0.07000000', 'b': '77.61600000', 'B': '17.01000000', 'a': '78.13200000', 'A': '1.28000000', 'o': '69.78900000', 'h': '78.11300000', 'l': '65.87400000', 'v': '763.72000000', 'q': '55548.03552000', 'O': 1712720383104, 'C': 1712806783104, 'F': 195985, 'L': 196351, 'n': 367}, {'e': '24hrTicker', 'E': 1712806783121, 's': 'BEAMXUSDT', 'p': '0.00161200', 'P': '5.435', 'w': '0.03106437', 'x': '0.02968300', 'c': '0.03127300', 'Q': '42090.00000000', 'b': '0.03127400', 'B': '2765.00000000', 'a': '0.03128000', 'A': '2118.00000000', 'o': '0.02966100', 'h': '0.03244900', 'l': '0.02960000', 'v': '422851273.00000000', 'q': '13135608.42886000', 'O': 1712720383120, 'C': 1712806783120, 'F': 23295544, 'L': 23385362, 'n': 89819}, {'e': '24hrTicker', 'E': 1712806783599, 's': 'ARKTRY', 'p': '0.08000000', 'P': '0.259', 'w': '30.94198521', 'x': '30.93000000', 'c': '31.00000000', 'Q': '28.00000000', 'b': '30.97000000', 'B': '176.60000000', 'a': '31.01000000', 'A': '481.10000000', 'o': '30.92000000', 'h': '31.68000000', 'l': '29.48000000', 'v': '95024.10000000', 'q': '2940234.29700000', 'O': 1712720383598, 'C': 1712806783598, 'F': 1508099, 'L': 1512720, 'n': 4622}, {'e': '24hrTicker', 'E': 1712806783063, 's': 'BEAMXTRY', 'p': '0.04970000', 'P': '5.086', 'w': '1.03334003', 'x': '0.97770000', 'c': '1.02680000', 'Q': '5689.00000000', 'b': '1.02910000', 'B': '3945.00000000', 'a': '1.03030000', 'A': '2048.00000000', 'o': '0.97710000', 'h': '1.06870000', 'l': '0.97710000', 'v': '12281206.00000000', 'q': '12690661.77910000', 'O': 1712720383062, 'C': 1712806783062, 'F': 1880856, 'L': 1886318, 'n': 5463}, {'e': '24hrTicker', 'E': 1712806783383, 's': 'VANRYUSDT', 'p': '-0.00468000', 'P': '-2.120', 'w': '0.21578359', 'x': '0.22065000', 'c': '0.21606000', 'Q': '49.00000000', 'b': '0.21606000', 'B': '3191.00000000', 'a': '0.21614000', 'A': '199.00000000', 'o': '0.22074000', 'h': '0.22447000', 'l': '0.20510000', 'v': '44015783.00000000', 'q': '9497883.62912000', 'O': 1712720383382, 'C': 1712806783382, 'F': 14296110, 'L': 14383970, 'n': 87861}, {'e': '24hrTicker', 'E': 1712806782765, 's': 'BTCAEUR', 'p': '2031.08000000', 'P': '3.193', 'w': '63917.54063674', 'x': '63630.78000000', 'c': '65639.07000000', 'Q': '0.03630000', 'b': '65530.61000000', 'B': '0.06009000', 'a': '65678.98000000', 'A': '0.00141000', 'o': '63607.99000000', 'h': '66318.25000000', 'l': '62340.45000000', 'v': '9.19652000', 'q': '587818.94081660', 'O': 1712720382765, 'C': 1712806782765, 'F': 171311, 'L': 172058, 'n': 748}, {'e': '24hrTicker', 'E': 1712806783616, 's': 'LUNCTRY', 'p': '0.00002900', 'P': '0.680', 'w': '0.00424882', 'x': '0.00426600', 'c': '0.00429200', 'Q': '7004.00000000', 'b': '0.00429200', 'B': '288634.00000000', 'a': '0.00429300', 'A': '3252009.00000000', 'o': '0.00426300', 'h': '0.00433800', 'l': '0.00406000', 'v': '12402335120.00000000', 'q': '52695329.43009000', 'O': 1712720383615, 'C': 1712806783615, 'F': 5113827, 'L': 5133374, 'n': 19548}, {'e': '24hrTicker', 'E': 1712806782988, 's': 'JTOUSDT', 'p': '-0.03680000', 'P': '-0.952', 'w': '3.74743511', 'x': '3.86610000', 'c': '3.83030000', 'Q': '32.70000000', 'b': '3.82890000', 'B': '2.00000000', 'a': '3.82980000', 'A': '32.70000000', 'o': '3.86710000', 'h': '3.95960000', 'l': '3.49630000', 'v': '9731115.00000000', 'q': '36466721.97185000', 'O': 1712720382988, 'C': 1712806782988, 'F': 36061518, 'L': 36230490, 'n': 168973}, {'e': '24hrTicker', 'E': 1712806783149, 's': '1000SATSUSDT', 'p': '0.00003860', 'P': '8.360', 'w': '0.00047265', 'x': '0.00046170', 'c': '0.00050030', 'Q': '1433941.00', 'b': '0.00050030', 'B': '978000.00', 'a': '0.00050040', 'A': '9340396.00', 'o': '0.00046170', 'h': '0.00050030', 'l': '0.00044360', 'v': '61602126539.00', 'q': '29116044.46315760', 'O': 1712720383148, 'C': 1712806783148, 'F': 45668746, 'L': 45823329, 'n': 154584}, {'e': '24hrTicker', 'E': 1712806783056, 's': 'FIDATRY', 'p': '0.27900000', 'P': '1.854', 'w': '14.87619813', 'x': '14.88400000', 'c': '15.33000000', 'Q': '111.60000000', 'b': '15.32200000', 'B': '510.20000000', 'a': '15.34300000', 'A': '38.10000000', 'o': '15.05100000', 'h': '15.37500000', 'l': '14.40300000', 'v': '320266.40000000', 'q': '4764346.42050000', 'O': 1712720383056, 'C': 1712806783056, 'F': 905835, 'L': 907788, 'n': 1954}, {'e': '24hrTicker', 'E': 1712806783021, 's': 'BONKUSDT', 'p': '0.00000047', 'P': '2.155', 'w': '0.00002186', 'x': '0.00002181', 'c': '0.00002228', 'Q': '13504191.00', 'b': '0.00002228', 'B': '49187029.00', 'a': '0.00002229', 'A': '269819630.00', 'o': '0.00002181', 'h': '0.00002290', 'l': '0.00002068', 'v': '1326056837643.00', 'q': '28985085.66607328', 'O': 1712720383020, 'C': 1712806783020, 'F': 129413929, 'L': 131392494, 'n': 1978566}, {'e': '24hrTicker', 'E': 1712806783214, 's': 'NFPUSDT', 'p': '0.01609000', 'P': '2.466', 'w': '0.64642206', 'x': '0.65226000', 'c': '0.66854000', 'Q': '1622.00000000', 'b': '0.66854000', 'B': '2934.00000000', 'a': '0.66860000', 'A': '30.00000000', 'o': '0.65245000', 'h': '0.66869000', 'l': '0.61555000', 'v': '20711507.00000000', 'q': '13388374.94153000', 'O': 1712720383213, 'C': 1712806783213, 'F': 25152424, 'L': 25262042, 'n': 109619}, {'e': '24hrTicker', 'E': 1712806783099, 's': 'NFPFDUSD', 'p': '0.01565000', 'P': '2.400', 'w': '0.64770135', 'x': '0.65218000', 'c': '0.66767000', 'Q': '15.00000000', 'b': '0.66818000', 'B': '193.00000000', 'a': '0.66863000', 'A': '287.00000000', 'o': '0.65202000', 'h': '0.66767000', 'l': '0.61500000', 'v': '333170.00000000', 'q': '215794.65837000', 'O': 1712720383099, 'C': 1712806783099, 'F': 470705, 'L': 471920, 'n': 1216}, {'e': '24hrTicker', 'E': 1712806783391, 's': 'AIUSDT', 'p': '0.02300000', 'P': '1.630', 'w': '1.42690540', 'x': '1.41000000', 'c': '1.43400000', 'Q': '167.00000000', 'b': '1.43300000', 'B': '1042.00000000', 'a': '1.43400000', 'A': '10803.00000000', 'o': '1.41100000', 'h': '1.50000000', 'l': '1.37500000', 'v': '9154414.00000000', 'q': '13062482.78400000', 'O': 1712720383390, 'C': 1712806783390, 'F': 26818159, 'L': 26881529, 'n': 63371}, {'e': '24hrTicker', 'E': 1712806783397, 's': 'AIBNB', 'p': '-0.00011200', 'P': '-4.583', 'w': '0.00241213', 'x': '0.00244000', 'c': '0.00233200', 'Q': '36.00000000', 'b': '0.00233300', 'B': '141.00000000', 'a': '0.00233500', 'A': '160.00000000', 'o': '0.00244400', 'h': '0.00249000', 'l': '0.00231900', 'v': '76296.00000000', 'q': '184.03573800', 'O': 1712720383397, 'C': 1712806783397, 'F': 516515, 'L': 518251, 'n': 1737}, {'e': '24hrTicker', 'E': 1712806783222, 's': 'XAIUSDT', 'p': '0.01230000', 'P': '1.210', 'w': '1.02158663', 'x': '1.01620000', 'c': '1.02860000', 'Q': '330.50000000', 'b': '1.02840000', 'B': '64.20000000', 'a': '1.02850000', 'A': '100.00000000', 'o': '1.01630000', 'h': '1.04550000', 'l': '0.97570000', 'v': '12220290.80000000', 'q': '12484085.63742000', 'O': 1712720383221, 'C': 1712806783221, 'F': 28020456, 'L': 28127161, 'n': 106706}, {'e': '24hrTicker', 'E': 1712806783208, 's': 'XAITUSD', 'p': '0.00290000', 'P': '0.284', 'w': '1.02455765', 'x': '1.01780000', 'c': '1.02440000', 'Q': '107.20000000', 'b': '1.02740000', 'B': '53.40000000', 'a': '1.02830000', 'A': '194.50000000', 'o': '1.02150000', 'h': '1.04160000', 'l': '0.98470000', 'v': '11483.20000000', 'q': '11765.20043000', 'O': 1712720383208, 'C': 1712806783208, 'F': 116205, 'L': 116428, 'n': 224}, {'e': '24hrTicker', 'E': 1712806783144, 's': 'ALTUSDT', 'p': '0.00297000', 'P': '0.519', 'w': '0.57854498', 'x': '0.57215000', 'c': '0.57522000', 'Q': '12.00000000', 'b': '0.57526000', 'B': '100.00000000', 'a': '0.57535000', 'A': '92.00000000', 'o': '0.57225000', 'h': '0.61486000', 'l': '0.53627000', 'v': '141221298.00000000', 'q': '81702873.27107000', 'O': 1712720383144, 'C': 1712806783144, 'F': 29305417, 'L': 29660060, 'n': 354644}, {'e': '24hrTicker', 'E': 1712806783366, 's': 'JUPUSDT', 'p': '0.02760000', 'P': '2.103', 'w': '1.32497187', 'x': '1.31410000', 'c': '1.34020000', 'Q': '321.30000000', 'b': '1.34040000', 'B': '100.00000000', 'a': '1.34050000', 'A': '181.50000000', 'o': '1.31260000', 'h': '1.38620000', 'l': '1.23880000', 'v': '29958357.20000000', 'q': '39693980.63848000', 'O': 1712720383366, 'C': 1712806783366, 'F': 27352361, 'L': 27533226, 'n': 180866}, {'e': '24hrTicker', 'E': 1712806783273, 's': 'JUPFDUSD', 'p': '0.02120000', 'P': '1.612', 'w': '1.32814131', 'x': '1.31500000', 'c': '1.33600000', 'Q': '256.20000000', 'b': '1.33940000', 'B': '1587.50000000', 'a': '1.34090000', 'A': '327.90000000', 'o': '1.31480000', 'h': '1.38600000', 'l': '1.24000000', 'v': '272772.10000000', 'q': '362279.89490000', 'O': 1712720383273, 'C': 1712806783273, 'F': 349154, 'L': 351154, 'n': 2001}, {'e': '24hrTicker', 'E': 1712806783030, 's': 'JUPTRY', 'p': '0.88000000', 'P': '2.035', 'w': '43.75741613', 'x': '43.30000000', 'c': '44.13000000', 'Q': '26.40000000', 'b': '44.13000000', 'B': '0.90000000', 'a': '44.16000000', 'A': '223.70000000', 'o': '43.25000000', 'h': '45.66000000', 'l': '40.69000000', 'v': '788488.80000000', 'q': '34502232.53400000', 'O': 1712720383030, 'C': 1712806783030, 'F': 1723499, 'L': 1730889, 'n': 7391}, {'e': '24hrTicker', 'E': 1712806783360, 's': 'JUPUSDC', 'p': '0.02730000', 'P': '2.080', 'w': '1.32623905', 'x': '1.31110000', 'c': '1.33960000', 'Q': '307.00000000', 'b': '1.33960000', 'B': '447.60000000', 'a': '1.34060000', 'A': '456.00000000', 'o': '1.31230000', 'h': '1.38410000', 'l': '1.23970000', 'v': '365118.40000000', 'q': '484234.28058000', 'O': 1712720383360, 'C': 1712806783360, 'F': 147656, 'L': 150207, 'n': 2552}, {'e': '24hrTicker', 'E': 1712806783504, 's': 'PIXELUSDT', 'p': '0.04510000', 'P': '7.398', 'w': '0.63529320', 'x': '0.60930000', 'c': '0.65470000', 'Q': '24.60000000', 'b': '0.65470000', 'B': '310.40000000', 'a': '0.65490000', 'A': '377.90000000', 'o': '0.60960000', 'h': '0.66600000', 'l': '0.60010000', 'v': '69800782.00000000', 'q': '44343962.35061000', 'O': 1712720383503, 'C': 1712806783503, 'F': 21856737, 'L': 22035013, 'n': 178277}, {'e': '24hrTicker', 'E': 1712806783499, 's': 'PIXELTRY', 'p': '1.43000000', 'P': '7.114', 'w': '20.88978735', 'x': '20.07000000', 'c': '21.53000000', 'Q': '191.40000000', 'b': '21.56000000', 'B': '581.60000000', 'a': '21.57000000', 'A': '1031.90000000', 'o': '20.10000000', 'h': '21.93000000', 'l': '19.78000000', 'v': '3606158.70000000', 'q': '75331888.40600000', 'O': 1712720383498, 'C': 1712806783498, 'F': 1838361, 'L': 1851026, 'n': 12666}, {'e': '24hrTicker', 'E': 1712806783365, 's': 'CKBTRY', 'p': '0.00450000', 'P': '0.423', 'w': '1.15374321', 'x': '1.06560000', 'c': '1.06890000', 'Q': '6856.00000000', 'b': '1.07180000', 'B': '16502.00000000', 'a': '1.07240000', 'A': '46117.00000000', 'o': '1.06440000', 'h': '1.24800000', 'l': '1.02860000', 'v': '212083267.00000000', 'q': '244689629.10250000', 'O': 1712720383365, 'C': 1712806783365, 'F': 710740, 'L': 744744, 'n': 34005}, {'e': '24hrTicker', 'E': 1712806783616, 's': 'AXLTRY', 'p': '1.82000000', 'P': '3.951', 'w': '45.71045819', 'x': '46.02000000', 'c': '47.89000000', 'Q': '528.35000000', 'b': '47.87000000', 'B': '191.05000000', 'a': '47.93000000', 'A': '137.50000000', 'o': '46.07000000', 'h': '47.96000000', 'l': '43.14000000', 'v': '463168.29000000', 'q': '21171634.75650000', 'O': 1712720383615, 'C': 1712806783615, 'F': 400152, 'L': 405342, 'n': 5191}, {'e': '24hrTicker', 'E': 1712806782989, 's': 'PIXELUSDC', 'p': '0.04470000', 'P': '7.318', 'w': '0.64288737', 'x': '0.60970000', 'c': '0.65550000', 'Q': '9.10000000', 'b': '0.65410000', 'B': '3248.50000000', 'a': '0.65570000', 'A': '763.70000000', 'o': '0.61080000', 'h': '0.66530000', 'l': '0.60020000', 'v': '624697.00000000', 'q': '401609.80994000', 'O': 1712720382989, 'C': 1712806782989, 'F': 75476, 'L': 77611, 'n': 2136}, {'e': '24hrTicker', 'E': 1712806783524, 's': 'STRKUSDC', 'p': '0.03000000', 'P': '1.627', 'w': '1.83738183', 'x': '1.83500000', 'c': '1.87400000', 'Q': '2.14000000', 'b': '1.87600000', 'B': '353.24000000', 'a': '1.87900000', 'A': '1245.88000000', 'o': '1.84400000', 'h': '1.88200000', 'l': '1.77200000', 'v': '87504.24000000', 'q': '160778.70049000', 'O': 1712720383523, 'C': 1712806783523, 'F': 61058, 'L': 63225, 'n': 2168}, {'e': '24hrTicker', 'E': 1712806783491, 's': 'UNIFDUSD', 'p': '-1.62600000', 'P': '-14.626', 'w': '9.95674742', 'x': '11.08600000', 'c': '9.49100000', 'Q': '1.26000000', 'b': '9.48900000', 'B': '8.97000000', 'a': '9.49900000', 'A': '113.22000000', 'o': '11.11700000', 'h': '11.31700000', 'l': '9.00000000', 'v': '139347.22000000', 'q': '1387445.07320000', 'O': 1712720383490, 'C': 1712806783490, 'F': 65035, 'L': 72312, 'n': 7278}, {'e': '24hrTicker', 'E': 1712806783166, 's': 'THETATRY', 'p': '7.85000000', 'P': '8.621', 'w': '96.11491692', 'x': '90.72000000', 'c': '98.91000000', 'Q': '7.50000000', 'b': '98.65000000', 'B': '224.80000000', 'a': '98.95000000', 'A': '224.80000000', 'o': '91.06000000', 'h': '102.43000000', 'l': '86.77000000', 'v': '56936.50000000', 'q': '5472446.96700000', 'O': 1712720383165, 'C': 1712806783165, 'F': 171412, 'L': 174378, 'n': 2967}, {'e': '24hrTicker', 'E': 1712806783137, 's': 'WIFBTC', 'p': '0.00000173', 'P': '3.487', 'w': '0.00005059', 'x': '0.00004965', 'c': '0.00005135', 'Q': '109.42000000', 'b': '0.00005138', 'B': '54.86000000', 'a': '0.00005141', 'A': '112.22000000', 'o': '0.00004962', 'h': '0.00005280', 'l': '0.00004869', 'v': '2167865.66000000', 'q': '109.67159372', 'O': 1712720383137, 'C': 1712806783137, 'F': 736418, 'L': 752081, 'n': 15664}, {'e': '24hrTicker', 'E': 1712806783422, 's': 'WIFUSDT', 'p': '0.22290000', 'P': '6.513', 'w': '3.50157448', 'x': '3.42170000', 'c': '3.64510000', 'Q': '10.00000000', 'b': '3.64540000', 'B': '29.11000000', 'a': '3.64550000', 'A': '46.03000000', 'o': '3.42220000', 'h': '3.70390000', 'l': '3.28330000', 'v': '71873287.31000000', 'q': '251669668.40784100', 'O': 1712720383421, 'C': 1712806783421, 'F': 30434111, 'L': 31193820, 'n': 759710}, {'e': '24hrTicker', 'E': 1712806783326, 's': 'WIFFDUSD', 'p': '0.21820000', 'P': '6.373', 'w': '3.50912790', 'x': '3.43010000', 'c': '3.64220000', 'Q': '2.12000000', 'b': '3.64350000', 'B': '128.41000000', 'a': '3.64620000', 'A': '2.08000000', 'o': '3.42400000', 'h': '3.70350000', 'l': '3.29460000', 'v': '1663580.45000000', 'q': '5837716.56442500', 'O': 1712720383326, 'C': 1712806783326, 'F': 725590, 'L': 752021, 'n': 26432}, {'e': '24hrTicker', 'E': 1712806783162, 's': 'WIFTRY', 'p': '7.29000000', 'P': '6.475', 'w': '115.32168296', 'x': '112.74000000', 'c': '119.87000000', 'Q': '12.40000000', 'b': '120.00000000', 'B': '56.54000000', 'a': '120.09000000', 'A': '1393.34000000', 'o': '112.58000000', 'h': '122.05000000', 'l': '108.06000000', 'v': '1452256.98000000', 'q': '167476719.02470000', 'O': 1712720383161, 'C': 1712806783161, 'F': 1942494, 'L': 1973616, 'n': 31123}, {'e': '24hrTicker', 'E': 1712806783422, 's': 'METISUSDT', 'p': '-0.98000000', 'P': '-1.085', 'w': '89.48641169', 'x': '90.40000000', 'c': '89.32000000', 'Q': '3.90600000', 'b': '89.29000000', 'B': '1.11100000', 'a': '89.32000000', 'A': '1.08700000', 'o': '90.30000000', 'h': '92.69000000', 'l': '85.69000000', 'v': '90785.97900000', 'q': '8124111.49252000', 'O': 1712720383421, 'C': 1712806783421, 'F': 2339049, 'L': 2385652, 'n': 46604}, {'e': '24hrTicker', 'E': 1712806783315, 's': 'AEVOUSDT', 'p': '-0.02000000', 'P': '-0.763', 'w': '2.61119341', 'x': '2.62000000', 'c': '2.60000000', 'Q': '1209.83000000', 'b': '2.60000000', 'B': '57636.32000000', 'a': '2.61000000', 'A': '64841.28000000', 'o': '2.62000000', 'h': '2.71000000', 'l': '2.49000000', 'v': '24713718.10000000', 'q': '64532297.73050000', 'O': 1712720383315, 'C': 1712806783315, 'F': 4164696, 'L': 4231375, 'n': 66680}, {'e': '24hrTicker', 'E': 1712806783423, 's': 'FETUSDC', 'p': '0.07020000', 'P': '2.748', 'w': '2.56100891', 'x': '2.55280000', 'c': '2.62510000', 'Q': '2.00000000', 'b': '2.62900000', 'B': '190.00000000', 'a': '2.63130000', 'A': '165.00000000', 'o': '2.55490000', 'h': '2.70010000', 'l': '2.41100000', 'v': '37125.00000000', 'q': '95077.45560000', 'O': 1712720383422, 'C': 1712806783422, 'F': 38509, 'L': 39232, 'n': 724}, {'e': '24hrTicker', 'E': 1712806783461, 's': 'ETHFIFDUSD', 'p': '0.16000000', 'P': '2.931', 'w': '5.69121798', 'x': '5.45700000', 'c': '5.61800000', 'Q': '13.80000000', 'b': '5.60900000', 'B': '77.40000000', 'a': '5.61600000', 'A': '308.90000000', 'o': '5.45800000', 'h': '6.10400000', 'l': '5.23900000', 'v': '440460.90000000', 'q': '2506758.99480000', 'O': 1712720383460, 'C': 1712806783460, 'F': 400471, 'L': 408664, 'n': 8194}, {'e': '24hrTicker', 'E': 1712806783466, 's': 'RNDREUR', 'p': '-0.24300000', 'P': '-2.819', 'w': '8.43095329', 'x': '8.48500000', 'c': '8.37800000', 'Q': '70.72000000', 'b': '8.41600000', 'B': '10.99000000', 'a': '8.59700000', 'A': '14.82000000', 'o': '8.62100000', 'h': '8.76600000', 'l': '8.13600000', 'v': '1975.05000000', 'q': '16651.55430000', 'O': 1712720383465, 'C': 1712806783465, 'F': 2458, 'L': 2566, 'n': 109}, {'e': '24hrTicker', 'E': 1712806783213, 's': 'FLOKIUSDC', 'p': '0.00000380', 'P': '1.972', 'w': '0.00019479', 'x': '0.00018973', 'c': '0.00019654', 'Q': '551176.00', 'b': '0.00019666', 'B': '1271209.00', 'a': '0.00019671', 'A': '1822116.00', 'o': '0.00019274', 'h': '0.00019980', 'l': '0.00018525', 'v': '428397019.00', 'q': '83446.12348881', 'O': 1712720383212, 'C': 1712806783212, 'F': 5492, 'L': 5938, 'n': 447}, {'e': '24hrTicker', 'E': 1712806783290, 's': 'ENAUSDT', 'p': '0.13800000', 'P': '10.439', 'w': '1.41009287', 'x': '1.32300000', 'c': '1.46000000', 'Q': '151.20000000', 'b': '1.45900000', 'B': '8888.97000000', 'a': '1.46000000', 'A': '6493.81000000', 'o': '1.32200000', 'h': '1.51000000', 'l': '1.30200000', 'v': '559688508.47000000', 'q': '789212776.25365000', 'O': 1712720383289, 'C': 1712806783289, 'F': 8600118, 'L': 9550974, 'n': 950857}, {'e': '24hrTicker', 'E': 1712806783111, 's': 'ENABNB', 'p': '0.00008280', 'P': '3.614', 'w': '0.00237352', 'x': '0.00229230', 'c': '0.00237410', 'Q': '19.08000000', 'b': '0.00237370', 'B': '139.04000000', 'a': '0.00237600', 'A': '25.10000000', 'o': '0.00229130', 'h': '0.00251470', 'l': '0.00226360', 'v': '2336528.93000000', 'q': '5545.79700235', 'O': 1712720383110, 'C': 1712806783110, 'F': 108015, 'L': 115463, 'n': 7449}, {'e': '24hrTicker', 'E': 1712806783109, 's': 'ENAFDUSD', 'p': '0.13800000', 'P': '10.439', 'w': '1.40626383', 'x': '1.32300000', 'c': '1.46000000', 'Q': '11.29000000', 'b': '1.45900000', 'B': '1330.01000000', 'a': '1.46000000', 'A': '100.68000000', 'o': '1.32200000', 'h': '1.51000000', 'l': '1.30300000', 'v': '22719713.29000000', 'q': '31949911.06388000', 'O': 1712720383108, 'C': 1712806783108, 'F': 570758, 'L': 645090, 'n': 74333}, {'e': '24hrTicker', 'E': 1712806783518, 's': 'WBTC', 'p': '-0.00000060', 'P': '-4.979', 'w': '0.00001196', 'x': '0.00001202', 'c': '0.00001145', 'Q': '40.00000000', 'b': '0.00001147', 'B': '613.80000000', 'a': '0.00001149', 'A': '1837.80000000', 'o': '0.00001205', 'h': '0.00001267', 'l': '0.00001134', 'v': '1279978.40000000', 'q': '15.30416930', 'O': 1712720383517, 'C': 1712806783517, 'F': 91566, 'L': 95444, 'n': 3879}, {'e': '24hrTicker', 'E': 1712806783520, 's': 'WUSDT', 'p': '-0.01600000', 'P': '-1.928', 'w': '0.82931275', 'x': '0.83000000', 'c': '0.81400000', 'Q': '23.70000000', 'b': '0.81400000', 'B': '3517.50000000', 'a': '0.81500000', 'A': '25687.80000000', 'o': '0.83000000', 'h': '0.88000000', 'l': '0.78300000', 'v': '94762938.40000000', 'q': '78588112.79070000', 'O': 1712720383520, 'C': 1712806783520, 'F': 2800720, 'L': 2965600, 'n': 164881}, {'e': '24hrTicker', 'E': 1712806783525, 's': 'WFDUSD', 'p': '-0.01700000', 'P': '-2.046', 'w': '0.82876535', 'x': '0.83200000', 'c': '0.81400000', 'Q': '153.90000000', 'b': '0.81300000', 'B': '4725.70000000', 'a': '0.81500000', 'A': '24985.20000000', 'o': '0.83100000', 'h': '0.87900000', 'l': '0.78400000', 'v': '5248228.40000000', 'q': '4349549.84400000', 'O': 1712720383524, 'C': 1712806783524, 'F': 176794, 'L': 188335, 'n': 11542}, {'e': '24hrTicker', 'E': 1712806783521, 's': 'WTRY', 'p': '-0.53000000', 'P': '-1.939', 'w': '27.24938475', 'x': '27.38000000', 'c': '26.80000000', 'Q': '1047.90000000', 'b': '26.80000000', 'B': '435.60000000', 'a': '26.82000000', 'A': '1223.70000000', 'o': '27.33000000', 'h': '28.86000000', 'l': '25.80000000', 'v': '15581152.00000000', 'q': '424576805.74500000', 'O': 1712720383521, 'C': 1712806783521, 'F': 616654, 'L': 658625, 'n': 41972}, {'e': '24hrTicker', 'E': 1712806783608, 's': 'WIFUSDC', 'p': '-0.59960000', 'P': '-14.259', 'w': '3.50380949', 'x': '3.34650000', 'c': '3.60550000', 'Q': '2.88000000', 'b': '3.64100000', 'B': '27.46000000', 'a': '3.84310000', 'A': '16.54000000', 'o': '4.20510000', 'h': '4.20510000', 'l': '3.31770000', 'v': '4464.80000000', 'q': '15643.80862900', 'O': 1712720383607, 'C': 1712806783607, 'F': 2620, 'L': 2755, 'n': 136}, {'e': '24hrTicker', 'E': 1712806783208, 's': 'TNSRFDUSD', 'p': '-0.16450000', 'P': '-9.483', 'w': '1.62965606', 'x': '1.73720000', 'c': '1.57010000', 'Q': '26.70000000', 'b': '1.57010000', 'B': '100.60000000', 'a': '1.57190000', 'A': '62.70000000', 'o': '1.73460000', 'h': '1.74720000', 'l': '1.53000000', 'v': '1680559.10000000', 'q': '2738733.32232000', 'O': 1712720383207, 'C': 1712806783207, 'F': 81205, 'L': 92370, 'n': 11166}, {'e': '24hrTicker', 'E': 1712806782626, 's': 'SAGAUSDT', 'p': '-0.39190000', 'P': '-6.330', 'w': '5.97840963', 'x': '6.19260000', 'c': '5.79960000', 'Q': '5.40000000', 'b': '5.79660000', 'B': '16.30000000', 'a': '5.79950000', 'A': '3.50000000', 'o': '6.19150000', 'h': '6.48290000', 'l': '5.58990000', 'v': '38054868.20000000', 'q': '227507590.35502000', 'O': 1712720382625, 'C': 1712806782625, 'F': 2974631, 'L': 3693255, 'n': 718625}, {'e': '24hrTicker', 'E': 1712806782631, 's': 'SAGABNB', 'p': '-0.00133000', 'P': '-12.384', 'w': '0.01013838', 'x': '0.01077400', 'c': '0.00941000', 'Q': '27.50000000', 'b': '0.00942600', 'B': '171.20000000', 'a': '0.00944600', 'A': '34.90000000', 'o': '0.01074000', 'h': '0.01128500', 'l': '0.00928500', 'v': '308783.70000000', 'q': '3130.56734570', 'O': 1712720382631, 'C': 1712806782631, 'F': 84592, 'L': 94651, 'n': 10060}, {'e': '24hrTicker', 'E': 1712806783501, 's': 'SAGATRY', 'p': '-13.02000000', 'P': '-6.382', 'w': '198.27215543', 'x': '204.00000000', 'c': '190.98000000', 'Q': '116.40000000', 'b': '190.79000000', 'B': '38.50000000', 'a': '191.00000000', 'A': '11.00000000', 'o': '204.00000000', 'h': '212.83000000', 'l': '182.04000000', 'v': '3811907.70000000', 'q': '755795155.98100000', 'O': 1712720383501, 'C': 1712806783501, 'F': 313996, 'L': 371169, 'n': 57174}]\n",
      "Error: \n",
      "Closed\n"
     ]
    },
    {
     "data": {
      "text/plain": [
       "True"
      ]
     },
     "execution_count": 114,
     "metadata": {},
     "output_type": "execute_result"
    }
   ],
   "source": [
    "ws.run_forever()"
   ]
  },
  {
   "cell_type": "markdown",
   "id": "147866d8-bb60-476c-9333-f27634810904",
   "metadata": {},
   "source": [
    "### Payload "
   ]
  },
  {
   "cell_type": "markdown",
   "id": "515f4520-6587-4292-a353-d2537f55590d",
   "metadata": {},
   "source": [
    "[ <br>\n",
    "  { <br>\n",
    "    // Same as <symbol>@ticker payload <br>\n",
    "  } <br>\n",
    "] <br>"
   ]
  },
  {
   "cell_type": "code",
   "execution_count": null,
   "id": "7f1b2298-bdc4-4ad6-af91-c0ebbebae91b",
   "metadata": {},
   "outputs": [],
   "source": []
  },
  {
   "cell_type": "markdown",
   "id": "9e5af8e6-21e3-479c-96ee-e85ea499a6f9",
   "metadata": {},
   "source": [
    "# Individual Symbol Rolling Window Statisitics Streams\n",
    "\n",
    "Rolling window ticker statistics for a single symbol, computed over multiple windows.<br>\n",
    "\n",
    "Stream Name: symbol@ticker_window_size <br>\n",
    "\n",
    "Window Sizes: 1h,4h,1d <br>\n",
    "\n",
    "Update Speed: 1000ms <br>\n",
    "\n",
    "Note: This stream is different from the symbol@ticker stream. <br>\n",
    "\n",
    "The open time O always starts on a minute, while the closing time C is the current time of the update. <br>\n",
    "\n",
    "As such, the effective window might be up to 59999ms wider that window_size. <br>"
   ]
  },
  {
   "cell_type": "code",
   "execution_count": 77,
   "id": "94ce94ed-8f6f-4d47-94cf-561d5fc826d8",
   "metadata": {},
   "outputs": [],
   "source": [
    "url = 'wss://stream.binance.com:9443/ws/'"
   ]
  },
  {
   "cell_type": "code",
   "execution_count": 78,
   "id": "00d7693b-bf38-4fbf-8da2-2566baedf6fe",
   "metadata": {},
   "outputs": [],
   "source": [
    "symbol = 'ethbtc'"
   ]
  },
  {
   "cell_type": "code",
   "execution_count": 79,
   "id": "f6e3e2bd-5333-4c1a-b527-087093fbd52f",
   "metadata": {},
   "outputs": [],
   "source": [
    "stream = '@ticker_'"
   ]
  },
  {
   "cell_type": "code",
   "execution_count": 80,
   "id": "3b11099d-9e57-4f35-8c70-fbb42dc03d98",
   "metadata": {},
   "outputs": [],
   "source": [
    "window_size = '1d'"
   ]
  },
  {
   "cell_type": "code",
   "execution_count": 81,
   "id": "3c6b6f25-4505-40e6-80a8-a5ea87fb2ee7",
   "metadata": {},
   "outputs": [],
   "source": [
    "long_url = url + symbol + stream + window_size"
   ]
  },
  {
   "cell_type": "code",
   "execution_count": 82,
   "id": "08329e9b-836c-4f8c-a54d-c3fc34aae8af",
   "metadata": {},
   "outputs": [
    {
     "name": "stdout",
     "output_type": "stream",
     "text": [
      "wss://stream.binance.com:9443/ws/ethbtc@ticker_1d\n"
     ]
    }
   ],
   "source": [
    "print(long_url)"
   ]
  },
  {
   "cell_type": "code",
   "execution_count": 83,
   "id": "c77d721d-bec2-4d7f-9246-57f64092c70c",
   "metadata": {},
   "outputs": [],
   "source": [
    "ws = websocket.WebSocketApp(long_url, on_message=on_message, on_error=on_error, on_close=on_close)"
   ]
  },
  {
   "cell_type": "code",
   "execution_count": 84,
   "id": "c7bc2fe5-004a-4b26-95bc-362c5d63dfd5",
   "metadata": {},
   "outputs": [
    {
     "name": "stdout",
     "output_type": "stream",
     "text": [
      "{'e': '1dTicker', 'E': 1712803685302, 's': 'ETHBTC', 'p': '-0.00042000', 'P': '-0.828', 'w': '0.05058640', 'o': '0.05072000', 'h': '0.05118000', 'l': '0.04996000', 'c': '0.05030000', 'v': '33334.68510000', 'q': '1686.28171324', 'O': 1712717280000, 'C': 1712803684803, 'F': 440060405, 'L': 440165630, 'n': 105226}\n",
      "{'e': '1dTicker', 'E': 1712803697302, 's': 'ETHBTC', 'p': '-0.00043000', 'P': '-0.848', 'w': '0.05058639', 'o': '0.05072000', 'h': '0.05118000', 'l': '0.04996000', 'c': '0.05029000', 'v': '33335.84560000', 'q': '1686.34007477', 'O': 1712717280000, 'C': 1712803696417, 'F': 440060405, 'L': 440165636, 'n': 105232}\n",
      "{'e': '1dTicker', 'E': 1712803698302, 's': 'ETHBTC', 'p': '-0.00045000', 'P': '-0.887', 'w': '0.05058633', 'o': '0.05072000', 'h': '0.05118000', 'l': '0.04996000', 'c': '0.05027000', 'v': '33342.86550000', 'q': '1686.69303330', 'O': 1712717280000, 'C': 1712803697372, 'F': 440060405, 'L': 440165662, 'n': 105258}\n",
      "{'e': '1dTicker', 'E': 1712803699302, 's': 'ETHBTC', 'p': '-0.00045000', 'P': '-0.887', 'w': '0.05058632', 'o': '0.05072000', 'h': '0.05118000', 'l': '0.04996000', 'c': '0.05027000', 'v': '33343.86510000', 'q': '1686.74328318', 'O': 1712717280000, 'C': 1712803698366, 'F': 440060405, 'L': 440165667, 'n': 105263}\n",
      "{'e': '1dTicker', 'E': 1712803700303, 's': 'ETHBTC', 'p': '-0.00044000', 'P': '-0.868', 'w': '0.05058631', 'o': '0.05072000', 'h': '0.05118000', 'l': '0.04996000', 'c': '0.05028000', 'v': '33344.86410000', 'q': '1686.79351289', 'O': 1712717280000, 'C': 1712803700251, 'F': 440060405, 'L': 440165670, 'n': 105266}\n",
      "Error: \n",
      "Closed\n"
     ]
    },
    {
     "data": {
      "text/plain": [
       "True"
      ]
     },
     "execution_count": 84,
     "metadata": {},
     "output_type": "execute_result"
    }
   ],
   "source": [
    "ws.run_forever()"
   ]
  },
  {
   "cell_type": "markdown",
   "id": "1875cf46-3d94-4965-9081-11d973424045",
   "metadata": {},
   "source": [
    "### Payload"
   ]
  },
  {
   "cell_type": "markdown",
   "id": "b2ab9be2-f7d1-4554-86c4-b6dca4a92b63",
   "metadata": {},
   "source": [
    "{ <br>\n",
    "  \"e\": \"1hTicker\",    // Event type <br>\n",
    "  \"E\": 1672515782136,     // Event time <br>\n",
    "  \"s\": \"BNBBTC\",      // Symbol <br>\n",
    "  \"p\": \"0.0015\",      // Price change <br>\n",
    "  \"P\": \"250.00\",      // Price change percent <br>\n",
    "  \"o\": \"0.0010\",      // Open price <br>\n",
    "  \"h\": \"0.0025\",      // High price <br>\n",
    "  \"l\": \"0.0010\",      // Low price <br>\n",
    "  \"c\": \"0.0025\",      // Last price <br>\n",
    "  \"w\": \"0.0018\",      // Weighted average price <br>\n",
    "  \"v\": \"10000\",       // Total traded base asset volume <br>\n",
    "  \"q\": \"18\",          // Total traded quote asset volume <br>\n",
    "  \"O\": 0,             // Statistics open time <br>\n",
    "  \"C\": 86400000,      // Statistics close time <br>\n",
    "  \"F\": 0,             // First trade ID <br>\n",
    "  \"L\": 18150,         // Last trade Id <br>\n",
    "  \"n\": 18151          // Total number of trades <br>\n",
    "} <br>"
   ]
  },
  {
   "cell_type": "code",
   "execution_count": null,
   "id": "d180493e-73e3-46d2-93b3-b46a22e9c101",
   "metadata": {},
   "outputs": [],
   "source": []
  },
  {
   "cell_type": "markdown",
   "id": "dc6d756c-3474-42f5-b8e9-e3fe5515bab7",
   "metadata": {},
   "source": [
    "# Individual Symbol Book Ticker Streams\n",
    "Pushes any update to the best bid or ask's price or quantity in real-time for a specified symbol.<br>\n",
    "\n",
    "Multiple symbol@bookTicker streams can be subscribed to over one connection.<br>\n",
    "\n",
    "Stream Name: symbol@bookTicker <br>\n",
    "\n",
    "Update Speed: Real-time <br>"
   ]
  },
  {
   "cell_type": "code",
   "execution_count": 85,
   "id": "fa33b202-ec4f-47df-a260-8e7b504c10d8",
   "metadata": {},
   "outputs": [],
   "source": [
    "url = 'wss://stream.binance.com:9443/ws/'"
   ]
  },
  {
   "cell_type": "code",
   "execution_count": 86,
   "id": "43c55152-196f-4208-ab31-ac07e8f8ec92",
   "metadata": {},
   "outputs": [],
   "source": [
    "symbol = 'ethbtc'"
   ]
  },
  {
   "cell_type": "code",
   "execution_count": 87,
   "id": "919d7e39-77d0-4266-80a3-097425923ea4",
   "metadata": {},
   "outputs": [],
   "source": [
    "stream = '@bookTicker'"
   ]
  },
  {
   "cell_type": "code",
   "execution_count": 88,
   "id": "d4e8f74a-2198-4289-ada2-914889cb3e60",
   "metadata": {},
   "outputs": [],
   "source": [
    "long_url = url + symbol + stream"
   ]
  },
  {
   "cell_type": "code",
   "execution_count": 89,
   "id": "ac6e2de1-85f1-4f08-a618-5d0cd1e9c5be",
   "metadata": {},
   "outputs": [],
   "source": [
    "ws = websocket.WebSocketApp(long_url, on_message=on_message, on_error=on_error, on_close=on_close)"
   ]
  },
  {
   "cell_type": "code",
   "execution_count": 90,
   "id": "fdd60b63-21f8-4ffd-9bff-022956222365",
   "metadata": {},
   "outputs": [
    {
     "name": "stdout",
     "output_type": "stream",
     "text": [
      "{'u': 7239242033, 's': 'ETHBTC', 'b': '0.05026000', 'B': '27.48820000', 'a': '0.05027000', 'A': '33.40050000'}\n",
      "{'u': 7239242035, 's': 'ETHBTC', 'b': '0.05026000', 'B': '24.55860000', 'a': '0.05027000', 'A': '33.40050000'}\n",
      "{'u': 7239242036, 's': 'ETHBTC', 'b': '0.05026000', 'B': '23.63320000', 'a': '0.05027000', 'A': '33.40050000'}\n",
      "{'u': 7239242037, 's': 'ETHBTC', 'b': '0.05026000', 'B': '23.61460000', 'a': '0.05027000', 'A': '33.40050000'}\n",
      "{'u': 7239242038, 's': 'ETHBTC', 'b': '0.05026000', 'B': '20.80410000', 'a': '0.05027000', 'A': '33.40050000'}\n",
      "{'u': 7239242044, 's': 'ETHBTC', 'b': '0.05026000', 'B': '20.35930000', 'a': '0.05027000', 'A': '33.40050000'}\n",
      "{'u': 7239242045, 's': 'ETHBTC', 'b': '0.05026000', 'B': '19.86980000', 'a': '0.05027000', 'A': '33.40050000'}\n",
      "{'u': 7239242046, 's': 'ETHBTC', 'b': '0.05026000', 'B': '19.15400000', 'a': '0.05027000', 'A': '33.40050000'}\n",
      "{'u': 7239242050, 's': 'ETHBTC', 'b': '0.05026000', 'B': '15.58790000', 'a': '0.05027000', 'A': '33.40050000'}\n",
      "{'u': 7239242052, 's': 'ETHBTC', 'b': '0.05026000', 'B': '15.58790000', 'a': '0.05027000', 'A': '40.00050000'}\n",
      "{'u': 7239242054, 's': 'ETHBTC', 'b': '0.05026000', 'B': '15.58790000', 'a': '0.05027000', 'A': '40.80050000'}\n",
      "Error: \n",
      "Closed\n"
     ]
    },
    {
     "data": {
      "text/plain": [
       "True"
      ]
     },
     "execution_count": 90,
     "metadata": {},
     "output_type": "execute_result"
    }
   ],
   "source": [
    "ws.run_forever()"
   ]
  },
  {
   "cell_type": "markdown",
   "id": "d4787eb1-0588-4981-8aa7-d5556d9893ed",
   "metadata": {},
   "source": [
    "### Payload "
   ]
  },
  {
   "cell_type": "markdown",
   "id": "1be65136-8021-49b0-8481-8deb0d892b4a",
   "metadata": {},
   "source": [
    "{ <br>\n",
    "  \"u\":400900217,     // order book updateId <br>\n",
    "  \"s\":\"BNBUSDT\",     // symbol <br>\n",
    "  \"b\":\"25.35190000\", // best bid price <br>\n",
    "  \"B\":\"31.21000000\", // best bid qty <br>\n",
    "  \"a\":\"25.36520000\", // best ask price <br>\n",
    "  \"A\":\"40.66000000\"  // best ask qty <br>\n",
    "} <br>"
   ]
  },
  {
   "cell_type": "code",
   "execution_count": null,
   "id": "8669afd9-7413-45b1-abcd-c1cdd3b13be5",
   "metadata": {},
   "outputs": [],
   "source": []
  },
  {
   "cell_type": "markdown",
   "id": "6dbee0de-23c0-49d1-926c-3bcf20e0b4bd",
   "metadata": {},
   "source": [
    "# Partial Book Depth Streams\n",
    "\n",
    "Top bids and asks, Valid are 5, 10, or 20. <br>\n",
    "\n",
    "Stream Names: symbo@depth(levels) OR symbol@depth(levels)@100ms.\n",
    "\n",
    "Update Speed: 1000ms or 100ms"
   ]
  },
  {
   "cell_type": "code",
   "execution_count": 92,
   "id": "5b47b697-5dd4-4240-93cc-dc46c209f7b8",
   "metadata": {},
   "outputs": [],
   "source": [
    "url = 'wss://stream.binance.com:9443/ws/'"
   ]
  },
  {
   "cell_type": "code",
   "execution_count": 93,
   "id": "1cd3c09c-b750-48e8-a05a-6d7431c6bdb8",
   "metadata": {},
   "outputs": [],
   "source": [
    "symbol = 'ethbtc'"
   ]
  },
  {
   "cell_type": "code",
   "execution_count": 94,
   "id": "81b5497c-fc57-43ed-a829-d322dfcca44a",
   "metadata": {},
   "outputs": [],
   "source": [
    "stream = '@depth'"
   ]
  },
  {
   "cell_type": "code",
   "execution_count": 95,
   "id": "1fc3432b-b319-446b-a519-b2ef31dc70b9",
   "metadata": {},
   "outputs": [],
   "source": [
    "levels = '5'"
   ]
  },
  {
   "cell_type": "code",
   "execution_count": 96,
   "id": "4fe6ff7a-de68-41d8-b8cd-be6164289454",
   "metadata": {},
   "outputs": [],
   "source": [
    "update_speed = '@100ms'"
   ]
  },
  {
   "cell_type": "code",
   "execution_count": 97,
   "id": "302b729d-97c0-44da-9f49-e819bc948a23",
   "metadata": {},
   "outputs": [],
   "source": [
    "long_url = url + symbol + stream + levels + update_speed"
   ]
  },
  {
   "cell_type": "code",
   "execution_count": 98,
   "id": "1e7ef543-1a26-4f27-a586-55790e8ef24a",
   "metadata": {},
   "outputs": [
    {
     "name": "stdout",
     "output_type": "stream",
     "text": [
      "wss://stream.binance.com:9443/ws/ethbtc@depth5@100ms\n"
     ]
    }
   ],
   "source": [
    "print(long_url)"
   ]
  },
  {
   "cell_type": "code",
   "execution_count": 99,
   "id": "e85d7657-74db-4ade-befc-47376478db89",
   "metadata": {},
   "outputs": [],
   "source": [
    "ws = websocket.WebSocketApp(long_url, on_message=on_message, on_error=on_error, on_close=on_close)"
   ]
  },
  {
   "cell_type": "code",
   "execution_count": 100,
   "id": "49f80773-2268-4ee5-ac4b-9ce0fb2475b0",
   "metadata": {},
   "outputs": [
    {
     "name": "stdout",
     "output_type": "stream",
     "text": [
      "{'lastUpdateId': 7239249059, 'bids': [['0.05029000', '18.78450000'], ['0.05028000', '22.01090000'], ['0.05027000', '31.83930000'], ['0.05026000', '45.13390000'], ['0.05025000', '27.68330000']], 'asks': [['0.05030000', '20.95080000'], ['0.05031000', '25.16940000'], ['0.05032000', '33.00810000'], ['0.05033000', '26.31130000'], ['0.05034000', '41.84060000']]}\n",
      "{'lastUpdateId': 7239249061, 'bids': [['0.05029000', '18.78450000'], ['0.05028000', '22.01090000'], ['0.05027000', '31.83930000'], ['0.05026000', '45.13390000'], ['0.05025000', '27.68330000']], 'asks': [['0.05030000', '20.95080000'], ['0.05031000', '26.16940000'], ['0.05032000', '32.00810000'], ['0.05033000', '26.31130000'], ['0.05034000', '41.84060000']]}\n",
      "{'lastUpdateId': 7239249063, 'bids': [['0.05029000', '18.78450000'], ['0.05028000', '22.01090000'], ['0.05027000', '31.83930000'], ['0.05026000', '45.13390000'], ['0.05025000', '27.68330000']], 'asks': [['0.05030000', '20.95080000'], ['0.05031000', '26.16940000'], ['0.05032000', '32.00810000'], ['0.05033000', '26.31130000'], ['0.05034000', '41.84060000']]}\n",
      "{'lastUpdateId': 7239249064, 'bids': [['0.05029000', '18.78450000'], ['0.05028000', '22.01090000'], ['0.05027000', '31.83930000'], ['0.05026000', '45.13390000'], ['0.05025000', '27.68330000']], 'asks': [['0.05030000', '20.95080000'], ['0.05031000', '26.16940000'], ['0.05032000', '32.00810000'], ['0.05033000', '26.31130000'], ['0.05034000', '41.84060000']]}\n",
      "{'lastUpdateId': 7239249070, 'bids': [['0.05029000', '15.98280000'], ['0.05028000', '24.81260000'], ['0.05027000', '31.83930000'], ['0.05026000', '45.13390000'], ['0.05025000', '27.68330000']], 'asks': [['0.05030000', '21.75080000'], ['0.05031000', '25.36940000'], ['0.05032000', '32.00810000'], ['0.05033000', '26.31130000'], ['0.05034000', '42.22080000']]}\n",
      "{'lastUpdateId': 7239249076, 'bids': [['0.05029000', '15.98280000'], ['0.05028000', '24.81260000'], ['0.05027000', '31.83930000'], ['0.05026000', '45.13390000'], ['0.05025000', '27.68330000']], 'asks': [['0.05030000', '21.75080000'], ['0.05031000', '24.36940000'], ['0.05032000', '33.00810000'], ['0.05033000', '26.31130000'], ['0.05034000', '42.22080000']]}\n",
      "{'lastUpdateId': 7239249077, 'bids': [['0.05029000', '15.98280000'], ['0.05028000', '25.75110000'], ['0.05027000', '31.83930000'], ['0.05026000', '45.13390000'], ['0.05025000', '27.68330000']], 'asks': [['0.05030000', '21.75080000'], ['0.05031000', '24.36940000'], ['0.05032000', '33.00810000'], ['0.05033000', '26.31130000'], ['0.05034000', '42.22080000']]}\n",
      "{'lastUpdateId': 7239249094, 'bids': [['0.05029000', '15.98280000'], ['0.05028000', '25.75110000'], ['0.05027000', '31.83930000'], ['0.05026000', '44.69920000'], ['0.05025000', '27.68330000']], 'asks': [['0.05030000', '30.36990000'], ['0.05031000', '24.36940000'], ['0.05032000', '33.00810000'], ['0.05033000', '26.31130000'], ['0.05034000', '43.44320000']]}\n",
      "{'lastUpdateId': 7239249097, 'bids': [['0.05029000', '15.98280000'], ['0.05028000', '25.75110000'], ['0.05027000', '31.83930000'], ['0.05026000', '44.69920000'], ['0.05025000', '27.68330000']], 'asks': [['0.05030000', '30.36990000'], ['0.05031000', '25.36940000'], ['0.05032000', '33.00810000'], ['0.05033000', '26.31130000'], ['0.05034000', '43.44320000']]}\n",
      "{'lastUpdateId': 7239249099, 'bids': [['0.05029000', '15.98280000'], ['0.05028000', '25.75110000'], ['0.05027000', '31.83930000'], ['0.05026000', '44.69920000'], ['0.05025000', '27.68330000']], 'asks': [['0.05030000', '30.36990000'], ['0.05031000', '24.36940000'], ['0.05032000', '33.00810000'], ['0.05033000', '26.31130000'], ['0.05034000', '43.44320000']]}\n",
      "{'lastUpdateId': 7239249100, 'bids': [['0.05029000', '15.98280000'], ['0.05028000', '25.75110000'], ['0.05027000', '31.83930000'], ['0.05026000', '44.69920000'], ['0.05025000', '27.68330000']], 'asks': [['0.05030000', '30.36990000'], ['0.05031000', '24.36940000'], ['0.05032000', '33.00810000'], ['0.05033000', '26.31130000'], ['0.05034000', '43.44320000']]}\n",
      "Error: \n",
      "Closed\n"
     ]
    },
    {
     "data": {
      "text/plain": [
       "True"
      ]
     },
     "execution_count": 100,
     "metadata": {},
     "output_type": "execute_result"
    }
   ],
   "source": [
    "ws.run_forever()"
   ]
  },
  {
   "cell_type": "markdown",
   "id": "46e01608-e244-46ef-8e0e-47ff95111ac0",
   "metadata": {},
   "source": [
    "### Payload"
   ]
  },
  {
   "cell_type": "markdown",
   "id": "d3bec13a-5870-40ee-9f84-77d99707b3ee",
   "metadata": {},
   "source": [
    "{ <br>\n",
    "  \"lastUpdateId\": 160,  // Last update ID <br>\n",
    "  \"bids\": [             // Bids to be updated <br>\n",
    "    [ <br>\n",
    "      \"0.0024\",         // Price level to be updated <br>\n",
    "      \"10\"              // Quantity <br>\n",
    "    ] <br>\n",
    "  ], <br>\n",
    "  \"asks\": [             // Asks to be updated <br>\n",
    "    [ <br>\n",
    "      \"0.0026\",         // Price level to be updated <br>\n",
    "      \"100\"             // Quantity <br>\n",
    "    ] <br>\n",
    "  ] <br>\n",
    "} <br>"
   ]
  },
  {
   "cell_type": "code",
   "execution_count": null,
   "id": "672dcce3-e0e8-4894-9033-435a739aaec8",
   "metadata": {},
   "outputs": [],
   "source": []
  },
  {
   "cell_type": "markdown",
   "id": "9738785c-0a29-4250-9eac-90041438992b",
   "metadata": {},
   "source": [
    "# Diff. Depth Stream\n",
    "\n",
    "Stream Name: symbol@depth OR symbol@depth@100ms <br>\n",
    "\n",
    "Update Speed: 1000ms or 100ms <br>\n",
    "\n",
    "Order book price and quantity depth updates used to locally manage an order book. <br>"
   ]
  },
  {
   "cell_type": "code",
   "execution_count": 102,
   "id": "3de62a26-3e9a-4b6f-bed9-28ff94d5902c",
   "metadata": {},
   "outputs": [],
   "source": [
    "url = 'wss://stream.binance.com:9443/ws/'"
   ]
  },
  {
   "cell_type": "code",
   "execution_count": 103,
   "id": "9658a3f5-0453-4f72-aa6f-de21eb263011",
   "metadata": {},
   "outputs": [],
   "source": [
    "symbol = 'ethbtc'"
   ]
  },
  {
   "cell_type": "code",
   "execution_count": 104,
   "id": "8a5fbebd-1d0b-40fe-be27-2e9a57b9edd1",
   "metadata": {},
   "outputs": [],
   "source": [
    "stream = '@depth'"
   ]
  },
  {
   "cell_type": "code",
   "execution_count": 105,
   "id": "27c3da11-05e1-43f8-9dd8-92d426bcc337",
   "metadata": {},
   "outputs": [],
   "source": [
    "update_speed = '@100ms'"
   ]
  },
  {
   "cell_type": "code",
   "execution_count": 106,
   "id": "00798081-44bb-493e-bdb2-973d0b3caf4c",
   "metadata": {},
   "outputs": [],
   "source": [
    "long_url = url + symbol + stream + update_speed"
   ]
  },
  {
   "cell_type": "code",
   "execution_count": 107,
   "id": "cd5b4756-1727-42f2-80f8-e6f925b3f8a8",
   "metadata": {},
   "outputs": [
    {
     "name": "stdout",
     "output_type": "stream",
     "text": [
      "wss://stream.binance.com:9443/ws/ethbtc@depth@100ms\n"
     ]
    }
   ],
   "source": [
    "print(long_url)"
   ]
  },
  {
   "cell_type": "code",
   "execution_count": 108,
   "id": "4cb8a3dc-49fa-4ba4-8e98-0bdb0a21c248",
   "metadata": {},
   "outputs": [],
   "source": [
    "ws = websocket.WebSocketApp(long_url, on_message=on_message, on_error=on_error, on_close=on_close)"
   ]
  },
  {
   "cell_type": "code",
   "execution_count": 109,
   "id": "609cc3cc-8e16-4ea3-a7d2-e9163fb3c764",
   "metadata": {},
   "outputs": [
    {
     "name": "stdout",
     "output_type": "stream",
     "text": [
      "{'e': 'depthUpdate', 'E': 1712804714022, 's': 'ETHBTC', 'U': 7239258763, 'u': 7239258763, 'b': [['0.05020000', '37.56360000']], 'a': []}\n",
      "{'e': 'depthUpdate', 'E': 1712804714923, 's': 'ETHBTC', 'U': 7239258764, 'u': 7239258767, 'b': [], 'a': [['0.05025000', '55.92000000'], ['0.05026000', '38.82470000'], ['0.05028000', '25.12360000'], ['0.05032000', '11.56430000']]}\n",
      "{'e': 'depthUpdate', 'E': 1712804715023, 's': 'ETHBTC', 'U': 7239258768, 'u': 7239258772, 'b': [['0.05023000', '13.69280000']], 'a': [['0.05035000', '4.29840000'], ['0.05038000', '46.32880000'], ['0.05041000', '8.53090000']]}\n",
      "{'e': 'depthUpdate', 'E': 1712804715123, 's': 'ETHBTC', 'U': 7239258773, 'u': 7239258799, 'b': [['0.05024000', '0.00000000'], ['0.05023000', '16.30770000'], ['0.05022000', '23.11860000'], ['0.05021000', '28.43550000'], ['0.05018000', '20.33570000']], 'a': [['0.05024000', '17.60810000'], ['0.05025000', '35.37870000'], ['0.05027000', '34.30520000'], ['0.05028000', '22.16420000'], ['0.05031000', '30.59370000']]}\n",
      "{'e': 'depthUpdate', 'E': 1712804715223, 's': 'ETHBTC', 'U': 7239258800, 'u': 7239258809, 'b': [['0.05023000', '16.40770000'], ['0.05020000', '40.37270000'], ['0.05018000', '20.36800000'], ['0.05017000', '20.50650000']], 'a': [['0.05024000', '23.60520000'], ['0.05025000', '32.22870000'], ['0.05027000', '31.34580000'], ['0.05028000', '25.12360000'], ['0.05030000', '9.84410000'], ['0.05033000', '14.13720000']]}\n",
      "{'e': 'depthUpdate', 'E': 1712804715323, 's': 'ETHBTC', 'U': 7239258810, 'u': 7239258811, 'b': [['0.05016000', '26.85720000'], ['0.05015000', '32.33410000']], 'a': []}\n",
      "{'e': 'depthUpdate', 'E': 1712804715423, 's': 'ETHBTC', 'U': 7239258812, 'u': 7239258841, 'b': [['0.05023000', '10.66920000'], ['0.05022000', '20.06270000'], ['0.05019000', '61.01520000'], ['0.05015000', '49.03310000'], ['0.05014000', '14.71270000']], 'a': [['0.05024000', '37.60250000'], ['0.05025000', '31.42870000'], ['0.05026000', '43.03540000'], ['0.05027000', '33.50520000'], ['0.05028000', '22.16420000'], ['0.05030000', '9.94150000'], ['0.05031000', '30.49530000'], ['0.05032000', '6.78020000']]}\n",
      "{'e': 'depthUpdate', 'E': 1712804715523, 's': 'ETHBTC', 'U': 7239258842, 'u': 7239258859, 'b': [['0.05023000', '7.01230000'], ['0.05022000', '28.47120000'], ['0.05021000', '25.02000000'], ['0.05020000', '44.58850000']], 'a': [['0.05026000', '43.83540000'], ['0.05027000', '33.85010000'], ['0.05028000', '21.81930000']]}\n",
      "{'e': 'depthUpdate', 'E': 1712804715623, 's': 'ETHBTC', 'U': 7239258860, 'u': 7239258864, 'b': [['0.05022000', '32.17590000']], 'a': [['0.05024000', '47.87860000'], ['0.05026000', '37.23540000'], ['0.05027000', '30.29490000']]}\n",
      "{'e': 'depthUpdate', 'E': 1712804715923, 's': 'ETHBTC', 'U': 7239258865, 'u': 7239258865, 'b': [], 'a': [['0.05028000', '21.81500000']]}\n",
      "{'e': 'depthUpdate', 'E': 1712804716024, 's': 'ETHBTC', 'U': 7239258866, 'u': 7239258866, 'b': [], 'a': [['0.05028000', '21.87500000']]}\n",
      "Error: \n",
      "Closed\n"
     ]
    },
    {
     "data": {
      "text/plain": [
       "True"
      ]
     },
     "execution_count": 109,
     "metadata": {},
     "output_type": "execute_result"
    }
   ],
   "source": [
    "ws.run_forever()"
   ]
  },
  {
   "cell_type": "markdown",
   "id": "1eb66baa-0ecc-4005-8ef5-30ad1cabc2f9",
   "metadata": {},
   "source": [
    "### Payload"
   ]
  },
  {
   "cell_type": "markdown",
   "id": "0ba597f8-c840-4065-b4ac-7e4b344043b9",
   "metadata": {},
   "source": [
    "{ <br><\n",
    "  \"e\": \"depthUpdate\", // Event type <br>\n",
    "  \"E\": 1672515782136,     // Event time <br>\n",
    "  \"s\": \"BNBBTC\",      // Symbol <br>\n",
    "  \"U\": 157,           // First update ID in event <br>\n",
    "  \"u\": 160,           // Final update ID in event <br>\n",
    "  \"b\": [              // Bids to be updated <br>\n",
    "    [ <br>\n",
    "      \"0.0024\",       // Price level to be updated <br>\n",
    "      \"10\"            // Quantity <br>\n",
    "    ] <br>\n",
    "  ], <br>\n",
    "  \"a\": [              // Asks to be updated <br>\n",
    "    [ <br>\n",
    "      \"0.0026\",       // Price level to be updated <br>\n",
    "      \"100\"           // Quantity <br>\n",
    "    ] <br>\n",
    "  ] <br>\n",
    "} <br>"
   ]
  },
  {
   "cell_type": "code",
   "execution_count": null,
   "id": "b0ea1e0f-6ea4-4d6c-aa28-27e43e4fa4ba",
   "metadata": {},
   "outputs": [],
   "source": []
  },
  {
   "cell_type": "code",
   "execution_count": null,
   "id": "4fc16a1e-4d4e-41ba-86d4-c638372dfa42",
   "metadata": {},
   "outputs": [],
   "source": []
  },
  {
   "cell_type": "code",
   "execution_count": null,
   "id": "f438910b-bcd9-4262-b357-cd25036e6fdd",
   "metadata": {},
   "outputs": [],
   "source": []
  }
 ],
 "metadata": {
  "kernelspec": {
   "display_name": "Python 3 (ipykernel)",
   "language": "python",
   "name": "python3"
  },
  "language_info": {
   "codemirror_mode": {
    "name": "ipython",
    "version": 3
   },
   "file_extension": ".py",
   "mimetype": "text/x-python",
   "name": "python",
   "nbconvert_exporter": "python",
   "pygments_lexer": "ipython3",
   "version": "3.10.14"
  }
 },
 "nbformat": 4,
 "nbformat_minor": 5
}
